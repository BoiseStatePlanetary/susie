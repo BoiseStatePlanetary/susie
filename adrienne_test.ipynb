{
 "cells": [
  {
   "cell_type": "code",
   "execution_count": 5,
   "metadata": {},
   "outputs": [],
   "source": [
    "import sys\n",
    "sys.path.append(\".\")\n",
    "import unittest\n",
    "import numpy as np\n",
    "import matplotlib.pyplot as plt\n",
    "from susie.timing_data import TimingData\n",
    "from susie.ephemeris import Ephemeris\n",
    "from scipy.optimize import curve_fit\n",
    "test_epochs = np.array([0, 294, 298, 573])\n",
    "test_mtts = np.array([0.0, 320.8780000000261, 325.24399999994785, 625.3850000002421])\n",
    "test_mtts_err = np.array([0.00043, 0.00028, 0.00062, 0.00042])\n",
    "test_tra_or_occ = np.array(['tra','occ','tra','occ'])\n",
    "test_P_linear = 1.0914223408652188 # period linear\n",
    "test_P_err_linear = 9.998517417992763e-07 # period error linear\n",
    "test_T0_linear =  -6.734666196939187e-05 # conjunction time\n",
    "test_T0_err_linear = 0.0003502975050463415 # conjunction time error\n",
    "\n",
    "test_P_quad = 1.0914215464474404 #period quad\n",
    "test_P_err_quad = 9.150815726215122e-06 # period err quad\n",
    "test_dPdE = 2.7744598987630543e-09#period change by epoch\n",
    "test_dPdE_err = 3.188345582283935e-08#period change by epoch error\n",
    "test_T0_quad = -1.415143555084551e-06 #conjunction time quad\n",
    "test_T0_err_quad = 0.00042940561938685084#conjunction time err quad\n",
    "\n",
    "test_observed_data = np.array([0.0, 320.8780000000261, 325.24399999994785, 625.3850000002421])\n",
    "test_uncertainties= np.array([0.00043, 0.00028, 0.00062, 0.00042])\n",
    "\n"
   ]
  },
  {
   "cell_type": "code",
   "execution_count": null,
   "metadata": {},
   "outputs": [],
   "source": []
  },
  {
   "cell_type": "code",
   "execution_count": 6,
   "metadata": {},
   "outputs": [],
   "source": [
    "epoch_data = np.array([0, 294, 298, 573])\n",
    "mid_transit_time_data = np.array([0.0, 320.8780000000261, 325.24399999994785, 625.3850000002421])\n",
    "mid_transit_times_uncertainties_data = np.array([0.00043, 0.00028, 0.00062, 0.00042])\n",
    "# STEP 2: Break data up into epochs, mid transit times, and error\n",
    "epochs = epoch_data - np.min(epoch_data)\n",
    "mid_transit_times = mid_transit_time_data - np.min(mid_transit_time_data)\n",
    "mid_transit_times_err = mid_transit_times_uncertainties_data\n",
    "# STEP 2.5 (Optional): Make sure the epochs are integers and not floats\n",
    "epochs = epochs.astype('int')"
   ]
  },
  {
   "cell_type": "code",
   "execution_count": 7,
   "metadata": {},
   "outputs": [],
   "source": [
    "transit_times_obj1 = TimingData('jd', epochs, mid_transit_times, mid_transit_times_err, test_tra_or_occ, time_scale='tdb')"
   ]
  },
  {
   "cell_type": "code",
   "execution_count": 24,
   "metadata": {},
   "outputs": [],
   "source": [
    "ephemeris_obj1 = Ephemeris(transit_times_obj1)"
   ]
  },
  {
   "cell_type": "code",
   "execution_count": 25,
   "metadata": {},
   "outputs": [
    {
     "data": {
      "text/plain": [
       "{'period': 1.09142234035412,\n",
       " 'period_err': 4.018260635819698e-07,\n",
       " 'conjunction_time': -6.728390649943598e-05,\n",
       " 'conjunction_time_err': 0.00013969441566829874,\n",
       " 'model_type': 'linear',\n",
       " 'model_data': array([-6.72839065e-05,  3.20878101e+02,  3.25243790e+02,  6.25384934e+02])}"
      ]
     },
     "execution_count": 25,
     "metadata": {},
     "output_type": "execute_result"
    }
   ],
   "source": [
    "linear_model_data = ephemeris_obj1.get_model_ephemeris('linear')\n",
    "linear_model_data"
   ]
  },
  {
   "cell_type": "code",
   "execution_count": 26,
   "metadata": {},
   "outputs": [
    {
     "data": {
      "text/plain": [
       "{'period': 1.0914223408652188,\n",
       " 'period_err': 9.998517417992763e-07,\n",
       " 'conjunction_time': -6.734666196939187e-05,\n",
       " 'conjunction_time_err': 0.0003502975050463415}"
      ]
     },
     "execution_count": 26,
     "metadata": {},
     "output_type": "execute_result"
    }
   ],
   "source": [
    "def linear_model(test_x, test_P_linear, test_T0_linear):\n",
    "    \"\"\"Linear model function.\"\"\"\n",
    "    return test_P_linear * test_x + test_T0_linear\n",
    "\n",
    "\n",
    "popt, pcov = curve_fit(linear_model, test_epochs, test_mtts, sigma=test_mtts_err, absolute_sigma=True)\n",
    "unc = np.sqrt(np.diag(pcov))\n",
    "return_data = {\n",
    "    'period': popt[0],\n",
    "    'period_err': unc[0],\n",
    "    'conjunction_time': popt[1],\n",
    "    'conjunction_time_err': unc[1]\n",
    "}\n",
    "return_data"
   ]
  },
  {
   "cell_type": "code",
   "execution_count": 27,
   "metadata": {},
   "outputs": [
    {
     "data": {
      "text/plain": [
       "{'conjunction_time': -1.415143555084551e-06,\n",
       " 'conjunction_time_err': 0.00042940561938685084,\n",
       " 'period': 1.0914215464474404,\n",
       " 'period_err': 9.150815726215122e-06,\n",
       " 'period_change_by_epoch': 2.7744598987630543e-09,\n",
       " 'period_change_by_epoch_err': 3.188345582283935e-08}"
      ]
     },
     "execution_count": 27,
     "metadata": {},
     "output_type": "execute_result"
    }
   ],
   "source": [
    "def quad_model(test_x, test_dPdE, test_P_quad, test_T0_quad):\n",
    "    return 0.5*test_dPdE*test_x*test_x + test_P_quad*test_x + test_T0_quad\n",
    "popt, pcov = curve_fit(quad_model, test_epochs, test_mtts, sigma=test_mtts_err, absolute_sigma=True)\n",
    "unc = np.sqrt(np.diag(pcov))\n",
    "return_data = {\n",
    "            'conjunction_time': popt[2],\n",
    "            'conjunction_time_err': unc[2],\n",
    "            'period': popt[1],\n",
    "            'period_err': unc[1],\n",
    "            'period_change_by_epoch': popt[0],\n",
    "            'period_change_by_epoch_err': unc[0],\n",
    "        }\n",
    "return_data"
   ]
  },
  {
   "cell_type": "code",
   "execution_count": 28,
   "metadata": {},
   "outputs": [
    {
     "data": {
      "text/plain": [
       "{'period': 1.091421537944888,\n",
       " 'period_err': 1.3369529628386657e-06,\n",
       " 'conjunction_time': -8.102185298292572e-07,\n",
       " 'conjunction_time_err': 0.00019627998726801882,\n",
       " 'period_change_by_epoch': 2.8048128182651046e-09,\n",
       " 'period_change_by_epoch_err': 4.3654905738095855e-09,\n",
       " 'model_type': 'quadratic',\n",
       " 'model_data': array([-8.10218530e-07,  3.20878053e+02,  3.25243742e+02,  6.25385001e+02])}"
      ]
     },
     "execution_count": 28,
     "metadata": {},
     "output_type": "execute_result"
    }
   ],
   "source": [
    "quadratic_model_data = ephemeris_obj1.get_model_ephemeris('quadratic')\n",
    "quadratic_model_data"
   ]
  },
  {
   "cell_type": "code",
   "execution_count": 36,
   "metadata": {},
   "outputs": [
    {
     "name": "stdout",
     "output_type": "stream",
     "text": [
      "[  0. 321. 325. 625.]\n",
      "[  1. 321. 326. 626.]\n"
     ]
    }
   ],
   "source": [
    "##linear fit\n",
    "P = test_P_linear\n",
    "E = test_epochs\n",
    "T0 = 0\n",
    "tra_or_occ =  np.array([0,1,0,1])\n",
    "tra = np.round(P * E +T0)\n",
    "print(tra)\n",
    "occ = np.round(P * E +(T0+0.5*P))\n",
    "print(occ)\n",
    "lin_fit = np.array([0.         , 3.21423879e+02, 325.24385758, 6.25930712e+02 ])\n"
   ]
  },
  {
   "cell_type": "code",
   "execution_count": 40,
   "metadata": {},
   "outputs": [
    {
     "name": "stdout",
     "output_type": "stream",
     "text": [
      "[  0. 321. 325. 625.]\n",
      "[  2. 322. 327. 627.]\n"
     ]
    }
   ],
   "source": [
    "##quad fit\n",
    "P = test_P_quad\n",
    "E = test_epochs\n",
    "T0 = 0\n",
    "dPdE = 0\n",
    "tra_q = np.round(0.5*dPdE*E*E + P*E + 0)\n",
    "print(tra_q)\n",
    "occ_q = np.round((1 + 0.5*P) + P*E + 0.5*dPdE*E*E)\n",
    "print(occ_q)\n",
    "quad_fit = np.array([0,321,325,626])"
   ]
  },
  {
   "cell_type": "code",
   "execution_count": null,
   "metadata": {},
   "outputs": [],
   "source": []
  },
  {
   "cell_type": "code",
   "execution_count": 42,
   "metadata": {},
   "outputs": [
    {
     "name": "stdout",
     "output_type": "stream",
     "text": [
      "[0.23692092 0.31014112 0.31190525 0.45638259]\n",
      "[0.23692141 0.31014149 0.31190562 0.45638284]\n"
     ]
    }
   ],
   "source": [
    "##linear model uncertainites\n",
    "T0_err_l = 0.23692091722329203\n",
    "P_err_l =  0.0006807480614626216\n",
    "E = test_epochs\n",
    "tra = (np.sqrt((T0_err_l**2) + ((test_epochs**2)*(P_err_l**2))))\n",
    "print(tra)\n",
    "occ = (np.sqrt(((T0_err_l**2) + (0.5 * (P_err_l**2))) + ((test_epochs**2)*(P_err_l**2))))\n",
    "print(occ)\n",
    "result = np.array([0.23692092, 0.31014149, 0.31190525, 0.45638284 ])"
   ]
  },
  {
   "cell_type": "code",
   "execution_count": 43,
   "metadata": {},
   "outputs": [
    {
     "name": "stdout",
     "output_type": "stream",
     "text": [
      "[0.34674309 0.84690961 0.85834968 1.89170516]\n",
      "[0.34674713 0.84691127 0.85835132 1.89170591]\n"
     ]
    }
   ],
   "source": [
    "##quad model uncertainite\n",
    "T0_err_q = 0.34674308676945004\n",
    "P_err_q = 0.0023688537695923505\n",
    "dPdE_err = 7.743357776955459e-06\n",
    "E = test_epochs\n",
    "tra = (np.sqrt((T0_err_q**2) + ((E**2)*(P_err_q**2)) + ((1/4)*(E**4)*(dPdE_err**2))))\n",
    "print(tra)\n",
    "occ = (np.sqrt(((T0_err_q**2) + (0.5 * (P_err_q**2))) + ((E**2)*(P_err_q**2)) + ((1/4)*(E**4)*(dPdE_err**2))))\n",
    "print(occ)\n",
    "result = np.array([ 0.34674309, 0.84691127, 0.85834968, 1.89170591 ])"
   ]
  },
  {
   "cell_type": "code",
   "execution_count": 17,
   "metadata": {},
   "outputs": [
    {
     "data": {
      "text/plain": [
       "array([-1.41514356e-06,  3.20878053e+02,  3.25243743e+02,  6.25385000e+02])"
      ]
     },
     "execution_count": 17,
     "metadata": {},
     "output_type": "execute_result"
    }
   ],
   "source": [
    "## calc quad ephem\n",
    "period_change_by_epoch = test_dPdE\n",
    "epochs = test_epochs\n",
    "period = test_P_quad\n",
    "conjunction_time = test_T0_quad\n",
    "((0.5*period_change_by_epoch*(epochs**2)) + (period*epochs) + conjunction_time)"
   ]
  },
  {
   "cell_type": "code",
   "execution_count": 18,
   "metadata": {},
   "outputs": [
    {
     "data": {
      "text/plain": [
       "array([-6.73466620e-05,  3.20878101e+02,  3.25243790e+02,  6.25384934e+02])"
      ]
     },
     "execution_count": 18,
     "metadata": {},
     "output_type": "execute_result"
    }
   ],
   "source": [
    "##calc lin ephem\n",
    "period = test_P_linear\n",
    "conjunction_time = test_T0_linear\n",
    "((period*epochs) + conjunction_time)"
   ]
  },
  {
   "cell_type": "code",
   "execution_count": 19,
   "metadata": {},
   "outputs": [
    {
     "data": {
      "text/plain": [
       "0.29406284565290114"
      ]
     },
     "execution_count": 19,
     "metadata": {},
     "output_type": "execute_result"
    }
   ],
   "source": [
    "#calc chi linear\n",
    "observed_data = np.array([0.0, 320.8780000000261, 325.24399999994785, 625.3850000002421])\n",
    "model_data = [-6.73466620e-05, 3.20878101e+02, 3.25243790e+02, 6.25384934e+02]\n",
    "uncertainties =  np.array([0.00043, 0.00028, 0.00062, 0.00042])\n",
    "np.sum(((observed_data - model_data)/uncertainties)**2)"
   ]
  },
  {
   "cell_type": "code",
   "execution_count": 20,
   "metadata": {},
   "outputs": [
    {
     "data": {
      "text/plain": [
       "0.20766342879185204"
      ]
     },
     "execution_count": 20,
     "metadata": {},
     "output_type": "execute_result"
    }
   ],
   "source": [
    "#calc chi quad\n",
    "observed_data = np.array([0.0, 320.8780000000261, 325.24399999994785, 625.3850000002421])\n",
    "model_data = np.array([-1.41514356e-06,  3.20878053e+02,  3.25243743e+02,  6.25385000e+02])\n",
    "uncertainties =  np.array([0.00043, 0.00028, 0.00062, 0.00042])\n",
    "np.sum(((observed_data - model_data)/uncertainties)**2)"
   ]
  },
  {
   "cell_type": "markdown",
   "metadata": {},
   "source": []
  },
  {
   "cell_type": "code",
   "execution_count": 21,
   "metadata": {},
   "outputs": [
    {
     "data": {
      "text/plain": [
       "3.0666515678926825"
      ]
     },
     "execution_count": 21,
     "metadata": {},
     "output_type": "execute_result"
    }
   ],
   "source": [
    "## calc bic lin\n",
    "chi_squared= 0.29406284565290114\n",
    "num_params=2\n",
    "\n",
    "chi_squared + (num_params*np.log(4))\n"
   ]
  },
  {
   "cell_type": "code",
   "execution_count": 22,
   "metadata": {},
   "outputs": [
    {
     "data": {
      "text/plain": [
       "4.3665465121515235"
      ]
     },
     "execution_count": 22,
     "metadata": {},
     "output_type": "execute_result"
    }
   ],
   "source": [
    "## calc bic quad\n",
    "chi_squared= 0.20766342879185204\n",
    "num_params=3\n",
    "\n",
    "chi_squared + (num_params*np.log(4))"
   ]
  },
  {
   "cell_type": "code",
   "execution_count": 23,
   "metadata": {},
   "outputs": [
    {
     "data": {
      "text/plain": [
       "-1.299894944258841"
      ]
     },
     "execution_count": 23,
     "metadata": {},
     "output_type": "execute_result"
    }
   ],
   "source": [
    "linear_bic = 3.0666515678926825\n",
    "quadratic_bic = 4.3665465121515235\n",
    "linear_bic - quadratic_bic"
   ]
  },
  {
   "cell_type": "code",
   "execution_count": null,
   "metadata": {},
   "outputs": [],
   "source": []
  }
 ],
 "metadata": {
  "kernelspec": {
   "display_name": "Python 3",
   "language": "python",
   "name": "python3"
  },
  "language_info": {
   "codemirror_mode": {
    "name": "ipython",
    "version": 3
   },
   "file_extension": ".py",
   "mimetype": "text/x-python",
   "name": "python",
   "nbconvert_exporter": "python",
   "pygments_lexer": "ipython3",
   "version": "3.9.6"
  }
 },
 "nbformat": 4,
 "nbformat_minor": 2
}
