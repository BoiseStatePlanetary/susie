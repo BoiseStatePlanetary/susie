{
 "cells": [
  {
   "cell_type": "code",
   "execution_count": 1,
   "metadata": {},
   "outputs": [],
   "source": [
    "import sys\n",
    "sys.path.append(\".\")\n",
    "import unittest\n",
    "import numpy as np\n",
    "import matplotlib.pyplot as plt\n",
    "\n",
    "from src.susie.timing_data import TimingData\n",
    "from src.susie.ephemeris import Ephemeris\n",
    "from scipy.optimize import curve_fit\n",
    "from astropy import time\n",
    "from astropy import coordinates as coord\n",
    "from astropy import units as u\n",
    "\n",
    "test_epochs = np.array([0, 294, 298, 573])\n",
    "test_mtts = np.array([2454515.525,2454836.403,2454840.769,2455140.91])\n",
    "test_mtts_err = np.array([0.00043, 0.00028, 0.00062, 0.00042])\n",
    "test_tra_or_occ = np.array(['tra','occ','tra','occ'])\n",
    "test_tra_or_occ_enum = [0 if i == 'tra' else 1 for i in test_tra_or_occ]\n",
    "\n",
    "test_P_fits = 1.091423\n",
    "\n",
    "test_P_linear =  1.0904734088754364 # period linear\n",
    "test_P_err_linear =  0.0006807481006299065 # period error linear\n",
    "test_T0_linear =2454515.423966982# conjunction time\n",
    "test_T0_err_linear = 0.23692092991744518  # conjunction time error\n",
    "\n",
    "test_P_quad =  1.0892663209112947#period quad\n",
    "test_P_err_quad =  0.002368690041166098 # period err quad\n",
    "test_T0_quad = 2454515.5241231285 #conjunction time quad\n",
    "test_T0_err_quad = 0.3467430587812461#conjunction time err quad\n",
    "test_dPdE =  4.223712653342504e-06#period change by epoch\n",
    "test_dPdE_err = 7.742732700893123e-06#period change by epoch error\n",
    "\n",
    "test_observed_data = test_mtts\n",
    "test_uncertainties= test_mtts_err \n",
    " \n"
   ]
  },
  {
   "cell_type": "code",
   "execution_count": 2,
   "metadata": {},
   "outputs": [],
   "source": [
    "transit_times_obj1 = TimingData('jd', test_epochs, test_mtts, test_mtts_err, test_tra_or_occ, time_scale='tdb')"
   ]
  },
  {
   "cell_type": "code",
   "execution_count": 3,
   "metadata": {},
   "outputs": [],
   "source": [
    "transit_times_obj1 = TimingData('jd', test_epochs, test_mtts, test_mtts_err, test_tra_or_occ, time_scale='tdb')\n",
    "ephemeris_obj1 = Ephemeris(transit_times_obj1)"
   ]
  },
  {
   "cell_type": "code",
   "execution_count": 4,
   "metadata": {},
   "outputs": [
    {
     "data": {
      "text/plain": [
       "{'period': 1.0904734088754364,\n",
       " 'period_err': 0.0006807481006299065,\n",
       " 'conjunction_time': 2454515.423966982,\n",
       " 'conjunction_time_err': 0.23692092991744518,\n",
       " 'model_type': 'linear',\n",
       " 'model_data': array([2454515.42396698, 2454836.5683859 , 2454840.38504283,\n",
       "        2455140.81046697])}"
      ]
     },
     "execution_count": 4,
     "metadata": {},
     "output_type": "execute_result"
    }
   ],
   "source": [
    "linear_model_data = ephemeris_obj1.get_model_ephemeris('linear')\n",
    "linear_model_data"
   ]
  },
  {
   "cell_type": "code",
   "execution_count": 5,
   "metadata": {},
   "outputs": [
    {
     "data": {
      "text/plain": [
       "{'period': 1.0904734088754364,\n",
       " 'period_err': 0.0006807481006299065,\n",
       " 'conjunction_time': 2454515.423966982,\n",
       " 'conjunction_time_err': 0.23692092991744518}"
      ]
     },
     "execution_count": 5,
     "metadata": {},
     "output_type": "execute_result"
    }
   ],
   "source": [
    "model_parameters = ephemeris_obj1._get_model_parameters('linear')\n",
    "model_parameters"
   ]
  },
  {
   "cell_type": "code",
   "execution_count": 6,
   "metadata": {},
   "outputs": [
    {
     "data": {
      "text/plain": [
       "{'period': 1.0892663209112947,\n",
       " 'period_err': 0.002368690041166098,\n",
       " 'conjunction_time': 2454515.5241231285,\n",
       " 'conjunction_time_err': 0.3467430587812461,\n",
       " 'period_change_by_epoch': 4.223712653342504e-06,\n",
       " 'period_change_by_epoch_err': 7.742732700893123e-06}"
      ]
     },
     "execution_count": 6,
     "metadata": {},
     "output_type": "execute_result"
    }
   ],
   "source": [
    "ephemeris_obj1._get_model_parameters('quadratic')   "
   ]
  },
  {
   "cell_type": "code",
   "execution_count": 7,
   "metadata": {},
   "outputs": [
    {
     "data": {
      "text/plain": [
       "{'period': 1.0914223406835055,\n",
       " 'period_err': 1.0489630324274194e-06,\n",
       " 'conjunction_time': 2454515.5249325945,\n",
       " 'conjunction_time_err': 0.00036467200659212915}"
      ]
     },
     "execution_count": 7,
     "metadata": {},
     "output_type": "execute_result"
    }
   ],
   "source": [
    "def linear_model(test_x, test_P_linear, test_T0_linear):\n",
    "    \"\"\"Linear model function.\"\"\"\n",
    "    return test_P_linear * test_x + test_T0_linear\n",
    "\n",
    "\n",
    "popt, pcov = curve_fit(linear_model, test_epochs, test_mtts, sigma=test_mtts_err, absolute_sigma=True)\n",
    "unc = np.sqrt(np.diag(pcov))\n",
    "return_data = {\n",
    "    'period': popt[0],\n",
    "    'period_err': unc[0],\n",
    "    'conjunction_time': popt[1],\n",
    "    'conjunction_time_err': unc[1]\n",
    "}\n",
    "return_data"
   ]
  },
  {
   "cell_type": "code",
   "execution_count": 8,
   "metadata": {},
   "outputs": [
    {
     "data": {
      "text/plain": [
       "{'conjunction_time': 2454515.5249979226,\n",
       " 'conjunction_time_err': 0.0004299841051609291,\n",
       " 'period': 1.0914393799928248,\n",
       " 'period_err': 1.696739076276109e-06,\n",
       " 'period_change_by_epoch': -8.173424194182869e-08,\n",
       " 'period_change_by_epoch_err': 2.9002083989492785e-09}"
      ]
     },
     "execution_count": 8,
     "metadata": {},
     "output_type": "execute_result"
    }
   ],
   "source": [
    "def quad_model(test_epochs, test_dPdE, test_P_quad, test_T0_quad):\n",
    "    return 0.5*test_dPdE*test_epochs*test_epochs + test_P_quad*test_epochs + test_T0_quad\n",
    "popt, pcov = curve_fit(quad_model, test_epochs, test_mtts, sigma=test_mtts_err, absolute_sigma=True)\n",
    "unc = np.sqrt(np.diag(pcov))\n",
    "return_data = {\n",
    "            'conjunction_time': popt[2],\n",
    "            'conjunction_time_err': unc[2],\n",
    "            'period': popt[1],\n",
    "            'period_err': unc[1],\n",
    "            'period_change_by_epoch': popt[0],\n",
    "            'period_change_by_epoch_err': unc[0],\n",
    "        }\n",
    "return_data"
   ]
  },
  {
   "cell_type": "code",
   "execution_count": 9,
   "metadata": {},
   "outputs": [
    {
     "data": {
      "text/plain": [
       "{'period': 1.0892663209112947,\n",
       " 'period_err': 0.002368690041166098,\n",
       " 'conjunction_time': 2454515.5241231285,\n",
       " 'conjunction_time_err': 0.3467430587812461,\n",
       " 'period_change_by_epoch': 4.223712653342504e-06,\n",
       " 'period_change_by_epoch_err': 7.742732700893123e-06,\n",
       " 'model_type': 'quadratic',\n",
       " 'model_data': array([2454515.52412313, 2454836.49559505, 2454840.31302805,\n",
       "        2455140.91174185])}"
      ]
     },
     "execution_count": 9,
     "metadata": {},
     "output_type": "execute_result"
    }
   ],
   "source": [
    "quadratic_model_data = ephemeris_obj1.get_model_ephemeris('quadratic')\n",
    "quadratic_model_data"
   ]
  },
  {
   "cell_type": "code",
   "execution_count": 10,
   "metadata": {},
   "outputs": [
    {
     "name": "stdout",
     "output_type": "stream",
     "text": [
      "[  0. 321. 325. 625.]\n",
      "[  1. 321. 326. 626.]\n"
     ]
    }
   ],
   "source": [
    "##linear fit\n",
    "P = 1.091423\n",
    "E = test_epochs\n",
    "T0 = 0\n",
    "tra_or_occ =  np.array([0,1,0,1])\n",
    "tra = np.round(P * E +T0)\n",
    "print(tra)\n",
    "occ = np.round(P * E +(T0+0.5*P))\n",
    "print(occ)\n",
    "lin_fit = np.array([0.         , 3.21423879e+02, 325.24385758, 6.25930712e+02 ])\n"
   ]
  },
  {
   "cell_type": "code",
   "execution_count": 11,
   "metadata": {},
   "outputs": [
    {
     "name": "stdout",
     "output_type": "stream",
     "text": [
      "[  0. 321. 325. 625.]\n",
      "[  1. 321. 326. 626.]\n"
     ]
    }
   ],
   "source": [
    "##quad fit\n",
    "P = 1.091423\n",
    "E =  np.array([0, 294, 298, 573])\n",
    "T0 = 0\n",
    "dPdE = 0\n",
    "tra_q = np.round(0.5*dPdE*E*E + P*E + 0)\n",
    "print(tra_q)\n",
    "occ_q = np.round((0 + 0.5*P) + P*E + 0.5*dPdE*E*E)\n",
    "print(occ_q)\n",
    "quad_fit = np.array([0,321,325,626])"
   ]
  },
  {
   "cell_type": "code",
   "execution_count": 12,
   "metadata": {},
   "outputs": [
    {
     "name": "stdout",
     "output_type": "stream",
     "text": [
      "[0.23692092 0.31014112 0.31190525 0.45638259]\n",
      "[0.23692116 0.31036088 0.31212674 0.45667354]\n"
     ]
    }
   ],
   "source": [
    "##linear model uncertainites\n",
    "T0_err_l =  0.23692091722329203\n",
    "P_err_l =  0.0006807480614626216\n",
    "E = test_epochs\n",
    "tra = (np.sqrt((T0_err_l**2) + ((test_epochs**2)*(P_err_l**2))))\n",
    "print(tra)\n",
    "occ = (np.sqrt(((T0_err_l**2) +((test_epochs+0.5)**2) * (P_err_l**2))))\n",
    "print(occ)\n",
    "result = np.array([0.23692092,0.31036088, 0.31190525, 0.45667354 ])"
   ]
  },
  {
   "cell_type": "code",
   "execution_count": 13,
   "metadata": {},
   "outputs": [
    {
     "name": "stdout",
     "output_type": "stream",
     "text": [
      "[0.34674306 0.84685934 0.85829843 1.89156889]\n",
      "[0.34674508 0.84783352 0.8592727  1.89241887]\n"
     ]
    }
   ],
   "source": [
    "##quad model uncertainite\n",
    "T0_err_q = test_T0_err_quad\n",
    "P_err_q = test_P_err_quad\n",
    "dPdE_err = test_dPdE_err\n",
    "E = test_epochs\n",
    "tra = (np.sqrt((T0_err_q**2) + ((E**2)*(P_err_q**2)) + ((1/4)*(E**4)*(dPdE_err**2))))\n",
    "print(tra)\n",
    "\n",
    "occ = (np.sqrt( (T0_err_q**2) + (((E+0.5)**2)*(P_err_q**2)) + ((1/4)*(E**4)*(dPdE_err**2))))\n",
    "print(occ)\n",
    "result = np.array([0.34674306,0.84783352,0.85829843,1.89241887])\n"
   ]
  },
  {
   "cell_type": "code",
   "execution_count": 14,
   "metadata": {},
   "outputs": [
    {
     "name": "stdout",
     "output_type": "stream",
     "text": [
      "[2454515.42396698 2454836.02314919 2454840.38504283 2455140.26523027]\n",
      "[2454515.96920369 2454836.5683859  2454840.93027953 2455140.81046697]\n"
     ]
    }
   ],
   "source": [
    "##calc lin ephem\n",
    "E = test_epochs\n",
    "tra = test_T0_linear+test_P_linear*E\n",
    "print(tra)\n",
    "occ = (test_T0_linear+0.5*test_P_linear)+(test_P_linear*E)\n",
    "print(occ)\n",
    "result = np.array([2454515.42396698, 2454836.5683859, 2454840.38504283, 2455140.81046697])"
   ]
  },
  {
   "cell_type": "code",
   "execution_count": 15,
   "metadata": {},
   "outputs": [
    {
     "name": "stdout",
     "output_type": "stream",
     "text": [
      "[2454515.52412313 2454835.95096189 2454840.31302805 2455140.36710869]\n",
      "[2454516.06875629 2454836.49559505 2454840.85766121 2455140.91174185]\n"
     ]
    }
   ],
   "source": [
    "## calc quad ephem\n",
    "P_q = test_P_quad\n",
    "T0_q = test_T0_quad\n",
    "dPdE =  test_dPdE\n",
    "tra = (T0_q + P_q*E + 0.5*dPdE*E*E)\n",
    "occ = ((T0_q + 0.5*P_q) + P_q*E + 0.5*dPdE*E*E)\n",
    "print(tra)\n",
    "print(occ)\n",
    "result = np.array([2454515.52412313, 2454836.49559505, 2454840.31302805, 2455140.91174185])"
   ]
  },
  {
   "cell_type": "code",
   "execution_count": 16,
   "metadata": {},
   "outputs": [
    {
     "data": {
      "text/plain": [
       "843766.30314325"
      ]
     },
     "execution_count": 16,
     "metadata": {},
     "output_type": "execute_result"
    }
   ],
   "source": [
    "#calc chi linear\n",
    "observed_data = test_mtts\n",
    "model_data = np.array([2454515.42396698, 2454836.5683859, 2454840.38504283, 2455140.81046697]) \n",
    "uncertainties = np.array([0.00043, 0.00028, 0.00062, 0.00042]) \n",
    "np.sum(((observed_data - model_data)/uncertainties)**2)"
   ]
  },
  {
   "cell_type": "code",
   "execution_count": 17,
   "metadata": {},
   "outputs": [
    {
     "data": {
      "text/plain": [
       "650251.5809274575"
      ]
     },
     "execution_count": 17,
     "metadata": {},
     "output_type": "execute_result"
    }
   ],
   "source": [
    "#calc chi quad\n",
    "observed_data = test_mtts\n",
    "model_data = np.array([2454515.52412313, 2454836.49559505, 2454840.31302805, 2455140.91174185])\n",
    "uncertainties =  np.array([0.00043, 0.00028, 0.00062, 0.00042])\n",
    "np.sum(((observed_data - model_data)/uncertainties)**2)"
   ]
  },
  {
   "cell_type": "code",
   "execution_count": 18,
   "metadata": {},
   "outputs": [
    {
     "data": {
      "text/plain": [
       "843769.0757319723"
      ]
     },
     "execution_count": 18,
     "metadata": {},
     "output_type": "execute_result"
    }
   ],
   "source": [
    "## calc bic lin\n",
    "chi_squared= 843766.30314325\n",
    "num_params=2\n",
    "\n",
    "chi_squared + (num_params*np.log(4))\n"
   ]
  },
  {
   "cell_type": "code",
   "execution_count": 19,
   "metadata": {},
   "outputs": [
    {
     "data": {
      "text/plain": [
       "{'period': 1.0904734088754364,\n",
       " 'period_err': 0.0006807481006299065,\n",
       " 'conjunction_time': 2454515.423966982,\n",
       " 'conjunction_time_err': 0.23692092991744518,\n",
       " 'model_type': 'linear',\n",
       " 'model_data': array([2454515.42396698, 2454836.5683859 , 2454840.38504283,\n",
       "        2455140.81046697])}"
      ]
     },
     "execution_count": 19,
     "metadata": {},
     "output_type": "execute_result"
    }
   ],
   "source": [
    "ephemeris_obj1.get_model_ephemeris('linear')"
   ]
  },
  {
   "cell_type": "code",
   "execution_count": 20,
   "metadata": {},
   "outputs": [
    {
     "data": {
      "text/plain": [
       "{'period': 1.0892663209112947,\n",
       " 'period_err': 0.002368690041166098,\n",
       " 'conjunction_time': 2454515.5241231285,\n",
       " 'conjunction_time_err': 0.3467430587812461,\n",
       " 'period_change_by_epoch': 4.223712653342504e-06,\n",
       " 'period_change_by_epoch_err': 7.742732700893123e-06,\n",
       " 'model_type': 'quadratic',\n",
       " 'model_data': array([2454515.52412313, 2454836.49559505, 2454840.31302805,\n",
       "        2455140.91174185])}"
      ]
     },
     "execution_count": 20,
     "metadata": {},
     "output_type": "execute_result"
    }
   ],
   "source": [
    "ephemeris_obj1.get_model_ephemeris('quadratic')"
   ]
  },
  {
   "cell_type": "code",
   "execution_count": 21,
   "metadata": {},
   "outputs": [
    {
     "data": {
      "text/plain": [
       "650255.7398105409"
      ]
     },
     "execution_count": 21,
     "metadata": {},
     "output_type": "execute_result"
    }
   ],
   "source": [
    "## calc bic quad\n",
    "chi_squared= 650251.5809274575\n",
    "num_params=3\n",
    "\n",
    "chi_squared + (num_params*np.log(4))"
   ]
  },
  {
   "cell_type": "code",
   "execution_count": 22,
   "metadata": {},
   "outputs": [
    {
     "data": {
      "text/plain": [
       "193513.33592143143"
      ]
     },
     "execution_count": 22,
     "metadata": {},
     "output_type": "execute_result"
    }
   ],
   "source": [
    "linear_bic =  843769.0757319723\n",
    "quadratic_bic =  650255.7398105409\n",
    "linear_bic - quadratic_bic"
   ]
  },
  {
   "cell_type": "code",
   "execution_count": 23,
   "metadata": {},
   "outputs": [
    {
     "data": {
      "text/plain": [
       "<Time object: scale='utc' format='isot' value=['2024-05-23T12:34:56.000' '2024-05-24T12:34:56.000']>"
      ]
     },
     "execution_count": 23,
     "metadata": {},
     "output_type": "execute_result"
    }
   ],
   "source": [
    "from astropy.time import Time, TimeDelta\n",
    "\n",
    "# Example mid_times data\n",
    "mid_times = ['2024-05-23T12:34:56', '2024-05-24T12:34:56']\n",
    "time_format = 'isot'  # ISO 8601 format\n",
    "time_scale = 'utc'    # Coordinated Universal Time scale\n",
    "\n",
    "mid_times_obj = Time(mid_times, format=time_format, scale=time_scale)\n",
    "mid_times_obj"
   ]
  },
  {
   "cell_type": "code",
   "execution_count": 24,
   "metadata": {},
   "outputs": [
    {
     "name": "stdout",
     "output_type": "stream",
     "text": [
      "['2024-05-23T12:34:56.000' '2024-05-24T12:34:56.000']\n",
      "Julian Date: [2460454.02425926 2460455.02425926]\n",
      "Barycentric Dynamical Time: ['2024-05-23T12:36:05.185' '2024-05-24T12:36:05.185']\n"
     ]
    }
   ],
   "source": [
    "test_mid_times = ['2024-05-23T12:34:56', '2024-05-24T12:34:56']\n",
    "test_time_format = 'isot'  \n",
    "test_time_scale = 'utc' \n",
    "\n",
    "# Create the Time object\n",
    "mid_times_obj = Time(mid_times, format=time_format, scale=time_scale)\n",
    "\n",
    "# Output the Time object and its attributes\n",
    "print(mid_times_obj)\n",
    "print(\"Julian Date:\", mid_times_obj.jd)\n",
    "print(\"Barycentric Dynamical Time:\", mid_times_obj.tdb)"
   ]
  },
  {
   "cell_type": "code",
   "execution_count": 25,
   "metadata": {},
   "outputs": [
    {
     "name": "stdout",
     "output_type": "stream",
     "text": [
      "[0.1 0.2]\n",
      "Julian Date: [0.1 0.2]\n",
      "Barycentric Dynamical Time: [0.1 0.2]\n"
     ]
    }
   ],
   "source": [
    "test_mid_times_uncertainties = ['0.1', '0.2']\n",
    "test_time_format = 'jd'  \n",
    "test_time_scale = 'tdb' \n",
    "test_mid_times_uncertainties_obj = TimeDelta(test_mid_times_uncertainties, format=test_time_format, scale=test_time_scale)\n",
    "print(test_mid_times_uncertainties_obj)\n",
    "print(\"Julian Date:\", test_mid_times_uncertainties_obj.jd)\n",
    "print(\"Barycentric Dynamical Time:\", test_mid_times_uncertainties_obj.tdb)"
   ]
  },
  {
   "cell_type": "code",
   "execution_count": 26,
   "metadata": {},
   "outputs": [
    {
     "name": "stdout",
     "output_type": "stream",
     "text": [
      "[0.1 0.2]\n"
     ]
    }
   ],
   "source": [
    "from astropy.time import TimeDelta\n",
    "\n",
    "# Example uncertainties data\n",
    "mid_time_uncertainties = ['0.1', '0.2']  # Uncertainties in seconds\n",
    "time_format = 'jd'  \n",
    "time_scale = 'tdb' \n",
    "\n",
    "# Convert uncertainties to floating-point numbers and seconds\n",
    "mid_time_uncertainties = [float(uncertainty) for uncertainty in mid_time_uncertainties]\n",
    "\n",
    "# Create the TimeDelta object representing uncertainties\n",
    "mid_time_uncertainties_obj = TimeDelta(mid_time_uncertainties, format=time_format, scale=time_scale)\n",
    "\n",
    "# Output the TimeDelta object and its attributes\n",
    "print(mid_time_uncertainties_obj)"
   ]
  },
  {
   "cell_type": "code",
   "execution_count": 27,
   "metadata": {},
   "outputs": [
    {
     "name": "stdout",
     "output_type": "stream",
     "text": [
      "BJD-TDB: 2457585.9153761626\n"
     ]
    }
   ],
   "source": [
    "from astropy.time import Time\n",
    "\n",
    "# Define the time value in BJD-UTC\n",
    "time_bjd_utc = 2457585.914587\n",
    "\n",
    "# Create a Time object with the BJD-UTC value\n",
    "time_obj = Time(time_bjd_utc, format='jd', scale='utc')\n",
    "\n",
    "# Convert the time value to BJD-TDB\n",
    "time_bjd_tdb = time_obj.tdb.jd\n",
    "\n",
    "# Output the converted value\n",
    "print(\"BJD-TDB:\", time_bjd_tdb)"
   ]
  },
  {
   "cell_type": "code",
   "execution_count": 28,
   "metadata": {},
   "outputs": [
    {
     "name": "stdout",
     "output_type": "stream",
     "text": [
      "[2457585.914587 2457586.914587]\n"
     ]
    }
   ],
   "source": [
    "mid_times = np.array([2457585.914587, 2457586.914587])  # An array of float times\n",
    "time_format = 'jd'  # Julian Date format\n",
    "time_scale = 'tdb'  # Coordinated Universal Time scale\n",
    "\n",
    "# Create the Time object\n",
    "mid_times_obj = Time(mid_times, format=time_format, scale=time_scale)\n",
    "\n",
    "# Output the Time object and its attributes\n",
    "print(mid_times_obj)\n",
    "# print(\"Julian Date:\", mid_times_obj.jd)\n",
    "# print(\"Barycentric Dynamical Time:\", mid_times_obj.tdb)"
   ]
  },
  {
   "cell_type": "code",
   "execution_count": 29,
   "metadata": {},
   "outputs": [
    {
     "name": "stdout",
     "output_type": "stream",
     "text": [
      "\n",
      "Object coordinates (RA, DEC):\n",
      "(150.0, 2.5)\n",
      "\n",
      "Observatory coordinates (Longitude, Latitude):\n",
      "(-70.0, -30.0)\n"
     ]
    }
   ],
   "source": [
    "object_ra = 150.0  # Right ascension in degrees\n",
    "object_dec = 2.5   # Declination in degrees\n",
    "obj_coords = (object_ra, object_dec)\n",
    "print(\"\\nObject coordinates (RA, DEC):\")\n",
    "print(obj_coords)\n",
    "\n",
    "# Observatory coordinates (Longitude, Latitude)\n",
    "observatory_lon = -70.0  # Longitude in degrees\n",
    "observatory_lat = -30.0  # Latitude in degrees\n",
    "obs_coords = (observatory_lon, observatory_lat)\n",
    "print(\"\\nObservatory coordinates (Longitude, Latitude):\")\n",
    "print(obs_coords)"
   ]
  },
  {
   "cell_type": "code",
   "execution_count": 30,
   "metadata": {},
   "outputs": [],
   "source": [
    "import numpy as np\n",
    "from astropy.time import Time\n",
    "\n",
    "# # Example mid-transit times (Julian Dates)\n",
    "# mid_times = np.array([2457585.914587, 2457586.914587])\n",
    "\n",
    "# # Create the Time object with Julian Date format and Barycentric Dynamical Time scale\n",
    "# test_mid_times_obj = Time(mid_times, scale='tdb')\n",
    "\n",
    "# # Print the mid-transit times object\n",
    "# print(\"Mid-transit times (JD, TDB):\")\n",
    "# print(test_mid_times_obj)"
   ]
  },
  {
   "cell_type": "code",
   "execution_count": 31,
   "metadata": {},
   "outputs": [],
   "source": [
    "\n",
    "# time_mtts = time.Time(test_mtts, format='jd', scale='tdb')\n",
    "# time_mtts_err = time.Time(test_mtts_err, format='jd', scale='tdb')  \n",
    "\n",
    "# converted_mtts = time_mtts.to_value( 'utc','isot')\n",
    "# converted_mtts_err = time_mtts_err.to_value( 'utc','isot')"
   ]
  },
  {
   "cell_type": "code",
   "execution_count": 32,
   "metadata": {},
   "outputs": [
    {
     "name": "stderr",
     "output_type": "stream",
     "text": [
      "WARNING: Recieved time format jd and time scale utc. Correcting all times to BJD timing system with TDB time scale. If no time scale is given, default is automatically assigned to UTC. If this is incorrect, please set the time format and time scale for TransitTime object.\n",
      "WARNING: Using ICRS coordinates in degrees of RA and Dec (97.64, 29.67) for time correction. Using geodetic Earth coordinates in degrees of longitude and latitude (-116.21, 43.6) for time correction.\n"
     ]
    }
   ],
   "source": [
    "timing_data = TimingData('jd', test_epochs, test_mtts, test_mtts_err, time_scale='utc', object_ra=97.64, object_dec=29.67, observatory_lat=43.60, observatory_lon= -116.21)"
   ]
  },
  {
   "cell_type": "code",
   "execution_count": 33,
   "metadata": {},
   "outputs": [],
   "source": [
    "# test_epochs = np.array([0, 294, 298, 573])\n",
    "# test_mtts = np.array([0.0, 320.8780000000261, 325.24399999994785, 625.3850000002421])\n",
    "# timing_data = TimingData('jd', test_epochs, test_mtts, test_mtts_err, object_ra=97.64, object_dec=29.67, observatory_lat=43.60, observatory_lon=-116.21)\n",
    "# time_obj = time.Time(test_mtts,format = 'jd',scale = 'utc')\n",
    "# obj_location = coord.SkyCoord(ra = 97.6,dec = 29.67, unit = 'deg')\n",
    "# obs_location = coord.EarthLocation(lat = 43.60, lon = -116.21)\n",
    "# expected_result = np.array([3.11451337e-03,3.20883762e+02,3.25249628e+02,6.25389263e+02])\n",
    "# actual_result = timing_data._calc_barycentric_time(time_obj, obj_location, obs_location)\n",
    "# print(actual_result)"
   ]
  },
  {
   "cell_type": "code",
   "execution_count": 34,
   "metadata": {},
   "outputs": [],
   "source": [
    "# test_time_obj = time.Time(test_mtts, format='jd', scale='utc')\n",
    "# time_obj = test_time_obj\n",
    "# time_obj.location = obs_location\n",
    "# ltt_bary = time_obj.light_travel_time(obj_location)\n",
    "# print(ltt_bary)"
   ]
  },
  {
   "cell_type": "code",
   "execution_count": 35,
   "metadata": {},
   "outputs": [
    {
     "data": {
      "text/latex": [
       "$(-2042896.9, -4149886.2, 4376818.8) \\; \\mathrm{m}$"
      ],
      "text/plain": [
       "<EarthLocation (-2042896.91935218, -4149886.23746303, 4376818.76798957) m>"
      ]
     },
     "execution_count": 35,
     "metadata": {},
     "output_type": "execute_result"
    }
   ],
   "source": [
    "expected_obs_location = coord.EarthLocation.from_geodetic( -116.21,43.61)\n",
    "expected_obs_location"
   ]
  },
  {
   "cell_type": "code",
   "execution_count": 36,
   "metadata": {},
   "outputs": [
    {
     "name": "stdout",
     "output_type": "stream",
     "text": [
      "[-1.86264515e-09  5.45236709e-01  3.08841663e-09  5.45236702e-01]\n",
      "[-5.45236706e-01  4.24597602e-09 -5.45236701e-01 -2.14754436e-09]\n"
     ]
    },
    {
     "data": {
      "text/plain": [
       "array([-1.86264515e-09,  4.24597602e-09,  3.08841663e-09, -2.14754436e-09])"
      ]
     },
     "execution_count": 36,
     "metadata": {},
     "output_type": "execute_result"
    }
   ],
   "source": [
    "test_mtts =  np.array([2454515.42396698, 2454836.5683859 , 2454840.38504283, 2455140.81046697])\n",
    "transits = test_mtts-test_T0_linear-(test_P_linear*test_epochs)\n",
    "occultations = test_mtts-test_T0_linear-(0.5*test_P_linear)-(test_P_linear*test_epochs)\n",
    "print(transits)\n",
    "print(occultations)\n",
    "np.array([-1.86264515e-09, 4.24597602e-09, 3.08841663e-09 , -2.14754436e-09])"
   ]
  },
  {
   "cell_type": "code",
   "execution_count": 37,
   "metadata": {},
   "outputs": [],
   "source": [
    "def transit_full(self,P,R_star,a,R_planet,b,i):\n",
    "    k = R_planet/R_star\n",
    "    transit = (P/np.pi)*np.arcsin((((R_star/a)*(((1-k)**2)-(b**2)))**1/2)/np.sin(i))\n",
    "    return transit"
   ]
  },
  {
   "cell_type": "code",
   "execution_count": 38,
   "metadata": {},
   "outputs": [
    {
     "name": "stderr",
     "output_type": "stream",
     "text": [
      "WARNING: Recieved time format jd and time scale utc. Correcting all times to BJD timing system with TDB time scale. If no time scale is given, default is automatically assigned to UTC. If this is incorrect, please set the time format and time scale for TransitTime object.\n",
      "WARNING: Using ICRS coordinates in degrees of RA and Dec (97.64, 29.67) for time correction. Using geodetic Earth coordinates in degrees of longitude and latitude (-116.21, 43.6) for time correction.\n",
      "WARNING: Tried to get polar motions for times before IERS data is valid. Defaulting to polar motion from the 50-yr mean for those. This may affect precision at the arcsec level. Please check your astropy.utils.iers.conf.iers_auto_url and point it to a newer version if necessary. [astropy.coordinates.builtin_frames.utils]\n",
      "WARNING: Tried to get polar motions for times before IERS data is valid. Defaulting to polar motion from the 50-yr mean for those. This may affect precision at the arcsec level. Please check your astropy.utils.iers.conf.iers_auto_url and point it to a newer version if necessary.\n",
      "/Users/maliabarker/Desktop/susie/notebook_env/lib/python3.12/site-packages/erfa/core.py:133: ErfaWarning: ERFA function \"utctai\" yielded 4 of \"dubious year (Note 3)\"\n",
      "  warn(f'ERFA function \"{func_name}\" yielded {wmsg}', ErfaWarning)\n",
      "/Users/maliabarker/Desktop/susie/notebook_env/lib/python3.12/site-packages/erfa/core.py:133: ErfaWarning: ERFA function \"utcut1\" yielded 4 of \"dubious year (Note 3)\"\n",
      "  warn(f'ERFA function \"{func_name}\" yielded {wmsg}', ErfaWarning)\n",
      "/Users/maliabarker/Desktop/susie/notebook_env/lib/python3.12/site-packages/erfa/core.py:133: ErfaWarning: ERFA function \"taiutc\" yielded 4 of \"dubious year (Note 4)\"\n",
      "  warn(f'ERFA function \"{func_name}\" yielded {wmsg}', ErfaWarning)\n",
      "/Users/maliabarker/Desktop/susie/notebook_env/lib/python3.12/site-packages/erfa/core.py:133: ErfaWarning: ERFA function \"epv00\" yielded 4 of \"warning: date outsidethe range 1900-2100 AD\"\n",
      "  warn(f'ERFA function \"{func_name}\" yielded {wmsg}', ErfaWarning)\n"
     ]
    },
    {
     "data": {
      "text/plain": [
       "array([0.00354448, 0.00339449, 0.00373446, 0.00353448])"
      ]
     },
     "execution_count": 38,
     "metadata": {},
     "output_type": "execute_result"
    }
   ],
   "source": [
    "timing_data = TimingData('jd', test_epochs, test_mtts, test_mtts_err, test_tra_or_occ, 'utc', object_ra=97.64, object_dec=29.67, observatory_lat=43.60, observatory_lon=-116.21)\n",
    "obs_location = coord.EarthLocation(lat = 43.60, lon = -116.21)\n",
    "time_obj = time.Time(test_mtts_err, format='jd', scale='utc', location=obs_location)\n",
    "obj_location = coord.SkyCoord(ra = 97.6,dec = 29.67, unit = 'deg')\n",
    "obs_location = coord.EarthLocation(lat = 43.60, lon = 116.21)\n",
    "timing_data._calc_barycentric_time(time_obj,obj_location)"
   ]
  },
  {
   "cell_type": "code",
   "execution_count": 39,
   "metadata": {},
   "outputs": [
    {
     "data": {
      "text/plain": [
       "array([0.00060812, 0.00039601, 0.00087687, 0.00059403])"
      ]
     },
     "execution_count": 39,
     "metadata": {},
     "output_type": "execute_result"
    }
   ],
   "source": [
    "timing_data._convert_timing_uncertainties(test_mtts, test_mtts_err, 'jd', 'tdb', obj_coords, obs_coords)\n"
   ]
  },
  {
   "cell_type": "code",
   "execution_count": null,
   "metadata": {},
   "outputs": [],
   "source": []
  },
  {
   "cell_type": "code",
   "execution_count": 40,
   "metadata": {},
   "outputs": [
    {
     "data": {
      "text/plain": [
       "array([  1.50381953, 322.38218095, 326.747872  , 626.88919566])"
      ]
     },
     "execution_count": 40,
     "metadata": {},
     "output_type": "execute_result"
    }
   ],
   "source": [
    "anomalistic_period = 3.0\n",
    "pericenter = np.array([0.01,0.02,0.03,0.04])\n",
    "e = 0.004\n",
    "\n",
    "\n",
    "T0 + anomalistic_period/2 + E*P + ((e*anomalistic_period)/np.pi)*np.cos(pericenter)"
   ]
  },
  {
   "cell_type": "code",
   "execution_count": 41,
   "metadata": {},
   "outputs": [
    {
     "data": {
      "text/plain": [
       "{'period': 1.0914233780823739,\n",
       " 'period_err': 2.5837552101593316e-06,\n",
       " 'conjunction_time': 2454515.5247473116,\n",
       " 'conjunction_time_err': 0.0016189004920040013,\n",
       " 'eccentricity': 0.5345414535549522,\n",
       " 'eccentricity_err': 13588.186664524692,\n",
       " 'pericenter': -55020653.47561098,\n",
       " 'pericenter_err': 589049.1819169023,\n",
       " 'pericenter_change_by_epoch': -862310.36579702,\n",
       " 'pericenter_change_by_epoch_err': 1933.7369753292073}"
      ]
     },
     "execution_count": 41,
     "metadata": {},
     "output_type": "execute_result"
    }
   ],
   "source": [
    "test_epochs_precession = np.array([ -1640, -1346,  -1342, -1067, -1061, -1046,  -1038])\n",
    "test_mtts_precession = np.array([2454515.525,2454836.403,2454840.769,2455140.91, 2455147.459, 2455163.831,2455172.561])\n",
    "test_mtts_err_precession = np.array([0.00043, 0.00028, 0.00062, 0.00042, 0.00043, 0.00032, 0.00036])\n",
    "test_tra_or_occ_precession = np.array(['tra','occ','occ','tra', 'tra', 'tra', 'tra'])\n",
    "test_tra_or_occ_enum_precession = [0 if i == 'tra' else 1 for i in test_tra_or_occ_precession]\n",
    "transit_times_obj1_precession = TimingData('jd', test_epochs_precession, test_mtts_precession, test_mtts_err_precession, test_tra_or_occ_precession, time_scale='tdb')\n",
    "ephemeris_obj1 = Ephemeris(transit_times_obj1_precession)\n",
    "precession_model_data = ephemeris_obj1._get_model_parameters('precession')\n",
    "precession_model_data"
   ]
  },
  {
   "cell_type": "code",
   "execution_count": 42,
   "metadata": {},
   "outputs": [
    {
     "name": "stdout",
     "output_type": "stream",
     "text": [
      "1.0915939528522707\n",
      "[2.62     2.909296 2.913232 3.183832 3.189736 3.204496 3.212368]\n"
     ]
    }
   ],
   "source": [
    "test_P_fits = 1.091423\n",
    "dwdE =  0.000984\n",
    "e =  0.00310\n",
    "W0 =  2.62\n",
    "T0 = 0  \n",
    "PA = P/(1 - (1/(2*np.pi))*dwdE)\n",
    "print(PA)\n",
    "w = W0 + dwdE*test_epochs_precession\n",
    "print(w)#why is this wrong?????\n"
   ]
  },
  {
   "cell_type": "code",
   "execution_count": 43,
   "metadata": {},
   "outputs": [
    {
     "name": "stdout",
     "output_type": "stream",
     "text": [
      "[-5.76315154e-04  3.20878069e+02  3.25243765e+02  6.25385378e+02\n",
      "  6.31933923e+02  6.48305283e+02  6.57036676e+02]\n",
      "[5.46373292e-01 3.21424452e+02 3.25790140e+02 6.25931177e+02\n",
      " 6.32479708e+02 6.48851037e+02 6.57582413e+02]\n"
     ]
    }
   ],
   "source": [
    "test_PA = 1.0915939528522707\n",
    "# test_w = np.array([2.62, 2.909296, 2.913232, 2.9152, 2.95456, 2.9644, 2.97424])\n",
    "test_w = np.array([1.00624,  1.295536, 1.299472, 1.570072, 1.575976, 1.590736, 1.598608])\n",
    "\n",
    "tra =  T0 + test_epochs_precession*test_P_fits - ((e*test_PA)/np.pi)*np.cos(test_w)\n",
    "occ = T0 + test_PA/2 + test_epochs_precession*test_P_fits + ((e*test_PA)/np.pi)*np.cos(test_w)\n",
    "print(tra)\n",
    "print(occ)\n",
    "# test_precession_fit = np.array([9.33910858e-04, 3.21423111e+02, 3.25788802e+02, 6.25386429e+02,6.31934975e+02, 6.48306322e+02, 6.57037708e+02])\n",
    "test_precession_fit = np.array([-5.76315154e-04, 3.21424452e+02, 3.25790140e+02, 6.25385378e+02, 6.31933923e+02,  6.48305283e+02,  6.57036676e+02])"
   ]
  },
  {
   "cell_type": "code",
   "execution_count": null,
   "metadata": {},
   "outputs": [],
   "source": []
  }
 ],
 "metadata": {
  "kernelspec": {
   "display_name": "Python 3",
   "language": "python",
   "name": "python3"
  },
  "language_info": {
   "codemirror_mode": {
    "name": "ipython",
    "version": 3
   },
   "file_extension": ".py",
   "mimetype": "text/x-python",
   "name": "python",
   "nbconvert_exporter": "python",
   "pygments_lexer": "ipython3",
   "version": "3.12.3"
  }
 },
 "nbformat": 4,
 "nbformat_minor": 2
}
