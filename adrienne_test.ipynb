{
 "cells": [
  {
   "cell_type": "code",
   "execution_count": 5,
   "metadata": {},
   "outputs": [],
   "source": [
    "import sys\n",
    "sys.path.append(\".\")\n",
    "import unittest\n",
    "import numpy as np\n",
    "import matplotlib.pyplot as plt\n",
    "from susie.timing_data import TimingData\n",
    "from susie.ephemeris import Ephemeris\n",
    "from scipy.optimize import curve_fit\n",
    "from astropy import time\n",
    "from astropy import coordinates as coord\n",
    "from astropy import units as u\n",
    "\n",
    "test_epochs = np.array([0, 294, 298, 573])\n",
    "test_mtts = np.array([2454515.525,2454836.403,2454840.769,2455140.91])\n",
    "test_mtts_err = np.array([0.00043, 0.00028, 0.00062, 0.00042])\n",
    "test_tra_or_occ = np.array(['tra','occ','tra','occ'])\n",
    "test_tra_or_occ_enum = [0 if i == 'tra' else 1 for i in test_tra_or_occ]\n",
    "\n",
    "test_P_fits = 1.091423\n",
    "\n",
    "test_P_linear =  1.0904734088754364 # period linear\n",
    "test_P_err_linear =  0.0006807481006299065 # period error linear\n",
    "test_T0_linear =2454515.423966982# conjunction time\n",
    "test_T0_err_linear = 0.23692092991744518  # conjunction time error\n",
    "\n",
    "test_P_quad =  1.0892663209112947#period quad\n",
    "test_P_err_quad =  0.002368690041166098 # period err quad\n",
    "test_T0_quad = 2454515.5241231285 #conjunction time quad\n",
    "test_T0_err_quad = 0.3467430587812461#conjunction time err quad\n",
    "test_dPdE =  4.223712653342504e-06#period change by epoch\n",
    "test_dPdE_err = 7.742732700893123e-06#period change by epoch error\n",
    "\n",
    "test_observed_data = test_mtts\n",
    "test_uncertainties= test_mtts_err \n",
    " \n"
   ]
  },
  {
   "cell_type": "code",
   "execution_count": null,
   "metadata": {},
   "outputs": [],
   "source": []
  },
  {
   "cell_type": "code",
   "execution_count": null,
   "metadata": {},
   "outputs": [],
   "source": []
  },
  {
   "cell_type": "code",
   "execution_count": 6,
   "metadata": {},
   "outputs": [],
   "source": [
    "transit_times_obj1 = TimingData('jd', test_epochs, test_mtts, test_mtts_err, test_tra_or_occ, time_scale='tdb')"
   ]
  },
  {
   "cell_type": "code",
   "execution_count": 7,
   "metadata": {},
   "outputs": [],
   "source": [
    "ephemeris_obj1 = Ephemeris(transit_times_obj1)"
   ]
  },
  {
   "cell_type": "code",
   "execution_count": 8,
   "metadata": {},
   "outputs": [
    {
     "data": {
      "text/plain": [
       "{'period': 1.0904734088754364,\n",
       " 'period_err': 0.0006807481006299065,\n",
       " 'conjunction_time': 2454515.423966982,\n",
       " 'conjunction_time_err': 0.23692092991744518,\n",
       " 'model_type': 'linear',\n",
       " 'model_data': array([2454515.42396698, 2454836.5683859 , 2454840.38504283,\n",
       "        2455140.81046697])}"
      ]
     },
     "execution_count": 8,
     "metadata": {},
     "output_type": "execute_result"
    }
   ],
   "source": [
    "linear_model_data = ephemeris_obj1.get_model_ephemeris('linear')\n",
    "linear_model_data"
   ]
  },
  {
   "cell_type": "code",
   "execution_count": 9,
   "metadata": {},
   "outputs": [
    {
     "data": {
      "text/plain": [
       "{'period': 1.0904734088754364,\n",
       " 'period_err': 0.0006807481006299065,\n",
       " 'conjunction_time': 2454515.423966982,\n",
       " 'conjunction_time_err': 0.23692092991744518}"
      ]
     },
     "execution_count": 9,
     "metadata": {},
     "output_type": "execute_result"
    }
   ],
   "source": [
    "model_parameters = ephemeris_obj1._get_model_parameters('linear')\n",
    "model_parameters"
   ]
  },
  {
   "cell_type": "code",
   "execution_count": 10,
   "metadata": {},
   "outputs": [
    {
     "data": {
      "text/plain": [
       "{'period': 1.0892663209112947,\n",
       " 'period_err': 0.002368690041166098,\n",
       " 'conjunction_time': 2454515.5241231285,\n",
       " 'conjunction_time_err': 0.3467430587812461,\n",
       " 'period_change_by_epoch': 4.223712653342504e-06,\n",
       " 'period_change_by_epoch_err': 7.742732700893123e-06}"
      ]
     },
     "execution_count": 10,
     "metadata": {},
     "output_type": "execute_result"
    }
   ],
   "source": [
    "ephemeris_obj1._get_model_parameters('quadratic')   "
   ]
  },
  {
   "cell_type": "code",
   "execution_count": 11,
   "metadata": {},
   "outputs": [
    {
     "data": {
      "text/plain": [
       "{'period': 1.0914223406835055,\n",
       " 'period_err': 1.0489630324274194e-06,\n",
       " 'conjunction_time': 2454515.5249325945,\n",
       " 'conjunction_time_err': 0.00036467200659212915}"
      ]
     },
     "execution_count": 11,
     "metadata": {},
     "output_type": "execute_result"
    }
   ],
   "source": [
    "def linear_model(test_x, test_P_linear, test_T0_linear):\n",
    "    \"\"\"Linear model function.\"\"\"\n",
    "    return test_P_linear * test_x + test_T0_linear\n",
    "\n",
    "\n",
    "popt, pcov = curve_fit(linear_model, test_epochs, test_mtts, sigma=test_mtts_err, absolute_sigma=True)\n",
    "unc = np.sqrt(np.diag(pcov))\n",
    "return_data = {\n",
    "    'period': popt[0],\n",
    "    'period_err': unc[0],\n",
    "    'conjunction_time': popt[1],\n",
    "    'conjunction_time_err': unc[1]\n",
    "}\n",
    "return_data"
   ]
  },
  {
   "cell_type": "code",
   "execution_count": 12,
   "metadata": {},
   "outputs": [
    {
     "data": {
      "text/plain": [
       "{'conjunction_time': 2454515.5249979226,\n",
       " 'conjunction_time_err': 0.0004299841051609291,\n",
       " 'period': 1.0914393799928248,\n",
       " 'period_err': 1.696739076276109e-06,\n",
       " 'period_change_by_epoch': -8.173424194182869e-08,\n",
       " 'period_change_by_epoch_err': 2.9002083989492785e-09}"
      ]
     },
     "execution_count": 12,
     "metadata": {},
     "output_type": "execute_result"
    }
   ],
   "source": [
    "def quad_model(test_epochs, test_dPdE, test_P_quad, test_T0_quad):\n",
    "    return 0.5*test_dPdE*test_epochs*test_epochs + test_P_quad*test_epochs + test_T0_quad\n",
    "popt, pcov = curve_fit(quad_model, test_epochs, test_mtts, sigma=test_mtts_err, absolute_sigma=True)\n",
    "unc = np.sqrt(np.diag(pcov))\n",
    "return_data = {\n",
    "            'conjunction_time': popt[2],\n",
    "            'conjunction_time_err': unc[2],\n",
    "            'period': popt[1],\n",
    "            'period_err': unc[1],\n",
    "            'period_change_by_epoch': popt[0],\n",
    "            'period_change_by_epoch_err': unc[0],\n",
    "        }\n",
    "return_data"
   ]
  },
  {
   "cell_type": "code",
   "execution_count": 13,
   "metadata": {},
   "outputs": [
    {
     "data": {
      "text/plain": [
       "{'period': 1.0892663209112947,\n",
       " 'period_err': 0.002368690041166098,\n",
       " 'conjunction_time': 2454515.5241231285,\n",
       " 'conjunction_time_err': 0.3467430587812461,\n",
       " 'period_change_by_epoch': 4.223712653342504e-06,\n",
       " 'period_change_by_epoch_err': 7.742732700893123e-06,\n",
       " 'model_type': 'quadratic',\n",
       " 'model_data': array([2454515.52412313, 2454836.49559505, 2454840.31302805,\n",
       "        2455140.91174185])}"
      ]
     },
     "execution_count": 13,
     "metadata": {},
     "output_type": "execute_result"
    }
   ],
   "source": [
    "quadratic_model_data = ephemeris_obj1.get_model_ephemeris('quadratic')\n",
    "quadratic_model_data"
   ]
  },
  {
   "cell_type": "code",
   "execution_count": 14,
   "metadata": {},
   "outputs": [
    {
     "name": "stdout",
     "output_type": "stream",
     "text": [
      "[  0. 321. 325. 625.]\n",
      "[  1. 321. 326. 626.]\n"
     ]
    }
   ],
   "source": [
    "##linear fit\n",
    "P = 1.091423\n",
    "E = test_epochs\n",
    "T0 = 0\n",
    "tra_or_occ =  np.array([0,1,0,1])\n",
    "tra = np.round(P * E +T0)\n",
    "print(tra)\n",
    "occ = np.round(P * E +(T0+0.5*P))\n",
    "print(occ)\n",
    "lin_fit = np.array([0.         , 3.21423879e+02, 325.24385758, 6.25930712e+02 ])\n"
   ]
  },
  {
   "cell_type": "code",
   "execution_count": 15,
   "metadata": {},
   "outputs": [
    {
     "name": "stdout",
     "output_type": "stream",
     "text": [
      "[  0. 321. 325. 625.]\n",
      "[  1. 321. 326. 626.]\n"
     ]
    }
   ],
   "source": [
    "##quad fit\n",
    "P = 1.091423\n",
    "E =  np.array([0, 294, 298, 573])\n",
    "T0 = 0\n",
    "dPdE = 0\n",
    "tra_q = np.round(0.5*dPdE*E*E + P*E + 0)\n",
    "print(tra_q)\n",
    "occ_q = np.round((0 + 0.5*P) + P*E + 0.5*dPdE*E*E)\n",
    "print(occ_q)\n",
    "quad_fit = np.array([0,321,325,626])"
   ]
  },
  {
   "cell_type": "code",
   "execution_count": null,
   "metadata": {},
   "outputs": [],
   "source": []
  },
  {
   "cell_type": "code",
   "execution_count": 16,
   "metadata": {},
   "outputs": [
    {
     "name": "stdout",
     "output_type": "stream",
     "text": [
      "[0.23692092 0.31014112 0.31190525 0.45638259]\n",
      "[0.23692116 0.31036088 0.31212674 0.45667354]\n"
     ]
    }
   ],
   "source": [
    "##linear model uncertainites\n",
    "T0_err_l =  0.23692091722329203\n",
    "P_err_l =  0.0006807480614626216\n",
    "E = test_epochs\n",
    "tra = (np.sqrt((T0_err_l**2) + ((test_epochs**2)*(P_err_l**2))))\n",
    "print(tra)\n",
    "occ = (np.sqrt(((T0_err_l**2) +((test_epochs+0.5)**2) * (P_err_l**2))))\n",
    "print(occ)\n",
    "result = np.array([0.23692092,0.31036088, 0.31190525, 0.45667354 ])"
   ]
  },
  {
   "cell_type": "code",
   "execution_count": 17,
   "metadata": {},
   "outputs": [
    {
     "name": "stdout",
     "output_type": "stream",
     "text": [
      "[0.34674306 0.84685934 0.85829843 1.89156889]\n",
      "[0.34674508 0.84783352 0.8592727  1.89241887]\n"
     ]
    }
   ],
   "source": [
    "##quad model uncertainite\n",
    "T0_err_q = test_T0_err_quad\n",
    "P_err_q = test_P_err_quad\n",
    "dPdE_err = test_dPdE_err\n",
    "E = test_epochs\n",
    "tra = (np.sqrt((T0_err_q**2) + ((E**2)*(P_err_q**2)) + ((1/4)*(E**4)*(dPdE_err**2))))\n",
    "print(tra)\n",
    "\n",
    "occ = (np.sqrt( (T0_err_q**2) + (((E+0.5)**2)*(P_err_q**2)) + ((1/4)*(E**4)*(dPdE_err**2))))\n",
    "print(occ)\n",
    "result = np.array([0.34674306,0.84783352,0.85829843,1.89241887])\n"
   ]
  },
  {
   "cell_type": "code",
   "execution_count": 18,
   "metadata": {},
   "outputs": [
    {
     "name": "stdout",
     "output_type": "stream",
     "text": [
      "[2454515.42396698 2454836.02314919 2454840.38504283 2455140.26523027]\n",
      "[2454515.96920369 2454836.5683859  2454840.93027953 2455140.81046697]\n"
     ]
    }
   ],
   "source": [
    "##calc lin ephem\n",
    "E = test_epochs\n",
    "tra = test_T0_linear+test_P_linear*E\n",
    "print(tra)\n",
    "occ = (test_T0_linear+0.5*test_P_linear)+(test_P_linear*E)\n",
    "print(occ)\n",
    "result = np.array([2454515.42396698, 2454836.5683859, 2454840.38504283, 2455140.81046697])"
   ]
  },
  {
   "cell_type": "code",
   "execution_count": 19,
   "metadata": {},
   "outputs": [
    {
     "name": "stdout",
     "output_type": "stream",
     "text": [
      "[2454515.52412313 2454835.95096189 2454840.31302805 2455140.36710869]\n",
      "[2454516.06875629 2454836.49559505 2454840.85766121 2455140.91174185]\n"
     ]
    }
   ],
   "source": [
    "## calc quad ephem\n",
    "P_q = test_P_quad\n",
    "T0_q = test_T0_quad\n",
    "dPdE =  test_dPdE\n",
    "tra = (T0_q + P_q*E + 0.5*dPdE*E*E)\n",
    "occ = ((T0_q + 0.5*P_q) + P_q*E + 0.5*dPdE*E*E)\n",
    "print(tra)\n",
    "print(occ)\n",
    "result = np.array([2454515.52412313, 2454836.49559505, 2454840.31302805, 2455140.91174185])"
   ]
  },
  {
   "cell_type": "code",
   "execution_count": 20,
   "metadata": {},
   "outputs": [
    {
     "data": {
      "text/plain": [
       "843766.30314325"
      ]
     },
     "execution_count": 20,
     "metadata": {},
     "output_type": "execute_result"
    }
   ],
   "source": [
    "#calc chi linear\n",
    "observed_data = test_mtts\n",
    "model_data = np.array([2454515.42396698, 2454836.5683859, 2454840.38504283, 2455140.81046697]) \n",
    "uncertainties = np.array([0.00043, 0.00028, 0.00062, 0.00042]) \n",
    "np.sum(((observed_data - model_data)/uncertainties)**2)"
   ]
  },
  {
   "cell_type": "code",
   "execution_count": 21,
   "metadata": {},
   "outputs": [
    {
     "data": {
      "text/plain": [
       "650251.5809274575"
      ]
     },
     "execution_count": 21,
     "metadata": {},
     "output_type": "execute_result"
    }
   ],
   "source": [
    "#calc chi quad\n",
    "observed_data = test_mtts\n",
    "model_data = np.array([2454515.52412313, 2454836.49559505, 2454840.31302805, 2455140.91174185])\n",
    "uncertainties =  np.array([0.00043, 0.00028, 0.00062, 0.00042])\n",
    "np.sum(((observed_data - model_data)/uncertainties)**2)"
   ]
  },
  {
   "cell_type": "code",
   "execution_count": 22,
   "metadata": {},
   "outputs": [
    {
     "data": {
      "text/plain": [
       "843769.0757319723"
      ]
     },
     "execution_count": 22,
     "metadata": {},
     "output_type": "execute_result"
    }
   ],
   "source": [
    "## calc bic lin\n",
    "chi_squared= 843766.30314325\n",
    "num_params=2\n",
    "\n",
    "chi_squared + (num_params*np.log(4))\n"
   ]
  },
  {
   "cell_type": "code",
   "execution_count": 23,
   "metadata": {},
   "outputs": [
    {
     "data": {
      "text/plain": [
       "{'period': 1.0904734088754364,\n",
       " 'period_err': 0.0006807481006299065,\n",
       " 'conjunction_time': 2454515.423966982,\n",
       " 'conjunction_time_err': 0.23692092991744518,\n",
       " 'model_type': 'linear',\n",
       " 'model_data': array([2454515.42396698, 2454836.5683859 , 2454840.38504283,\n",
       "        2455140.81046697])}"
      ]
     },
     "execution_count": 23,
     "metadata": {},
     "output_type": "execute_result"
    }
   ],
   "source": [
    "ephemeris_obj1.get_model_ephemeris('linear')"
   ]
  },
  {
   "cell_type": "code",
   "execution_count": 24,
   "metadata": {},
   "outputs": [
    {
     "data": {
      "text/plain": [
       "{'period': 1.0892663209112947,\n",
       " 'period_err': 0.002368690041166098,\n",
       " 'conjunction_time': 2454515.5241231285,\n",
       " 'conjunction_time_err': 0.3467430587812461,\n",
       " 'period_change_by_epoch': 4.223712653342504e-06,\n",
       " 'period_change_by_epoch_err': 7.742732700893123e-06,\n",
       " 'model_type': 'quadratic',\n",
       " 'model_data': array([2454515.52412313, 2454836.49559505, 2454840.31302805,\n",
       "        2455140.91174185])}"
      ]
     },
     "execution_count": 24,
     "metadata": {},
     "output_type": "execute_result"
    }
   ],
   "source": [
    "ephemeris_obj1.get_model_ephemeris('quadratic')"
   ]
  },
  {
   "cell_type": "code",
   "execution_count": 25,
   "metadata": {},
   "outputs": [
    {
     "data": {
      "text/plain": [
       "650255.7398105409"
      ]
     },
     "execution_count": 25,
     "metadata": {},
     "output_type": "execute_result"
    }
   ],
   "source": [
    "## calc bic quad\n",
    "chi_squared= 650251.5809274575\n",
    "num_params=3\n",
    "\n",
    "chi_squared + (num_params*np.log(4))"
   ]
  },
  {
   "cell_type": "code",
   "execution_count": 26,
   "metadata": {},
   "outputs": [
    {
     "data": {
      "text/plain": [
       "193513.33592143143"
      ]
     },
     "execution_count": 26,
     "metadata": {},
     "output_type": "execute_result"
    }
   ],
   "source": [
    "linear_bic =  843769.0757319723\n",
    "quadratic_bic =  650255.7398105409\n",
    "linear_bic - quadratic_bic"
   ]
  },
  {
   "cell_type": "code",
   "execution_count": 27,
   "metadata": {},
   "outputs": [
    {
     "data": {
      "text/plain": [
       "<Time object: scale='utc' format='isot' value=['2024-05-23T12:34:56.000' '2024-05-24T12:34:56.000']>"
      ]
     },
     "execution_count": 27,
     "metadata": {},
     "output_type": "execute_result"
    }
   ],
   "source": [
    "from astropy.time import Time, TimeDelta\n",
    "\n",
    "# Example mid_times data\n",
    "mid_times = ['2024-05-23T12:34:56', '2024-05-24T12:34:56']\n",
    "time_format = 'isot'  # ISO 8601 format\n",
    "time_scale = 'utc'    # Coordinated Universal Time scale\n",
    "\n",
    "mid_times_obj = Time(mid_times, format=time_format, scale=time_scale)\n",
    "mid_times_obj"
   ]
  },
  {
   "cell_type": "code",
   "execution_count": 28,
   "metadata": {},
   "outputs": [
    {
     "name": "stdout",
     "output_type": "stream",
     "text": [
      "['2024-05-23T12:34:56.000' '2024-05-24T12:34:56.000']\n",
      "Julian Date: [2460454.02425926 2460455.02425926]\n",
      "Barycentric Dynamical Time: ['2024-05-23T12:36:05.185' '2024-05-24T12:36:05.185']\n"
     ]
    }
   ],
   "source": [
    "test_mid_times = ['2024-05-23T12:34:56', '2024-05-24T12:34:56']\n",
    "test_time_format = 'isot'  \n",
    "test_time_scale = 'utc' \n",
    "\n",
    "# Create the Time object\n",
    "mid_times_obj = Time(mid_times, format=time_format, scale=time_scale)\n",
    "\n",
    "# Output the Time object and its attributes\n",
    "print(mid_times_obj)\n",
    "print(\"Julian Date:\", mid_times_obj.jd)\n",
    "print(\"Barycentric Dynamical Time:\", mid_times_obj.tdb)"
   ]
  },
  {
   "cell_type": "code",
   "execution_count": 29,
   "metadata": {},
   "outputs": [
    {
     "name": "stdout",
     "output_type": "stream",
     "text": [
      "[0.1 0.2]\n",
      "Julian Date: [0.1 0.2]\n",
      "Barycentric Dynamical Time: [0.1 0.2]\n"
     ]
    }
   ],
   "source": [
    "test_mid_times_uncertainties = ['0.1', '0.2']\n",
    "test_time_format = 'jd'  \n",
    "test_time_scale = 'tdb' \n",
    "test_mid_times_uncertainties_obj = TimeDelta(test_mid_times_uncertainties, format=test_time_format, scale=test_time_scale)\n",
    "print(test_mid_times_uncertainties_obj)\n",
    "print(\"Julian Date:\", test_mid_times_uncertainties_obj.jd)\n",
    "print(\"Barycentric Dynamical Time:\", test_mid_times_uncertainties_obj.tdb)"
   ]
  },
  {
   "cell_type": "code",
   "execution_count": 30,
   "metadata": {},
   "outputs": [
    {
     "name": "stdout",
     "output_type": "stream",
     "text": [
      "[0.1 0.2]\n"
     ]
    }
   ],
   "source": [
    "from astropy.time import TimeDelta\n",
    "\n",
    "# Example uncertainties data\n",
    "mid_time_uncertainties = ['0.1', '0.2']  # Uncertainties in seconds\n",
    "time_format = 'jd'  \n",
    "time_scale = 'tdb' \n",
    "\n",
    "# Convert uncertainties to floating-point numbers and seconds\n",
    "mid_time_uncertainties = [float(uncertainty) for uncertainty in mid_time_uncertainties]\n",
    "\n",
    "# Create the TimeDelta object representing uncertainties\n",
    "mid_time_uncertainties_obj = TimeDelta(mid_time_uncertainties, format=time_format, scale=time_scale)\n",
    "\n",
    "# Output the TimeDelta object and its attributes\n",
    "print(mid_time_uncertainties_obj)"
   ]
  },
  {
   "cell_type": "code",
   "execution_count": 31,
   "metadata": {},
   "outputs": [
    {
     "name": "stdout",
     "output_type": "stream",
     "text": [
      "BJD-TDB: 2457585.9153761626\n"
     ]
    }
   ],
   "source": [
    "from astropy.time import Time\n",
    "\n",
    "# Define the time value in BJD-UTC\n",
    "time_bjd_utc = 2457585.914587\n",
    "\n",
    "# Create a Time object with the BJD-UTC value\n",
    "time_obj = Time(time_bjd_utc, format='jd', scale='utc')\n",
    "\n",
    "# Convert the time value to BJD-TDB\n",
    "time_bjd_tdb = time_obj.tdb.jd\n",
    "\n",
    "# Output the converted value\n",
    "print(\"BJD-TDB:\", time_bjd_tdb)"
   ]
  },
  {
   "cell_type": "code",
   "execution_count": 32,
   "metadata": {},
   "outputs": [
    {
     "name": "stdout",
     "output_type": "stream",
     "text": [
      "[2457585.914587 2457586.914587]\n"
     ]
    }
   ],
   "source": [
    "mid_times = np.array([2457585.914587, 2457586.914587])  # An array of float times\n",
    "time_format = 'jd'  # Julian Date format\n",
    "time_scale = 'tdb'  # Coordinated Universal Time scale\n",
    "\n",
    "# Create the Time object\n",
    "mid_times_obj = Time(mid_times, format=time_format, scale=time_scale)\n",
    "\n",
    "# Output the Time object and its attributes\n",
    "print(mid_times_obj)\n",
    "# print(\"Julian Date:\", mid_times_obj.jd)\n",
    "# print(\"Barycentric Dynamical Time:\", mid_times_obj.tdb)"
   ]
  },
  {
   "cell_type": "code",
   "execution_count": 33,
   "metadata": {},
   "outputs": [
    {
     "name": "stdout",
     "output_type": "stream",
     "text": [
      "\n",
      "Object coordinates (RA, DEC):\n",
      "(150.0, 2.5)\n",
      "\n",
      "Observatory coordinates (Longitude, Latitude):\n",
      "(-70.0, -30.0)\n"
     ]
    }
   ],
   "source": [
    "object_ra = 150.0  # Right ascension in degrees\n",
    "object_dec = 2.5   # Declination in degrees\n",
    "obj_coords = (object_ra, object_dec)\n",
    "print(\"\\nObject coordinates (RA, DEC):\")\n",
    "print(obj_coords)\n",
    "\n",
    "# Observatory coordinates (Longitude, Latitude)\n",
    "observatory_lon = -70.0  # Longitude in degrees\n",
    "observatory_lat = -30.0  # Latitude in degrees\n",
    "obs_coords = (observatory_lon, observatory_lat)\n",
    "print(\"\\nObservatory coordinates (Longitude, Latitude):\")\n",
    "print(obs_coords)"
   ]
  },
  {
   "cell_type": "code",
   "execution_count": 34,
   "metadata": {},
   "outputs": [
    {
     "ename": "ValueError",
     "evalue": "Input values did not match any of the formats where the format keyword is optional:\n- 'datetime': Input values for datetime class must be datetime objects\n- 'ymdhms': input must be dict or table-like\n- 'iso': Input values for iso class must be strings\n- 'isot': Input values for isot class must be strings\n- 'yday': Input values for yday class must be strings\n- 'datetime64': Input values for datetime64 class must be datetime64 objects\n- 'fits': Input values for fits class must be strings\n- 'byear_str': Input values for byear_str class must be strings\n- 'jyear_str': Input values for jyear_str class must be strings\n- 'astropy_time': Input values for astropy_time class must all be the same astropy Time type.",
     "output_type": "error",
     "traceback": [
      "\u001b[0;31m---------------------------------------------------------------------------\u001b[0m",
      "\u001b[0;31mValueError\u001b[0m                                Traceback (most recent call last)",
      "Cell \u001b[0;32mIn[34], line 8\u001b[0m\n\u001b[1;32m      5\u001b[0m mid_times \u001b[38;5;241m=\u001b[39m np\u001b[38;5;241m.\u001b[39marray([\u001b[38;5;241m2457585.914587\u001b[39m, \u001b[38;5;241m2457586.914587\u001b[39m])\n\u001b[1;32m      7\u001b[0m \u001b[38;5;66;03m# Create the Time object with Julian Date format and Barycentric Dynamical Time scale\u001b[39;00m\n\u001b[0;32m----> 8\u001b[0m test_mid_times_obj \u001b[38;5;241m=\u001b[39m \u001b[43mTime\u001b[49m\u001b[43m(\u001b[49m\u001b[43mmid_times\u001b[49m\u001b[43m,\u001b[49m\u001b[43m \u001b[49m\u001b[43mscale\u001b[49m\u001b[38;5;241;43m=\u001b[39;49m\u001b[38;5;124;43m'\u001b[39;49m\u001b[38;5;124;43mtdb\u001b[39;49m\u001b[38;5;124;43m'\u001b[39;49m\u001b[43m)\u001b[49m\n\u001b[1;32m     10\u001b[0m \u001b[38;5;66;03m# Print the mid-transit times object\u001b[39;00m\n\u001b[1;32m     11\u001b[0m \u001b[38;5;28mprint\u001b[39m(\u001b[38;5;124m\"\u001b[39m\u001b[38;5;124mMid-transit times (JD, TDB):\u001b[39m\u001b[38;5;124m\"\u001b[39m)\n",
      "File \u001b[0;32m~/Desktop/susie/.venv/lib/python3.9/site-packages/astropy/time/core.py:1977\u001b[0m, in \u001b[0;36mTime.__init__\u001b[0;34m(self, val, val2, format, scale, precision, in_subfmt, out_subfmt, location, copy)\u001b[0m\n\u001b[1;32m   1975\u001b[0m         \u001b[38;5;28mself\u001b[39m\u001b[38;5;241m.\u001b[39m_set_scale(scale)\n\u001b[1;32m   1976\u001b[0m \u001b[38;5;28;01melse\u001b[39;00m:\n\u001b[0;32m-> 1977\u001b[0m     \u001b[38;5;28;43mself\u001b[39;49m\u001b[38;5;241;43m.\u001b[39;49m\u001b[43m_init_from_vals\u001b[49m\u001b[43m(\u001b[49m\n\u001b[1;32m   1978\u001b[0m \u001b[43m        \u001b[49m\u001b[43mval\u001b[49m\u001b[43m,\u001b[49m\u001b[43m \u001b[49m\u001b[43mval2\u001b[49m\u001b[43m,\u001b[49m\u001b[43m \u001b[49m\u001b[38;5;28;43mformat\u001b[39;49m\u001b[43m,\u001b[49m\u001b[43m \u001b[49m\u001b[43mscale\u001b[49m\u001b[43m,\u001b[49m\u001b[43m \u001b[49m\u001b[43mcopy\u001b[49m\u001b[43m,\u001b[49m\u001b[43m \u001b[49m\u001b[43mprecision\u001b[49m\u001b[43m,\u001b[49m\u001b[43m \u001b[49m\u001b[43min_subfmt\u001b[49m\u001b[43m,\u001b[49m\u001b[43m \u001b[49m\u001b[43mout_subfmt\u001b[49m\n\u001b[1;32m   1979\u001b[0m \u001b[43m    \u001b[49m\u001b[43m)\u001b[49m\n\u001b[1;32m   1980\u001b[0m     \u001b[38;5;28mself\u001b[39m\u001b[38;5;241m.\u001b[39mSCALES \u001b[38;5;241m=\u001b[39m TIME_TYPES[\u001b[38;5;28mself\u001b[39m\u001b[38;5;241m.\u001b[39mscale]\n\u001b[1;32m   1982\u001b[0m \u001b[38;5;28;01mif\u001b[39;00m \u001b[38;5;28mself\u001b[39m\u001b[38;5;241m.\u001b[39mlocation \u001b[38;5;129;01mis\u001b[39;00m \u001b[38;5;129;01mnot\u001b[39;00m \u001b[38;5;28;01mNone\u001b[39;00m \u001b[38;5;129;01mand\u001b[39;00m (\n\u001b[1;32m   1983\u001b[0m     \u001b[38;5;28mself\u001b[39m\u001b[38;5;241m.\u001b[39mlocation\u001b[38;5;241m.\u001b[39msize \u001b[38;5;241m>\u001b[39m \u001b[38;5;241m1\u001b[39m \u001b[38;5;129;01mand\u001b[39;00m \u001b[38;5;28mself\u001b[39m\u001b[38;5;241m.\u001b[39mlocation\u001b[38;5;241m.\u001b[39mshape \u001b[38;5;241m!=\u001b[39m \u001b[38;5;28mself\u001b[39m\u001b[38;5;241m.\u001b[39mshape\n\u001b[1;32m   1984\u001b[0m ):\n",
      "File \u001b[0;32m~/Desktop/susie/.venv/lib/python3.9/site-packages/astropy/time/core.py:548\u001b[0m, in \u001b[0;36mTimeBase._init_from_vals\u001b[0;34m(self, val, val2, format, scale, copy, precision, in_subfmt, out_subfmt)\u001b[0m\n\u001b[1;32m    545\u001b[0m mask, val_data2 \u001b[38;5;241m=\u001b[39m get_mask_and_data(mask, val2)\n\u001b[1;32m    547\u001b[0m \u001b[38;5;66;03m# Parse / convert input values into internal jd1, jd2 based on format\u001b[39;00m\n\u001b[0;32m--> 548\u001b[0m \u001b[38;5;28mself\u001b[39m\u001b[38;5;241m.\u001b[39m_time \u001b[38;5;241m=\u001b[39m \u001b[38;5;28;43mself\u001b[39;49m\u001b[38;5;241;43m.\u001b[39;49m\u001b[43m_get_time_fmt\u001b[49m\u001b[43m(\u001b[49m\n\u001b[1;32m    549\u001b[0m \u001b[43m    \u001b[49m\u001b[43mval_data\u001b[49m\u001b[43m,\u001b[49m\u001b[43m \u001b[49m\u001b[43mval_data2\u001b[49m\u001b[43m,\u001b[49m\u001b[43m \u001b[49m\u001b[38;5;28;43mformat\u001b[39;49m\u001b[43m,\u001b[49m\u001b[43m \u001b[49m\u001b[43mscale\u001b[49m\u001b[43m,\u001b[49m\u001b[43m \u001b[49m\u001b[43mprecision\u001b[49m\u001b[43m,\u001b[49m\u001b[43m \u001b[49m\u001b[43min_subfmt\u001b[49m\u001b[43m,\u001b[49m\u001b[43m \u001b[49m\u001b[43mout_subfmt\u001b[49m\u001b[43m,\u001b[49m\u001b[43m \u001b[49m\u001b[43mmask\u001b[49m\n\u001b[1;32m    550\u001b[0m \u001b[43m\u001b[49m\u001b[43m)\u001b[49m\n\u001b[1;32m    551\u001b[0m \u001b[38;5;28mself\u001b[39m\u001b[38;5;241m.\u001b[39m_format \u001b[38;5;241m=\u001b[39m \u001b[38;5;28mself\u001b[39m\u001b[38;5;241m.\u001b[39m_time\u001b[38;5;241m.\u001b[39mname\n\u001b[1;32m    553\u001b[0m \u001b[38;5;66;03m# Hack from #9969 to allow passing the location value that has been\u001b[39;00m\n\u001b[1;32m    554\u001b[0m \u001b[38;5;66;03m# collected by the TimeAstropyTime format class up to the Time level.\u001b[39;00m\n\u001b[1;32m    555\u001b[0m \u001b[38;5;66;03m# TODO: find a nicer way.\u001b[39;00m\n",
      "File \u001b[0;32m~/Desktop/susie/.venv/lib/python3.9/site-packages/astropy/time/core.py:644\u001b[0m, in \u001b[0;36mTimeBase._get_time_fmt\u001b[0;34m(self, val, val2, format, scale, precision, in_subfmt, out_subfmt, mask)\u001b[0m\n\u001b[1;32m    638\u001b[0m             problems[name] \u001b[38;5;241m=\u001b[39m err\n\u001b[1;32m    640\u001b[0m message \u001b[38;5;241m=\u001b[39m (\n\u001b[1;32m    641\u001b[0m     \u001b[38;5;124m\"\u001b[39m\u001b[38;5;124mInput values did not match any of the formats where the format \u001b[39m\u001b[38;5;124m\"\u001b[39m\n\u001b[1;32m    642\u001b[0m     \u001b[38;5;124m\"\u001b[39m\u001b[38;5;124mkeyword is optional:\u001b[39m\u001b[38;5;130;01m\\n\u001b[39;00m\u001b[38;5;124m\"\u001b[39m\n\u001b[1;32m    643\u001b[0m ) \u001b[38;5;241m+\u001b[39m \u001b[38;5;124m\"\u001b[39m\u001b[38;5;130;01m\\n\u001b[39;00m\u001b[38;5;124m\"\u001b[39m\u001b[38;5;241m.\u001b[39mjoin(\u001b[38;5;124mf\u001b[39m\u001b[38;5;124m\"\u001b[39m\u001b[38;5;124m- \u001b[39m\u001b[38;5;124m'\u001b[39m\u001b[38;5;132;01m{\u001b[39;00mname\u001b[38;5;132;01m}\u001b[39;00m\u001b[38;5;124m'\u001b[39m\u001b[38;5;124m: \u001b[39m\u001b[38;5;132;01m{\u001b[39;00merr\u001b[38;5;132;01m}\u001b[39;00m\u001b[38;5;124m\"\u001b[39m \u001b[38;5;28;01mfor\u001b[39;00m name, err \u001b[38;5;129;01min\u001b[39;00m problems\u001b[38;5;241m.\u001b[39mitems())\n\u001b[0;32m--> 644\u001b[0m \u001b[38;5;28;01mraise\u001b[39;00m \u001b[38;5;167;01mValueError\u001b[39;00m(message)\n",
      "\u001b[0;31mValueError\u001b[0m: Input values did not match any of the formats where the format keyword is optional:\n- 'datetime': Input values for datetime class must be datetime objects\n- 'ymdhms': input must be dict or table-like\n- 'iso': Input values for iso class must be strings\n- 'isot': Input values for isot class must be strings\n- 'yday': Input values for yday class must be strings\n- 'datetime64': Input values for datetime64 class must be datetime64 objects\n- 'fits': Input values for fits class must be strings\n- 'byear_str': Input values for byear_str class must be strings\n- 'jyear_str': Input values for jyear_str class must be strings\n- 'astropy_time': Input values for astropy_time class must all be the same astropy Time type."
     ]
    }
   ],
   "source": [
    "import numpy as np\n",
    "from astropy.time import Time\n",
    "\n",
    "# Example mid-transit times (Julian Dates)\n",
    "mid_times = np.array([2457585.914587, 2457586.914587])\n",
    "\n",
    "# Create the Time object with Julian Date format and Barycentric Dynamical Time scale\n",
    "test_mid_times_obj = Time(mid_times, scale='tdb')\n",
    "\n",
    "# Print the mid-transit times object\n",
    "print(\"Mid-transit times (JD, TDB):\")\n",
    "print(test_mid_times_obj)"
   ]
  },
  {
   "cell_type": "code",
   "execution_count": null,
   "metadata": {},
   "outputs": [
    {
     "ename": "ValueError",
     "evalue": "format must be one of ['jd', 'mjd', 'decimalyear', 'unix', 'unix_tai', 'cxcsec', 'gps', 'plot_date', 'stardate', 'datetime', 'ymdhms', 'iso', 'isot', 'yday', 'datetime64', 'fits', 'byear', 'jyear', 'byear_str', 'jyear_str']",
     "output_type": "error",
     "traceback": [
      "\u001b[0;31m---------------------------------------------------------------------------\u001b[0m",
      "\u001b[0;31mValueError\u001b[0m                                Traceback (most recent call last)",
      "Cell \u001b[0;32mIn[16], line 4\u001b[0m\n\u001b[1;32m      1\u001b[0m time_mtts \u001b[38;5;241m=\u001b[39m time\u001b[38;5;241m.\u001b[39mTime(test_mtts, \u001b[38;5;28mformat\u001b[39m\u001b[38;5;241m=\u001b[39m\u001b[38;5;124m'\u001b[39m\u001b[38;5;124mjd\u001b[39m\u001b[38;5;124m'\u001b[39m, scale\u001b[38;5;241m=\u001b[39m\u001b[38;5;124m'\u001b[39m\u001b[38;5;124mtdb\u001b[39m\u001b[38;5;124m'\u001b[39m)\n\u001b[1;32m      2\u001b[0m time_mtts_err \u001b[38;5;241m=\u001b[39m time\u001b[38;5;241m.\u001b[39mTime(test_mtts_err, \u001b[38;5;28mformat\u001b[39m\u001b[38;5;241m=\u001b[39m\u001b[38;5;124m'\u001b[39m\u001b[38;5;124mjd\u001b[39m\u001b[38;5;124m'\u001b[39m, scale\u001b[38;5;241m=\u001b[39m\u001b[38;5;124m'\u001b[39m\u001b[38;5;124mtdb\u001b[39m\u001b[38;5;124m'\u001b[39m)  \n\u001b[0;32m----> 4\u001b[0m converted_mtts \u001b[38;5;241m=\u001b[39m \u001b[43mtime_mtts\u001b[49m\u001b[38;5;241;43m.\u001b[39;49m\u001b[43mto_value\u001b[49m\u001b[43m(\u001b[49m\u001b[43m \u001b[49m\u001b[38;5;124;43m'\u001b[39;49m\u001b[38;5;124;43mutc\u001b[39;49m\u001b[38;5;124;43m'\u001b[39;49m\u001b[43m,\u001b[49m\u001b[38;5;124;43m'\u001b[39;49m\u001b[38;5;124;43misot\u001b[39;49m\u001b[38;5;124;43m'\u001b[39;49m\u001b[43m)\u001b[49m\n\u001b[1;32m      5\u001b[0m converted_mtts_err \u001b[38;5;241m=\u001b[39m time_mtts_err\u001b[38;5;241m.\u001b[39mto_value( \u001b[38;5;124m'\u001b[39m\u001b[38;5;124mutc\u001b[39m\u001b[38;5;124m'\u001b[39m,\u001b[38;5;124m'\u001b[39m\u001b[38;5;124misot\u001b[39m\u001b[38;5;124m'\u001b[39m)\n",
      "File \u001b[0;32m~/Desktop/susie/.venv/lib/python3.9/site-packages/astropy/time/core.py:998\u001b[0m, in \u001b[0;36mTimeBase.to_value\u001b[0;34m(self, format, subfmt)\u001b[0m\n\u001b[1;32m    995\u001b[0m \u001b[38;5;66;03m# TODO: add a precision argument (but ensure it is keyword argument\u001b[39;00m\n\u001b[1;32m    996\u001b[0m \u001b[38;5;66;03m# only, to make life easier for TimeDelta.to_value()).\u001b[39;00m\n\u001b[1;32m    997\u001b[0m \u001b[38;5;28;01mif\u001b[39;00m \u001b[38;5;28mformat\u001b[39m \u001b[38;5;129;01mnot\u001b[39;00m \u001b[38;5;129;01min\u001b[39;00m \u001b[38;5;28mself\u001b[39m\u001b[38;5;241m.\u001b[39mFORMATS:\n\u001b[0;32m--> 998\u001b[0m     \u001b[38;5;28;01mraise\u001b[39;00m \u001b[38;5;167;01mValueError\u001b[39;00m(\u001b[38;5;124mf\u001b[39m\u001b[38;5;124m\"\u001b[39m\u001b[38;5;124mformat must be one of \u001b[39m\u001b[38;5;132;01m{\u001b[39;00m\u001b[38;5;28mlist\u001b[39m(\u001b[38;5;28mself\u001b[39m\u001b[38;5;241m.\u001b[39mFORMATS)\u001b[38;5;132;01m}\u001b[39;00m\u001b[38;5;124m\"\u001b[39m)\n\u001b[1;32m   1000\u001b[0m \u001b[38;5;28;01mif\u001b[39;00m subfmt \u001b[38;5;129;01mis\u001b[39;00m \u001b[38;5;28;01mNone\u001b[39;00m:\n\u001b[1;32m   1001\u001b[0m     \u001b[38;5;28;01mif\u001b[39;00m \u001b[38;5;28mformat\u001b[39m \u001b[38;5;241m==\u001b[39m \u001b[38;5;28mself\u001b[39m\u001b[38;5;241m.\u001b[39mformat:\n",
      "\u001b[0;31mValueError\u001b[0m: format must be one of ['jd', 'mjd', 'decimalyear', 'unix', 'unix_tai', 'cxcsec', 'gps', 'plot_date', 'stardate', 'datetime', 'ymdhms', 'iso', 'isot', 'yday', 'datetime64', 'fits', 'byear', 'jyear', 'byear_str', 'jyear_str']"
     ]
    }
   ],
   "source": [
    "\n",
    "time_mtts = time.Time(test_mtts, format='jd', scale='tdb')\n",
    "time_mtts_err = time.Time(test_mtts_err, format='jd', scale='tdb')  \n",
    "\n",
    "converted_mtts = time_mtts.to_value( 'utc','isot')\n",
    "converted_mtts_err = time_mtts_err.to_value( 'utc','isot')"
   ]
  },
  {
   "cell_type": "code",
   "execution_count": null,
   "metadata": {},
   "outputs": [],
   "source": []
  },
  {
   "cell_type": "code",
   "execution_count": null,
   "metadata": {},
   "outputs": [
    {
     "name": "stderr",
     "output_type": "stream",
     "text": [
      "WARNING: Recieved time format jd and time scale utc. Correcting all times to BJD timing system with TDB time scale. If no time scale is given, default is automatically assigned to UTC. If this is incorrect, please set the time format and time scale for TransitTime object.\n",
      "WARNING: Using ICRS coordinates in degrees of RA and Dec (97.64, 29.67) for time correction. Using geodetic Earth coordinates in degrees of longitude and latitude (-116.21, 43.6) for time correction.\n",
      "WARNING: Tried to get polar motions for times before IERS data is valid. Defaulting to polar motion from the 50-yr mean for those. This may affect precision at the arcsec level. Please check your astropy.utils.iers.conf.iers_auto_url and point it to a newer version if necessary. [astropy.coordinates.builtin_frames.utils]\n",
      "WARNING: Tried to get polar motions for times before IERS data is valid. Defaulting to polar motion from the 50-yr mean for those. This may affect precision at the arcsec level. Please check your astropy.utils.iers.conf.iers_auto_url and point it to a newer version if necessary.\n",
      "/Users/adriennekirk/Desktop/susie/.venv/lib/python3.9/site-packages/erfa/core.py:154: ErfaWarning: ERFA function \"utctai\" yielded 4 of \"dubious year (Note 3)\"\n",
      "  warnings.warn('ERFA function \"{}\" yielded {}'.format(func_name, wmsg),\n",
      "/Users/adriennekirk/Desktop/susie/.venv/lib/python3.9/site-packages/erfa/core.py:154: ErfaWarning: ERFA function \"utcut1\" yielded 4 of \"dubious year (Note 3)\"\n",
      "  warnings.warn('ERFA function \"{}\" yielded {}'.format(func_name, wmsg),\n",
      "/Users/adriennekirk/Desktop/susie/.venv/lib/python3.9/site-packages/erfa/core.py:154: ErfaWarning: ERFA function \"taiutc\" yielded 4 of \"dubious year (Note 4)\"\n",
      "  warnings.warn('ERFA function \"{}\" yielded {}'.format(func_name, wmsg),\n",
      "/Users/adriennekirk/Desktop/susie/.venv/lib/python3.9/site-packages/erfa/core.py:154: ErfaWarning: ERFA function \"epv00\" yielded 4 of \"warning: date outsidethe range 1900-2100 AD\"\n",
      "  warnings.warn('ERFA function \"{}\" yielded {}'.format(func_name, wmsg),\n"
     ]
    }
   ],
   "source": [
    "timing_data = TimingData('jd', test_epochs, test_mtts, test_mtts_err, time_scale='utc', object_ra=97.64, object_dec=29.67, observatory_lat=43.60, observatory_lon= -116.21)"
   ]
  },
  {
   "cell_type": "code",
   "execution_count": null,
   "metadata": {},
   "outputs": [
    {
     "name": "stderr",
     "output_type": "stream",
     "text": [
      "WARNING: Recieved time format jd and time scale None. Correcting all times to BJD timing system with TDB time scale. If no time scale is given, default is automatically assigned to UTC. If this is incorrect, please set the time format and time scale for TransitTime object.\n",
      "WARNING: Unable to process observatory coordinates (None, None). Using gravitational center of Earth.\n",
      "WARNING: Using ICRS coordinates in degrees of RA and Dec (97.64, 29.67) for time correction. Using geodetic Earth coordinates in degrees of longitude and latitude (0.0, 90.0) for time correction.\n"
     ]
    },
    {
     "ename": "TypeError",
     "evalue": "The variable 'tra_or_occ' expected a NumPy array (np.ndarray) but received a different data type",
     "output_type": "error",
     "traceback": [
      "\u001b[0;31m---------------------------------------------------------------------------\u001b[0m",
      "\u001b[0;31mTypeError\u001b[0m                                 Traceback (most recent call last)",
      "Cell \u001b[0;32mIn[32], line 1\u001b[0m\n\u001b[0;32m----> 1\u001b[0m timing_data \u001b[38;5;241m=\u001b[39m \u001b[43mTimingData\u001b[49m\u001b[43m(\u001b[49m\u001b[38;5;124;43m'\u001b[39;49m\u001b[38;5;124;43mjd\u001b[39;49m\u001b[38;5;124;43m'\u001b[39;49m\u001b[43m,\u001b[49m\u001b[43m \u001b[49m\u001b[43mtest_epochs\u001b[49m\u001b[43m,\u001b[49m\u001b[43m \u001b[49m\u001b[43mtest_mtts\u001b[49m\u001b[43m,\u001b[49m\u001b[43m \u001b[49m\u001b[43mtest_mtts_err\u001b[49m\u001b[43m,\u001b[49m\u001b[43m  \u001b[49m\u001b[38;5;124;43m'\u001b[39;49m\u001b[38;5;124;43mutc\u001b[39;49m\u001b[38;5;124;43m'\u001b[39;49m\u001b[43m,\u001b[49m\u001b[43m \u001b[49m\u001b[43mobject_ra\u001b[49m\u001b[38;5;241;43m=\u001b[39;49m\u001b[38;5;241;43m97.64\u001b[39;49m\u001b[43m,\u001b[49m\u001b[43m \u001b[49m\u001b[43mobject_dec\u001b[49m\u001b[38;5;241;43m=\u001b[39;49m\u001b[38;5;241;43m29.67\u001b[39;49m\u001b[43m,\u001b[49m\u001b[43m \u001b[49m\u001b[43mobservatory_lat\u001b[49m\u001b[38;5;241;43m=\u001b[39;49m\u001b[38;5;28;43;01mNone\u001b[39;49;00m\u001b[43m,\u001b[49m\u001b[43m \u001b[49m\u001b[43mobservatory_lon\u001b[49m\u001b[38;5;241;43m=\u001b[39;49m\u001b[38;5;28;43;01mNone\u001b[39;49;00m\u001b[43m)\u001b[49m\n",
      "File \u001b[0;32m~/Desktop/susie/.venv/lib/python3.9/site-packages/susie/timing_data.py:88\u001b[0m, in \u001b[0;36mTimingData.__init__\u001b[0;34m(self, time_format, epochs, mid_times, mid_time_uncertainties, tra_or_occ, time_scale, object_ra, object_dec, observatory_lon, observatory_lat)\u001b[0m\n\u001b[1;32m     86\u001b[0m     \u001b[38;5;28mself\u001b[39m\u001b[38;5;241m.\u001b[39m_validate_times(mid_times_obj, mid_time_uncertainties_obj, (object_ra, object_dec), (observatory_lon, observatory_lat))\n\u001b[1;32m     87\u001b[0m \u001b[38;5;66;03m# Call validation function\u001b[39;00m\n\u001b[0;32m---> 88\u001b[0m \u001b[38;5;28;43mself\u001b[39;49m\u001b[38;5;241;43m.\u001b[39;49m\u001b[43m_validate\u001b[49m\u001b[43m(\u001b[49m\u001b[43m)\u001b[49m\n",
      "File \u001b[0;32m~/Desktop/susie/.venv/lib/python3.9/site-packages/susie/timing_data.py:265\u001b[0m, in \u001b[0;36mTimingData._validate\u001b[0;34m(self)\u001b[0m\n\u001b[1;32m    263\u001b[0m     \u001b[38;5;28mself\u001b[39m\u001b[38;5;241m.\u001b[39mtra_or_occ \u001b[38;5;241m=\u001b[39m np\u001b[38;5;241m.\u001b[39marray([\u001b[38;5;124m'\u001b[39m\u001b[38;5;124mtra\u001b[39m\u001b[38;5;124m'\u001b[39m \u001b[38;5;28;01mfor\u001b[39;00m element \u001b[38;5;129;01min\u001b[39;00m \u001b[38;5;28mself\u001b[39m\u001b[38;5;241m.\u001b[39mepochs])\n\u001b[1;32m    264\u001b[0m \u001b[38;5;28;01mif\u001b[39;00m \u001b[38;5;28mself\u001b[39m\u001b[38;5;241m.\u001b[39mtra_or_occ \u001b[38;5;129;01mis\u001b[39;00m \u001b[38;5;129;01mnot\u001b[39;00m \u001b[38;5;28;01mNone\u001b[39;00m:\n\u001b[0;32m--> 265\u001b[0m     \u001b[38;5;28;43mself\u001b[39;49m\u001b[38;5;241;43m.\u001b[39;49m\u001b[43m_validate_tra_or_occ\u001b[49m\u001b[43m(\u001b[49m\u001b[43m)\u001b[49m\n",
      "File \u001b[0;32m~/Desktop/susie/.venv/lib/python3.9/site-packages/susie/timing_data.py:186\u001b[0m, in \u001b[0;36mTimingData._validate_tra_or_occ\u001b[0;34m(self)\u001b[0m\n\u001b[1;32m    183\u001b[0m \u001b[38;5;28;01mdef\u001b[39;00m \u001b[38;5;21m_validate_tra_or_occ\u001b[39m(\u001b[38;5;28mself\u001b[39m):\n\u001b[1;32m    184\u001b[0m     \u001b[38;5;66;03m# Check that object is of type array\u001b[39;00m\n\u001b[1;32m    185\u001b[0m     \u001b[38;5;28;01mif\u001b[39;00m \u001b[38;5;129;01mnot\u001b[39;00m \u001b[38;5;28misinstance\u001b[39m(\u001b[38;5;28mself\u001b[39m\u001b[38;5;241m.\u001b[39mtra_or_occ, np\u001b[38;5;241m.\u001b[39mndarray):\n\u001b[0;32m--> 186\u001b[0m         \u001b[38;5;28;01mraise\u001b[39;00m \u001b[38;5;167;01mTypeError\u001b[39;00m(\u001b[38;5;124m\"\u001b[39m\u001b[38;5;124mThe variable \u001b[39m\u001b[38;5;124m'\u001b[39m\u001b[38;5;124mtra_or_occ\u001b[39m\u001b[38;5;124m'\u001b[39m\u001b[38;5;124m expected a NumPy array (np.ndarray) but received a different data type\u001b[39m\u001b[38;5;124m\"\u001b[39m)\n\u001b[1;32m    187\u001b[0m     \u001b[38;5;66;03m# Check if any values are not valid in tra_or_occ array\u001b[39;00m\n\u001b[1;32m    188\u001b[0m     \u001b[38;5;28;01mif\u001b[39;00m \u001b[38;5;28many\u001b[39m(val \u001b[38;5;129;01mnot\u001b[39;00m \u001b[38;5;129;01min\u001b[39;00m [\u001b[38;5;124m'\u001b[39m\u001b[38;5;124mtra\u001b[39m\u001b[38;5;124m'\u001b[39m, \u001b[38;5;124m'\u001b[39m\u001b[38;5;124mocc\u001b[39m\u001b[38;5;124m'\u001b[39m] \u001b[38;5;28;01mfor\u001b[39;00m val \u001b[38;5;129;01min\u001b[39;00m \u001b[38;5;28mself\u001b[39m\u001b[38;5;241m.\u001b[39mtra_or_occ):\n",
      "\u001b[0;31mTypeError\u001b[0m: The variable 'tra_or_occ' expected a NumPy array (np.ndarray) but received a different data type"
     ]
    }
   ],
   "source": [
    " timing_data = TimingData('jd', test_epochs, test_mtts, test_mtts_err,  'utc', object_ra=97.64, object_dec=29.67, observatory_lat=None, observatory_lon=None)"
   ]
  },
  {
   "cell_type": "code",
   "execution_count": null,
   "metadata": {},
   "outputs": [
    {
     "name": "stderr",
     "output_type": "stream",
     "text": [
      "WARNING: Recieved time format jd and time scale utc. Correcting all times to BJD timing system with TDB time scale. If no time scale is given, default is automatically assigned to UTC. If this is incorrect, please set the time format and time scale for TransitTime object.\n",
      "WARNING: Unable to process observatory coordinates (None, None). Using gravitational center of Earth.\n",
      "WARNING: Using ICRS coordinates in degrees of RA and Dec (97.64, 29.67) for time correction. Using geodetic Earth coordinates in degrees of longitude and latitude (0.0, 90.0) for time correction.\n",
      "WARNING: Tried to get polar motions for times before IERS data is valid. Defaulting to polar motion from the 50-yr mean for those. This may affect precision at the arcsec level. Please check your astropy.utils.iers.conf.iers_auto_url and point it to a newer version if necessary. [astropy.coordinates.builtin_frames.utils]\n",
      "WARNING: Tried to get polar motions for times before IERS data is valid. Defaulting to polar motion from the 50-yr mean for those. This may affect precision at the arcsec level. Please check your astropy.utils.iers.conf.iers_auto_url and point it to a newer version if necessary.\n",
      "/Users/adriennekirk/Desktop/susie/.venv/lib/python3.9/site-packages/erfa/core.py:154: ErfaWarning: ERFA function \"utctai\" yielded 4 of \"dubious year (Note 3)\"\n",
      "  warnings.warn('ERFA function \"{}\" yielded {}'.format(func_name, wmsg),\n",
      "/Users/adriennekirk/Desktop/susie/.venv/lib/python3.9/site-packages/erfa/core.py:154: ErfaWarning: ERFA function \"utcut1\" yielded 4 of \"dubious year (Note 3)\"\n",
      "  warnings.warn('ERFA function \"{}\" yielded {}'.format(func_name, wmsg),\n",
      "/Users/adriennekirk/Desktop/susie/.venv/lib/python3.9/site-packages/erfa/core.py:154: ErfaWarning: ERFA function \"taiutc\" yielded 4 of \"dubious year (Note 4)\"\n",
      "  warnings.warn('ERFA function \"{}\" yielded {}'.format(func_name, wmsg),\n",
      "/Users/adriennekirk/Desktop/susie/.venv/lib/python3.9/site-packages/erfa/core.py:154: ErfaWarning: ERFA function \"epv00\" yielded 4 of \"warning: date outsidethe range 1900-2100 AD\"\n",
      "  warnings.warn('ERFA function \"{}\" yielded {}'.format(func_name, wmsg),\n"
     ]
    },
    {
     "ename": "ValueError",
     "evalue": "tra_or_occ array cannot contain string values other than 'tra' or 'occ'",
     "output_type": "error",
     "traceback": [
      "\u001b[0;31m---------------------------------------------------------------------------\u001b[0m",
      "\u001b[0;31mValueError\u001b[0m                                Traceback (most recent call last)",
      "Cell \u001b[0;32mIn[35], line 1\u001b[0m\n\u001b[0;32m----> 1\u001b[0m timing_data \u001b[38;5;241m=\u001b[39m \u001b[43mTimingData\u001b[49m\u001b[43m(\u001b[49m\u001b[38;5;124;43m'\u001b[39;49m\u001b[38;5;124;43mjd\u001b[39;49m\u001b[38;5;124;43m'\u001b[39;49m\u001b[43m,\u001b[49m\u001b[43m \u001b[49m\u001b[43mtest_epochs\u001b[49m\u001b[43m,\u001b[49m\u001b[43m \u001b[49m\u001b[43mtest_mtts\u001b[49m\u001b[43m,\u001b[49m\u001b[43m \u001b[49m\u001b[43mtest_mtts_err\u001b[49m\u001b[43m,\u001b[49m\u001b[43m \u001b[49m\u001b[43mtra_or_occ\u001b[49m\u001b[43m,\u001b[49m\u001b[43m \u001b[49m\u001b[38;5;124;43m'\u001b[39;49m\u001b[38;5;124;43mutc\u001b[39;49m\u001b[38;5;124;43m'\u001b[39;49m\u001b[43m,\u001b[49m\u001b[43m \u001b[49m\u001b[43mobject_ra\u001b[49m\u001b[38;5;241;43m=\u001b[39;49m\u001b[38;5;241;43m97.64\u001b[39;49m\u001b[43m,\u001b[49m\u001b[43m \u001b[49m\u001b[43mobject_dec\u001b[49m\u001b[38;5;241;43m=\u001b[39;49m\u001b[38;5;241;43m29.67\u001b[39;49m\u001b[43m,\u001b[49m\u001b[43m \u001b[49m\u001b[43mobservatory_lat\u001b[49m\u001b[38;5;241;43m=\u001b[39;49m\u001b[38;5;28;43;01mNone\u001b[39;49;00m\u001b[43m,\u001b[49m\u001b[43m \u001b[49m\u001b[43mobservatory_lon\u001b[49m\u001b[38;5;241;43m=\u001b[39;49m\u001b[38;5;28;43;01mNone\u001b[39;49;00m\u001b[43m)\u001b[49m\n",
      "File \u001b[0;32m~/Desktop/susie/.venv/lib/python3.9/site-packages/susie/timing_data.py:88\u001b[0m, in \u001b[0;36mTimingData.__init__\u001b[0;34m(self, time_format, epochs, mid_times, mid_time_uncertainties, tra_or_occ, time_scale, object_ra, object_dec, observatory_lon, observatory_lat)\u001b[0m\n\u001b[1;32m     86\u001b[0m     \u001b[38;5;28mself\u001b[39m\u001b[38;5;241m.\u001b[39m_validate_times(mid_times_obj, mid_time_uncertainties_obj, (object_ra, object_dec), (observatory_lon, observatory_lat))\n\u001b[1;32m     87\u001b[0m \u001b[38;5;66;03m# Call validation function\u001b[39;00m\n\u001b[0;32m---> 88\u001b[0m \u001b[38;5;28;43mself\u001b[39;49m\u001b[38;5;241;43m.\u001b[39;49m\u001b[43m_validate\u001b[49m\u001b[43m(\u001b[49m\u001b[43m)\u001b[49m\n",
      "File \u001b[0;32m~/Desktop/susie/.venv/lib/python3.9/site-packages/susie/timing_data.py:265\u001b[0m, in \u001b[0;36mTimingData._validate\u001b[0;34m(self)\u001b[0m\n\u001b[1;32m    263\u001b[0m     \u001b[38;5;28mself\u001b[39m\u001b[38;5;241m.\u001b[39mtra_or_occ \u001b[38;5;241m=\u001b[39m np\u001b[38;5;241m.\u001b[39marray([\u001b[38;5;124m'\u001b[39m\u001b[38;5;124mtra\u001b[39m\u001b[38;5;124m'\u001b[39m \u001b[38;5;28;01mfor\u001b[39;00m element \u001b[38;5;129;01min\u001b[39;00m \u001b[38;5;28mself\u001b[39m\u001b[38;5;241m.\u001b[39mepochs])\n\u001b[1;32m    264\u001b[0m \u001b[38;5;28;01mif\u001b[39;00m \u001b[38;5;28mself\u001b[39m\u001b[38;5;241m.\u001b[39mtra_or_occ \u001b[38;5;129;01mis\u001b[39;00m \u001b[38;5;129;01mnot\u001b[39;00m \u001b[38;5;28;01mNone\u001b[39;00m:\n\u001b[0;32m--> 265\u001b[0m     \u001b[38;5;28;43mself\u001b[39;49m\u001b[38;5;241;43m.\u001b[39;49m\u001b[43m_validate_tra_or_occ\u001b[49m\u001b[43m(\u001b[49m\u001b[43m)\u001b[49m\n",
      "File \u001b[0;32m~/Desktop/susie/.venv/lib/python3.9/site-packages/susie/timing_data.py:189\u001b[0m, in \u001b[0;36mTimingData._validate_tra_or_occ\u001b[0;34m(self)\u001b[0m\n\u001b[1;32m    187\u001b[0m \u001b[38;5;66;03m# Check if any values are not valid in tra_or_occ array\u001b[39;00m\n\u001b[1;32m    188\u001b[0m \u001b[38;5;28;01mif\u001b[39;00m \u001b[38;5;28many\u001b[39m(val \u001b[38;5;129;01mnot\u001b[39;00m \u001b[38;5;129;01min\u001b[39;00m [\u001b[38;5;124m'\u001b[39m\u001b[38;5;124mtra\u001b[39m\u001b[38;5;124m'\u001b[39m, \u001b[38;5;124m'\u001b[39m\u001b[38;5;124mocc\u001b[39m\u001b[38;5;124m'\u001b[39m] \u001b[38;5;28;01mfor\u001b[39;00m val \u001b[38;5;129;01min\u001b[39;00m \u001b[38;5;28mself\u001b[39m\u001b[38;5;241m.\u001b[39mtra_or_occ):\n\u001b[0;32m--> 189\u001b[0m     \u001b[38;5;28;01mraise\u001b[39;00m \u001b[38;5;167;01mValueError\u001b[39;00m(\u001b[38;5;124m\"\u001b[39m\u001b[38;5;124mtra_or_occ array cannot contain string values other than \u001b[39m\u001b[38;5;124m'\u001b[39m\u001b[38;5;124mtra\u001b[39m\u001b[38;5;124m'\u001b[39m\u001b[38;5;124m or \u001b[39m\u001b[38;5;124m'\u001b[39m\u001b[38;5;124mocc\u001b[39m\u001b[38;5;124m'\u001b[39m\u001b[38;5;124m\"\u001b[39m)\n\u001b[1;32m    190\u001b[0m \u001b[38;5;66;03m# Check the shape \u001b[39;00m\n\u001b[1;32m    191\u001b[0m \u001b[38;5;28;01mif\u001b[39;00m \u001b[38;5;28mself\u001b[39m\u001b[38;5;241m.\u001b[39mtra_or_occ\u001b[38;5;241m.\u001b[39mshape \u001b[38;5;241m!=\u001b[39m \u001b[38;5;28mself\u001b[39m\u001b[38;5;241m.\u001b[39mmid_time_uncertainties\u001b[38;5;241m.\u001b[39mshape \u001b[38;5;241m!=\u001b[39m \u001b[38;5;28mself\u001b[39m\u001b[38;5;241m.\u001b[39mmid_times\u001b[38;5;241m.\u001b[39mshape \u001b[38;5;241m!=\u001b[39m \u001b[38;5;28mself\u001b[39m\u001b[38;5;241m.\u001b[39mepochs\u001b[38;5;241m.\u001b[39mshape:\n",
      "\u001b[0;31mValueError\u001b[0m: tra_or_occ array cannot contain string values other than 'tra' or 'occ'"
     ]
    }
   ],
   "source": [
    "timing_data = TimingData('jd', test_epochs, test_mtts, test_mtts_err, tra_or_occ, 'utc', object_ra=97.64, object_dec=29.67, observatory_lat=None, observatory_lon=None)"
   ]
  },
  {
   "cell_type": "code",
   "execution_count": null,
   "metadata": {},
   "outputs": [
    {
     "name": "stderr",
     "output_type": "stream",
     "text": [
      "WARNING: Recieved time format jd and time scale utc. Correcting all times to BJD timing system with TDB time scale. If no time scale is given, default is automatically assigned to UTC. If this is incorrect, please set the time format and time scale for TransitTime object.\n",
      "WARNING: Using ICRS coordinates in degrees of RA and Dec (97.64, 29.67) for time correction. Using geodetic Earth coordinates in degrees of longitude and latitude (-116.21, 43.6) for time correction.\n"
     ]
    },
    {
     "ename": "ValueError",
     "evalue": "tra_or_occ array cannot contain string values other than 'tra' or 'occ'",
     "output_type": "error",
     "traceback": [
      "\u001b[0;31m---------------------------------------------------------------------------\u001b[0m",
      "\u001b[0;31mValueError\u001b[0m                                Traceback (most recent call last)",
      "Cell \u001b[0;32mIn[36], line 1\u001b[0m\n\u001b[0;32m----> 1\u001b[0m timing_data \u001b[38;5;241m=\u001b[39m \u001b[43mTimingData\u001b[49m\u001b[43m(\u001b[49m\u001b[38;5;124;43m'\u001b[39;49m\u001b[38;5;124;43mjd\u001b[39;49m\u001b[38;5;124;43m'\u001b[39;49m\u001b[43m,\u001b[49m\u001b[43m \u001b[49m\u001b[43mtest_epochs\u001b[49m\u001b[43m,\u001b[49m\u001b[43m \u001b[49m\u001b[43mtest_mtts\u001b[49m\u001b[43m,\u001b[49m\u001b[43m \u001b[49m\u001b[43mtest_mtts_err\u001b[49m\u001b[43m,\u001b[49m\u001b[43m \u001b[49m\u001b[43mtra_or_occ\u001b[49m\u001b[43m,\u001b[49m\u001b[43m \u001b[49m\u001b[38;5;124;43m'\u001b[39;49m\u001b[38;5;124;43mutc\u001b[39;49m\u001b[38;5;124;43m'\u001b[39;49m\u001b[43m,\u001b[49m\u001b[43m \u001b[49m\u001b[43mobject_ra\u001b[49m\u001b[38;5;241;43m=\u001b[39;49m\u001b[38;5;241;43m97.64\u001b[39;49m\u001b[43m,\u001b[49m\u001b[43m \u001b[49m\u001b[43mobject_dec\u001b[49m\u001b[38;5;241;43m=\u001b[39;49m\u001b[38;5;241;43m29.67\u001b[39;49m\u001b[43m,\u001b[49m\u001b[43m \u001b[49m\u001b[43mobservatory_lat\u001b[49m\u001b[38;5;241;43m=\u001b[39;49m\u001b[38;5;241;43m43.60\u001b[39;49m\u001b[43m,\u001b[49m\u001b[43m \u001b[49m\u001b[43mobservatory_lon\u001b[49m\u001b[38;5;241;43m=\u001b[39;49m\u001b[38;5;241;43m-\u001b[39;49m\u001b[38;5;241;43m116.21\u001b[39;49m\u001b[43m)\u001b[49m\n",
      "File \u001b[0;32m~/Desktop/susie/.venv/lib/python3.9/site-packages/susie/timing_data.py:88\u001b[0m, in \u001b[0;36mTimingData.__init__\u001b[0;34m(self, time_format, epochs, mid_times, mid_time_uncertainties, tra_or_occ, time_scale, object_ra, object_dec, observatory_lon, observatory_lat)\u001b[0m\n\u001b[1;32m     86\u001b[0m     \u001b[38;5;28mself\u001b[39m\u001b[38;5;241m.\u001b[39m_validate_times(mid_times_obj, mid_time_uncertainties_obj, (object_ra, object_dec), (observatory_lon, observatory_lat))\n\u001b[1;32m     87\u001b[0m \u001b[38;5;66;03m# Call validation function\u001b[39;00m\n\u001b[0;32m---> 88\u001b[0m \u001b[38;5;28;43mself\u001b[39;49m\u001b[38;5;241;43m.\u001b[39;49m\u001b[43m_validate\u001b[49m\u001b[43m(\u001b[49m\u001b[43m)\u001b[49m\n",
      "File \u001b[0;32m~/Desktop/susie/.venv/lib/python3.9/site-packages/susie/timing_data.py:265\u001b[0m, in \u001b[0;36mTimingData._validate\u001b[0;34m(self)\u001b[0m\n\u001b[1;32m    263\u001b[0m     \u001b[38;5;28mself\u001b[39m\u001b[38;5;241m.\u001b[39mtra_or_occ \u001b[38;5;241m=\u001b[39m np\u001b[38;5;241m.\u001b[39marray([\u001b[38;5;124m'\u001b[39m\u001b[38;5;124mtra\u001b[39m\u001b[38;5;124m'\u001b[39m \u001b[38;5;28;01mfor\u001b[39;00m element \u001b[38;5;129;01min\u001b[39;00m \u001b[38;5;28mself\u001b[39m\u001b[38;5;241m.\u001b[39mepochs])\n\u001b[1;32m    264\u001b[0m \u001b[38;5;28;01mif\u001b[39;00m \u001b[38;5;28mself\u001b[39m\u001b[38;5;241m.\u001b[39mtra_or_occ \u001b[38;5;129;01mis\u001b[39;00m \u001b[38;5;129;01mnot\u001b[39;00m \u001b[38;5;28;01mNone\u001b[39;00m:\n\u001b[0;32m--> 265\u001b[0m     \u001b[38;5;28;43mself\u001b[39;49m\u001b[38;5;241;43m.\u001b[39;49m\u001b[43m_validate_tra_or_occ\u001b[49m\u001b[43m(\u001b[49m\u001b[43m)\u001b[49m\n",
      "File \u001b[0;32m~/Desktop/susie/.venv/lib/python3.9/site-packages/susie/timing_data.py:189\u001b[0m, in \u001b[0;36mTimingData._validate_tra_or_occ\u001b[0;34m(self)\u001b[0m\n\u001b[1;32m    187\u001b[0m \u001b[38;5;66;03m# Check if any values are not valid in tra_or_occ array\u001b[39;00m\n\u001b[1;32m    188\u001b[0m \u001b[38;5;28;01mif\u001b[39;00m \u001b[38;5;28many\u001b[39m(val \u001b[38;5;129;01mnot\u001b[39;00m \u001b[38;5;129;01min\u001b[39;00m [\u001b[38;5;124m'\u001b[39m\u001b[38;5;124mtra\u001b[39m\u001b[38;5;124m'\u001b[39m, \u001b[38;5;124m'\u001b[39m\u001b[38;5;124mocc\u001b[39m\u001b[38;5;124m'\u001b[39m] \u001b[38;5;28;01mfor\u001b[39;00m val \u001b[38;5;129;01min\u001b[39;00m \u001b[38;5;28mself\u001b[39m\u001b[38;5;241m.\u001b[39mtra_or_occ):\n\u001b[0;32m--> 189\u001b[0m     \u001b[38;5;28;01mraise\u001b[39;00m \u001b[38;5;167;01mValueError\u001b[39;00m(\u001b[38;5;124m\"\u001b[39m\u001b[38;5;124mtra_or_occ array cannot contain string values other than \u001b[39m\u001b[38;5;124m'\u001b[39m\u001b[38;5;124mtra\u001b[39m\u001b[38;5;124m'\u001b[39m\u001b[38;5;124m or \u001b[39m\u001b[38;5;124m'\u001b[39m\u001b[38;5;124mocc\u001b[39m\u001b[38;5;124m'\u001b[39m\u001b[38;5;124m\"\u001b[39m)\n\u001b[1;32m    190\u001b[0m \u001b[38;5;66;03m# Check the shape \u001b[39;00m\n\u001b[1;32m    191\u001b[0m \u001b[38;5;28;01mif\u001b[39;00m \u001b[38;5;28mself\u001b[39m\u001b[38;5;241m.\u001b[39mtra_or_occ\u001b[38;5;241m.\u001b[39mshape \u001b[38;5;241m!=\u001b[39m \u001b[38;5;28mself\u001b[39m\u001b[38;5;241m.\u001b[39mmid_time_uncertainties\u001b[38;5;241m.\u001b[39mshape \u001b[38;5;241m!=\u001b[39m \u001b[38;5;28mself\u001b[39m\u001b[38;5;241m.\u001b[39mmid_times\u001b[38;5;241m.\u001b[39mshape \u001b[38;5;241m!=\u001b[39m \u001b[38;5;28mself\u001b[39m\u001b[38;5;241m.\u001b[39mepochs\u001b[38;5;241m.\u001b[39mshape:\n",
      "\u001b[0;31mValueError\u001b[0m: tra_or_occ array cannot contain string values other than 'tra' or 'occ'"
     ]
    }
   ],
   "source": [
    "timing_data = TimingData('jd', test_epochs, test_mtts, test_mtts_err, tra_or_occ, 'utc', object_ra=97.64, object_dec=29.67, observatory_lat=43.60, observatory_lon=-116.21)"
   ]
  },
  {
   "cell_type": "code",
   "execution_count": null,
   "metadata": {},
   "outputs": [
    {
     "name": "stderr",
     "output_type": "stream",
     "text": [
      "WARNING: Recieved time format jd and time scale utc. Correcting all times to BJD timing system with TDB time scale. If no time scale is given, default is automatically assigned to UTC. If this is incorrect, please set the time format and time scale for TransitTime object.\n",
      "WARNING: Using ICRS coordinates in degrees of RA and Dec (97.64, 29.67) for time correction. Using geodetic Earth coordinates in degrees of longitude and latitude (-116.21, 43.6) for time correction.\n",
      "WARNING: Tried to get polar motions for times before IERS data is valid. Defaulting to polar motion from the 50-yr mean for those. This may affect precision at the arcsec level. Please check your astropy.utils.iers.conf.iers_auto_url and point it to a newer version if necessary. [astropy.coordinates.builtin_frames.utils]\n",
      "WARNING: Tried to get polar motions for times before IERS data is valid. Defaulting to polar motion from the 50-yr mean for those. This may affect precision at the arcsec level. Please check your astropy.utils.iers.conf.iers_auto_url and point it to a newer version if necessary.\n",
      "/Users/adriennekirk/Desktop/susie/.venv/lib/python3.9/site-packages/erfa/core.py:154: ErfaWarning: ERFA function \"utctai\" yielded 4 of \"dubious year (Note 3)\"\n",
      "  warnings.warn('ERFA function \"{}\" yielded {}'.format(func_name, wmsg),\n",
      "/Users/adriennekirk/Desktop/susie/.venv/lib/python3.9/site-packages/erfa/core.py:154: ErfaWarning: ERFA function \"utcut1\" yielded 4 of \"dubious year (Note 3)\"\n",
      "  warnings.warn('ERFA function \"{}\" yielded {}'.format(func_name, wmsg),\n",
      "/Users/adriennekirk/Desktop/susie/.venv/lib/python3.9/site-packages/erfa/core.py:154: ErfaWarning: ERFA function \"taiutc\" yielded 4 of \"dubious year (Note 4)\"\n",
      "  warnings.warn('ERFA function \"{}\" yielded {}'.format(func_name, wmsg),\n",
      "/Users/adriennekirk/Desktop/susie/.venv/lib/python3.9/site-packages/erfa/core.py:154: ErfaWarning: ERFA function \"epv00\" yielded 4 of \"warning: date outsidethe range 1900-2100 AD\"\n",
      "  warnings.warn('ERFA function \"{}\" yielded {}'.format(func_name, wmsg),\n"
     ]
    },
    {
     "ename": "AttributeError",
     "evalue": "'numpy.ndarray' object has no attribute 'value'",
     "output_type": "error",
     "traceback": [
      "\u001b[0;31m---------------------------------------------------------------------------\u001b[0m",
      "\u001b[0;31mAttributeError\u001b[0m                            Traceback (most recent call last)",
      "Cell \u001b[0;32mIn[52], line 6\u001b[0m\n\u001b[1;32m      4\u001b[0m timing_data \u001b[38;5;241m=\u001b[39m TimingData(\u001b[38;5;124m'\u001b[39m\u001b[38;5;124mjd\u001b[39m\u001b[38;5;124m'\u001b[39m, test_epochs, test_mtts, test_mtts_err, test_tra_or_occ, \u001b[38;5;124m'\u001b[39m\u001b[38;5;124mutc\u001b[39m\u001b[38;5;124m'\u001b[39m, object_ra\u001b[38;5;241m=\u001b[39m\u001b[38;5;241m97.64\u001b[39m, object_dec\u001b[38;5;241m=\u001b[39m\u001b[38;5;241m29.67\u001b[39m, observatory_lat\u001b[38;5;241m=\u001b[39m\u001b[38;5;241m43.60\u001b[39m, observatory_lon\u001b[38;5;241m=\u001b[39m\u001b[38;5;241m-\u001b[39m\u001b[38;5;241m116.21\u001b[39m)\n\u001b[1;32m      5\u001b[0m corrected_times \u001b[38;5;241m=\u001b[39m timing_data\u001b[38;5;241m.\u001b[39m_calc_barycentric_time(test_time_obj, obj_location, obs_location)\n\u001b[0;32m----> 6\u001b[0m \u001b[43mcorrected_times\u001b[49m\u001b[38;5;241;43m.\u001b[39;49m\u001b[43mvalue\u001b[49m\n",
      "\u001b[0;31mAttributeError\u001b[0m: 'numpy.ndarray' object has no attribute 'value'"
     ]
    }
   ],
   "source": [
    "test_time_obj= time.Time(test_mtts, format='jd', scale='utc')\n",
    "obj_location = coord.SkyCoord(ra=97.64, dec=29.67, unit='deg')\n",
    "obs_location = coord.EarthLocation(lat=43.60, lon=-116.21, height=0)\n",
    "timing_data = TimingData('jd', test_epochs, test_mtts, test_mtts_err, test_tra_or_occ, 'utc', object_ra=97.64, object_dec=29.67, observatory_lat=43.60, observatory_lon=-116.21)\n",
    "corrected_times = timing_data._calc_barycentric_time(test_time_obj, obj_location, obs_location)\n",
    "corrected_times.value"
   ]
  },
  {
   "cell_type": "code",
   "execution_count": null,
   "metadata": {},
   "outputs": [
    {
     "name": "stderr",
     "output_type": "stream",
     "text": [
      "WARNING: Recieved time format jd and time scale utc. Correcting all times to BJD timing system with TDB time scale. If no time scale is given, default is automatically assigned to UTC. If this is incorrect, please set the time format and time scale for TransitTime object.\n",
      "WARNING: Using ICRS coordinates in degrees of RA and Dec (97.64, 29.67) for time correction. Using geodetic Earth coordinates in degrees of longitude and latitude (-116.21, 43.6) for time correction.\n"
     ]
    },
    {
     "data": {
      "text/plain": [
       "array([3.11755062e-03, 3.20883763e+02, 3.25249629e+02, 6.25389261e+02])"
      ]
     },
     "execution_count": 59,
     "metadata": {},
     "output_type": "execute_result"
    }
   ],
   "source": [
    "test_epochs = np.array([0, 294, 298, 573])\n",
    "test_mtts = np.array([0.0, 320.8780000000261, 325.24399999994785, 625.3850000002421])\n",
    "test_mtts_err = np.array([1, 1, 1,1])\n",
    "test_tra_or_occ = np.array(['tra','occ','tra','occ'])\n",
    "\n",
    "\n",
    "# Create Astropy Time object\n",
    "test_time_obj = time.Time(test_mtts, format='jd', scale='utc')\n",
    "\n",
    "# Object and observation locations\n",
    "obj_location = coord.SkyCoord(ra=97.64, dec=29.67, unit='deg')\n",
    "obs_location = coord.EarthLocation(lat=43.60, lon=-116.21, height=0)\n",
    "\n",
    "# Create TimingData instance\n",
    "timing_data = TimingData('jd', test_epochs, test_mtts, test_mtts_err, test_tra_or_occ, 'utc', object_ra=97.64, object_dec=29.67, observatory_lat=43.60, observatory_lon=-116.21)\n",
    "\n",
    "# Calculate barycentric corrected times\n",
    "corrected_times = timing_data._calc_barycentric_time(test_time_obj, obj_location, obs_location)\n",
    "corrected_times"
   ]
  },
  {
   "cell_type": "code",
   "execution_count": null,
   "metadata": {},
   "outputs": [
    {
     "name": "stderr",
     "output_type": "stream",
     "text": [
      "WARNING: Recieved time format jd and time scale None. Correcting all times to BJD timing system with TDB time scale. If no time scale is given, default is automatically assigned to UTC. If this is incorrect, please set the time format and time scale for TransitTime object.\n",
      "WARNING: Using ICRS coordinates in degrees of RA and Dec (97.64, 29.67) for time correction. Using geodetic Earth coordinates in degrees of longitude and latitude (-116.21, 43.6) for time correction.\n",
      "WARNING: Tried to get polar motions for times before IERS data is valid. Defaulting to polar motion from the 50-yr mean for those. This may affect precision at the arcsec level. Please check your astropy.utils.iers.conf.iers_auto_url and point it to a newer version if necessary. [astropy.coordinates.builtin_frames.utils]\n",
      "WARNING: Tried to get polar motions for times before IERS data is valid. Defaulting to polar motion from the 50-yr mean for those. This may affect precision at the arcsec level. Please check your astropy.utils.iers.conf.iers_auto_url and point it to a newer version if necessary.\n"
     ]
    },
    {
     "name": "stdout",
     "output_type": "stream",
     "text": [
      "[3.11451337e-03 3.20883762e+02 3.25249628e+02 6.25389263e+02]\n"
     ]
    },
    {
     "name": "stderr",
     "output_type": "stream",
     "text": [
      "/Users/adriennekirk/Desktop/susie/.venv/lib/python3.9/site-packages/erfa/core.py:154: ErfaWarning: ERFA function \"utctai\" yielded 4 of \"dubious year (Note 3)\"\n",
      "  warnings.warn('ERFA function \"{}\" yielded {}'.format(func_name, wmsg),\n",
      "/Users/adriennekirk/Desktop/susie/.venv/lib/python3.9/site-packages/erfa/core.py:154: ErfaWarning: ERFA function \"utcut1\" yielded 4 of \"dubious year (Note 3)\"\n",
      "  warnings.warn('ERFA function \"{}\" yielded {}'.format(func_name, wmsg),\n",
      "/Users/adriennekirk/Desktop/susie/.venv/lib/python3.9/site-packages/erfa/core.py:154: ErfaWarning: ERFA function \"taiutc\" yielded 4 of \"dubious year (Note 4)\"\n",
      "  warnings.warn('ERFA function \"{}\" yielded {}'.format(func_name, wmsg),\n",
      "/Users/adriennekirk/Desktop/susie/.venv/lib/python3.9/site-packages/erfa/core.py:154: ErfaWarning: ERFA function \"epv00\" yielded 4 of \"warning: date outsidethe range 1900-2100 AD\"\n",
      "  warnings.warn('ERFA function \"{}\" yielded {}'.format(func_name, wmsg),\n"
     ]
    }
   ],
   "source": [
    "test_epochs = np.array([0, 294, 298, 573])\n",
    "test_mtts = np.array([0.0, 320.8780000000261, 325.24399999994785, 625.3850000002421])\n",
    "timing_data = TimingData('jd', test_epochs, test_mtts, test_mtts_err, object_ra=97.64, object_dec=29.67, observatory_lat=43.60, observatory_lon=-116.21)\n",
    "time_obj = time.Time(test_mtts,format = 'jd',scale = 'utc')\n",
    "obj_location = coord.SkyCoord(ra = 97.6,dec = 29.67, unit = 'deg')\n",
    "obs_location = coord.EarthLocation(lat = 43.60, lon = -116.21)\n",
    "expected_result = np.array([3.11451337e-03,3.20883762e+02,3.25249628e+02,6.25389263e+02])\n",
    "actual_result = timing_data._calc_barycentric_time(time_obj, obj_location, obs_location)\n",
    "print(actual_result)"
   ]
  },
  {
   "cell_type": "code",
   "execution_count": null,
   "metadata": {},
   "outputs": [
    {
     "name": "stdout",
     "output_type": "stream",
     "text": [
      "[0.00344345 0.00561672 0.00554016 0.00339291]\n"
     ]
    }
   ],
   "source": [
    "test_time_obj = time.Time(test_mtts, format='jd', scale='utc')\n",
    "time_obj = test_time_obj\n",
    "time_obj.location = obs_location\n",
    "ltt_bary = time_obj.light_travel_time(obj_location)\n",
    "print(ltt_bary)"
   ]
  },
  {
   "cell_type": "code",
   "execution_count": null,
   "metadata": {},
   "outputs": [
    {
     "data": {
      "text/latex": [
       "$(-2042896.9, -4149886.2, 4376818.8) \\; \\mathrm{m}$"
      ],
      "text/plain": [
       "<EarthLocation (-2042896.91935218, -4149886.23746303, 4376818.76798957) m>"
      ]
     },
     "execution_count": 69,
     "metadata": {},
     "output_type": "execute_result"
    }
   ],
   "source": [
    "expected_obs_location = coord.EarthLocation.from_geodetic( -116.21,43.61)\n",
    "expected_obs_location"
   ]
  },
  {
   "cell_type": "code",
   "execution_count": null,
   "metadata": {},
   "outputs": [
    {
     "name": "stdout",
     "output_type": "stream",
     "text": [
      "[-1.86264515e-09  5.45236709e-01  3.08841663e-09  5.45236702e-01]\n",
      "[-5.45236706e-01  4.24597602e-09 -5.45236701e-01 -2.14754436e-09]\n"
     ]
    },
    {
     "data": {
      "text/plain": [
       "array([ 0.10103302, -0.1653859 ,  0.38395717,  0.09953303])"
      ]
     },
     "execution_count": 195,
     "metadata": {},
     "output_type": "execute_result"
    }
   ],
   "source": [
    "test_mtts =  np.array([2454515.42396698, 2454836.5683859 , 2454840.38504283, 2455140.81046697])\n",
    "transits = test_mtts-test_T0_linear-(test_P_linear*test_epochs)\n",
    "occultations = test_mtts-test_T0_linear-(0.5*test_P_linear)-(test_P_linear*test_epochs)\n",
    "print(transits)\n",
    "print(occultations)\n",
    "np.array([-1.86264515e-09, 4.24597602e-09, 3.08841663e-09 , -2.14754436e-09])"
   ]
  },
  {
   "cell_type": "code",
   "execution_count": null,
   "metadata": {},
   "outputs": [],
   "source": [
    "def transit_full(self,P,R_star,a,R_planet,b,i):\n",
    "    k = R_planet/R_star\n",
    "    transit = (P/np.pi)*np.arcsin((((R_star/a)*(((1-k)**2)-(b**2)))**1/2)/np.sin(i))\n",
    "    return transit"
   ]
  },
  {
   "cell_type": "code",
   "execution_count": 38,
   "metadata": {},
   "outputs": [
    {
     "name": "stderr",
     "output_type": "stream",
     "text": [
      "WARNING: Recieved time format jd and time scale utc. Correcting all times to BJD timing system with TDB time scale. If no time scale is given, default is automatically assigned to UTC. If this is incorrect, please set the time format and time scale for TransitTime object.\n",
      "WARNING: Using ICRS coordinates in degrees of RA and Dec (97.64, 29.67) for time correction. Using geodetic Earth coordinates in degrees of longitude and latitude (-116.21, 43.6) for time correction.\n",
      "WARNING: Tried to get polar motions for times before IERS data is valid. Defaulting to polar motion from the 50-yr mean for those. This may affect precision at the arcsec level. Please check your astropy.utils.iers.conf.iers_auto_url and point it to a newer version if necessary. [astropy.coordinates.builtin_frames.utils]\n",
      "WARNING: Tried to get polar motions for times before IERS data is valid. Defaulting to polar motion from the 50-yr mean for those. This may affect precision at the arcsec level. Please check your astropy.utils.iers.conf.iers_auto_url and point it to a newer version if necessary.\n",
      "/Users/adriennekirk/Desktop/susie/.venv/lib/python3.9/site-packages/erfa/core.py:154: ErfaWarning: ERFA function \"utctai\" yielded 4 of \"dubious year (Note 3)\"\n",
      "  warnings.warn('ERFA function \"{}\" yielded {}'.format(func_name, wmsg),\n",
      "/Users/adriennekirk/Desktop/susie/.venv/lib/python3.9/site-packages/erfa/core.py:154: ErfaWarning: ERFA function \"utcut1\" yielded 4 of \"dubious year (Note 3)\"\n",
      "  warnings.warn('ERFA function \"{}\" yielded {}'.format(func_name, wmsg),\n",
      "/Users/adriennekirk/Desktop/susie/.venv/lib/python3.9/site-packages/erfa/core.py:154: ErfaWarning: ERFA function \"taiutc\" yielded 4 of \"dubious year (Note 4)\"\n",
      "  warnings.warn('ERFA function \"{}\" yielded {}'.format(func_name, wmsg),\n",
      "/Users/adriennekirk/Desktop/susie/.venv/lib/python3.9/site-packages/erfa/core.py:154: ErfaWarning: ERFA function \"epv00\" yielded 4 of \"warning: date outsidethe range 1900-2100 AD\"\n",
      "  warnings.warn('ERFA function \"{}\" yielded {}'.format(func_name, wmsg),\n"
     ]
    },
    {
     "data": {
      "text/plain": [
       "array([0.00354448, 0.00339449, 0.00373446, 0.00353448])"
      ]
     },
     "execution_count": 38,
     "metadata": {},
     "output_type": "execute_result"
    }
   ],
   "source": [
    "timing_data = TimingData('jd', test_epochs, test_mtts, test_mtts_err, test_tra_or_occ, 'utc', object_ra=97.64, object_dec=29.67, observatory_lat=43.60, observatory_lon=-116.21)\n",
    "obs_location = coord.EarthLocation(lat = 43.60, lon = -116.21)\n",
    "time_obj = time.Time(test_mtts_err, format='jd', scale='utc', location=obs_location)\n",
    "obj_location = coord.SkyCoord(ra = 97.6,dec = 29.67, unit = 'deg')\n",
    "obs_location = coord.EarthLocation(lat = 43.60, lon = 116.21)\n",
    "timing_data._calc_barycentric_time(time_obj,obj_location)"
   ]
  },
  {
   "cell_type": "code",
   "execution_count": 43,
   "metadata": {},
   "outputs": [],
   "source": [
    "from abc import ABC, abstractmethod\n",
    "from lmfit import Model\n",
    "class BaseModelEphemeris(ABC):\n",
    "    \"\"\"Abstract class that defines the structure of different model ephemeris classes.\"\"\"\n",
    "    @abstractmethod\n",
    "    def fit_model(self, x, y, yerr, tra_or_occ):\n",
    "        \"\"\"Fits a model ephemeris to timing data.\n",
    "\n",
    "        Defines the structure for fitting a model (linear or quadratic) to timing data. \n",
    "        All subclasses must implement this method.\n",
    "\n",
    "        Parameters\n",
    "        ----------\n",
    "            x : numpy.ndarray[int]\n",
    "                The epoch data as recieved from the TimingData object.\n",
    "            y : numpy.ndarray[float]\n",
    "                The mid-time data as recieved from the TimingData object.\n",
    "            yerr : numpy.ndarray[float]\n",
    "                The mid-time error data as recieved from the TimingData object.\n",
    "            tra_or_occ: numpy.ndarray[str]\n",
    "                Indicates if each point of data is taken from a transit or an occultation.\n",
    "\n",
    "        Returns\n",
    "        ------- \n",
    "            A dictionary containing fitted model parameters. \n",
    "        \"\"\"\n",
    "        pass"
   ]
  },
  {
   "cell_type": "code",
   "execution_count": 44,
   "metadata": {},
   "outputs": [],
   "source": [
    "#  precession\n",
    "from abc import ABC, abstractmethod\n",
    "from lmfit import Model\n",
    "class BaseModelEphemeris(ABC):\n",
    "    \"\"\"Abstract class that defines the structure of different model ephemeris classes.\"\"\"\n",
    "    @abstractmethod\n",
    "    def fit_model(self, x, y, yerr, tra_or_occ):\n",
    "        \"\"\"Fits a model ephemeris to timing data.\n",
    "\n",
    "        Defines the structure for fitting a model (linear or quadratic) to timing data. \n",
    "        All subclasses must implement this method.\n",
    "\n",
    "        Parameters\n",
    "        ----------\n",
    "            x : numpy.ndarray[int]\n",
    "                The epoch data as recieved from the TimingData object.\n",
    "            y : numpy.ndarray[float]\n",
    "                The mid-time data as recieved from the TimingData object.\n",
    "            yerr : numpy.ndarray[float]\n",
    "                The mid-time error data as recieved from the TimingData object.\n",
    "            tra_or_occ: numpy.ndarray[str]\n",
    "                Indicates if each point of data is taken from a transit or an occultation.\n",
    "\n",
    "        Returns\n",
    "        ------- \n",
    "            A dictionary containing fitted model parameters. \n",
    "        \"\"\"\n",
    "        pass\n",
    "\n",
    "\n",
    "class PrecessionModelEphemeris(BaseModelEphemeris):\n",
    "    def anomalistic_period(self, P, dwdE):\n",
    "       PA = P/(1 - (1/(2*np.pi))*dwdE)\n",
    "       return PA\n",
    "    \n",
    "    def pericenter(self, W0, dwdE, E):\n",
    "       w = W0 + dwdE*E\n",
    "       return w\n",
    "    \n",
    "    def precession_fit(self, E, T0, P, dwdE, W0, e, tra_or_occ):\n",
    "        result = np.zeros_like(E)\n",
    "        for i, t_type in enumerate(tra_or_occ):\n",
    "           if t_type == 0:\n",
    "            # transit data\n",
    "            result[i] = T0 + E*P - ((e*self.anomalistic_period(P, dwdE))/np.pi)*np.cos(self.pericenter(W0, dwdE, E))\n",
    "           elif t_type == 1:\n",
    "            # occultation data\n",
    "            result[i] = T0 + self.anomalistic_period(P, dwdE)/2 + E(self.anomalistic_period(P, dwdE)(1 - (1/(2*np.pi))*dwdE)) + ((e*self.anomalistic_period(P, dwdE))/np.pi)*np.cos(self.pericenter(W0, dwdE, E))\n",
    "        return result\n",
    "\n",
    "    def fit_model(self, x, y, yerr, tra_or_occ):\n",
    "        tra_or_occ_enum = [0 if i == 'tra' else 1 for i in tra_or_occ]\n",
    "        model = Model(self.precession_fit, independent_vars=['E', 'tra_or_occ'])\n",
    "        params = model.make_params(T0=0., P=1.091423, dWdE=0., e=0.049, W0=-74, tra_or_occ=tra_or_occ_enum)\n",
    "        result = model.fit(y, params, weights=1.0/yerr, E=x, tra_or_occ=tra_or_occ_enum)\n",
    "        return_data = {\n",
    "            'period': result.params['P'].value,\n",
    "            'period_err': result.params['P'].stderr,\n",
    "            'conjunction_time': result.params['T0'].value,\n",
    "            'conjunction_time_err': result.params['T0'].stderr,\n",
    "            'pericenter_change_by_epoch': result.params['dWdE'].value,\n",
    "            'pericenter_change_by_epoch_err': result.params['dWdE'].stderr,\n",
    "            'eccentricity': result.params['e'].value,\n",
    "            'eccentricity_err': result.params['e'].stderr,\n",
    "\n",
    "            'pericenter': result.params['W0'].value,\n",
    "            'pericenter_err': result.params['W0'].stderr\n",
    "        }\n",
    "        return(return_data)\n"
   ]
  },
  {
   "cell_type": "code",
   "execution_count": 47,
   "metadata": {},
   "outputs": [
    {
     "data": {
      "text/plain": [
       "array([0.00043   , 0.00028002, 0.00062004, 0.00042004])"
      ]
     },
     "execution_count": 47,
     "metadata": {},
     "output_type": "execute_result"
    }
   ],
   "source": [
    "a = timing_data._convert_timing_uncertainties(test_mtts, test_mtts_err, 'jd', 'tdb', obj_coords, obs_coords)\n",
    "a"
   ]
  }
 ],
 "metadata": {
  "kernelspec": {
   "display_name": "Python 3",
   "language": "python",
   "name": "python3"
  },
  "language_info": {
   "codemirror_mode": {
    "name": "ipython",
    "version": 3
   },
   "file_extension": ".py",
   "mimetype": "text/x-python",
   "name": "python",
   "nbconvert_exporter": "python",
   "pygments_lexer": "ipython3",
   "version": "3.9.6"
  }
 },
 "nbformat": 4,
 "nbformat_minor": 2
}
