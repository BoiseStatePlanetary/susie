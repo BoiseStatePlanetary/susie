{
 "cells": [
  {
   "cell_type": "markdown",
   "metadata": {},
   "source": [
    "# 🐷 Susie Package Test Notebook"
   ]
  },
  {
   "cell_type": "markdown",
   "metadata": {},
   "source": [
    "### 🔷 Import the necessary python libraries and Susie objects."
   ]
  },
  {
   "cell_type": "markdown",
   "metadata": {},
   "source": [
    "Importing the package from Test PyPi"
   ]
  },
  {
   "cell_type": "code",
   "execution_count": 1,
   "metadata": {},
   "outputs": [
    {
     "name": "stdout",
     "output_type": "stream",
     "text": [
      "Requirement already satisfied: susie==1.0.5 in ./venv/lib/python3.9/site-packages (1.0.5)\n",
      "Requirement already satisfied: scipy in ./venv/lib/python3.9/site-packages (from susie==1.0.5) (1.11.2)\n",
      "Requirement already satisfied: numpy in ./venv/lib/python3.9/site-packages (from susie==1.0.5) (1.25.2)\n",
      "\u001b[33mWARNING: You are using pip version 21.2.4; however, version 23.3.2 is available.\n",
      "You should consider upgrading via the '/Users/maliabarker/Desktop/main/susie/venv/bin/python -m pip install --upgrade pip' command.\u001b[0m\n",
      "Note: you may need to restart the kernel to use updated packages.\n"
     ]
    }
   ],
   "source": [
    "%pip install susie==1.0.5"
   ]
  },
  {
   "cell_type": "code",
   "execution_count": 2,
   "metadata": {},
   "outputs": [],
   "source": [
    "import numpy as np\n",
    "from susie.transit_times import TransitTimes\n",
    "from susie.ephemeris import Ephemeris\n",
    "import matplotlib.pyplot as plt\n",
    "from astropy import coordinates as coords\n",
    "from astropy import units as u\n",
    "from astropy import time"
   ]
  },
  {
   "cell_type": "markdown",
   "metadata": {},
   "source": [
    "### 🔷 Add your transit data to the TransitTimes object."
   ]
  },
  {
   "cell_type": "markdown",
   "metadata": {},
   "source": [
    "❗️**IMPORTANT:** Use either code block below depending on your data needs. The first code block contains values pulled from a CSV file. The second has hard coded values.\n",
    "\n",
    "<small>NOTE: You can use any method and/or file type to upload your data. Just make sure the resulting variables (epoch, mid transit times, and mid transit time errors) are numpy arrays</small>"
   ]
  },
  {
   "cell_type": "markdown",
   "metadata": {},
   "source": [
    "Can use this code block if you have the **CSV file**"
   ]
  },
  {
   "cell_type": "code",
   "execution_count": 10,
   "metadata": {},
   "outputs": [],
   "source": [
    "# STEP 1: Upload data\n",
    "filepath = \"./malia_examples/WASP12b_transit_ephemeris.csv\" # IMPORTANT: Change to your own filepath\n",
    "data = np.genfromtxt(filepath, delimiter=',', names=True)\n",
    "# STEP 2: Break data up into epochs, mid transit times, and error\n",
    "epochs = data[\"epoch\"] - np.min(data[\"epoch\"])\n",
    "mid_transit_times = data[\"transit_time\"] - np.min(data[\"transit_time\"])\n",
    "mid_transit_times_err = data[\"sigma_transit_time\"]\n",
    "# STEP 2.5 (Optional): Make sure the epochs are integers and not floats\n",
    "epochs = epochs.astype('int')"
   ]
  },
  {
   "cell_type": "markdown",
   "metadata": {},
   "source": [
    "Can use this code block if you do not have CSV file, this is **hard coded**"
   ]
  },
  {
   "cell_type": "code",
   "execution_count": 13,
   "metadata": {},
   "outputs": [],
   "source": [
    "# Hard Coded Data\n",
    "# STEP 1: Upload data from file\n",
    "epoch_data = [-1640.0, -1346.0, -1342.0, -1067.0, -1061.0, -1046.0, -1038.0, -1004.0, -1003.0, -985.0, -963.0, -743.0, -739.0, -729.0, -728.0, -721.0, -699.0, -699.0, -677.0, -655.0, -648.0, -646.0, -645.0, -643.0, -625.0, -393.0, -383.0, -382.0, -380.0, -368.0, -353.0, -350.0, -329.0, -328.0, -327.0, -324.0, -323.0, -317.0, -316.0, -307.0, -306.0, -296.0, -295.0, -294.0, -293.0, -283.0, -275.0, -274.0, -55.0, -51.0, -29.0, -21.0, -19.0, -7.0, -3.0, 0.0, 13.0, 21.0, 22.0, 274.0, 275.0, 276.0, 277.0, 297.0, 298.0, 320.0, 324.0, 327.0, 328.0, 329.0, 338.0, 341.0, 351.0, 356.0, 365.0, 372.0, 379.0, 381.0, 382.0, 624.0, 646.0, 648.0, 678.0, 679.0, 691.0, 692.0, 698.0, 699.0, 731.0, 953.0, 994.0, 995.0, 1027.0, 1028.0, 1050.0, 1252.0, 1270.0, 1281.0, 1284.0, 1302.0, 1303.0, 1338.0, 1339.0, 1344.0, 1345.0, 1348.0, 1352.0, 1352.0, 1357.0, 1359.0, 1370.0, 1377.0, 1378.0, 1379.0, 1577.0, 1599.0, 1608.0, 1620.0, 1621.0, 1624.0, 1666.0, 1667.0, 1674.0, 1676.0, 1678.0, 1695.0, 1695.0, 1696.0, 1699.0, 1701.0, 1701.0, 1702.0, 1702.0, 1705.0, 1716.0, 1930.0, 1985.0, 2006.0, 2017.0]\n",
    "mid_transit_time_data = [2454515.525, 2454836.403, 2454840.769, 2455140.91, 2455147.459, 2455163.831, 2455172.561, 2455209.669, 2455210.762, 2455230.407, 2455254.419, 2455494.53, 2455498.896, 2455509.81, 2455510.902, 2455518.541, 2455542.552, 2455542.553, 2455566.564, 2455590.576, 2455598.216, 2455600.398, 2455601.49, 2455603.673, 2455623.318, 2455876.528, 2455887.442, 2455888.533, 2455890.716, 2455903.814, 2455920.184, 2455923.459, 2455946.378, 2455947.47, 2455948.561, 2455951.835, 2455952.927, 2455959.475, 2455960.567, 2455970.389, 2455971.481, 2455982.395, 2455983.487, 2455984.578, 2455985.67, 2455996.584, 2456005.315, 2456006.406, 2456245.427, 2456249.794, 2456273.805, 2456282.536, 2456284.719, 2456297.816, 2456302.182, 2456305.455, 2456319.644, 2456328.376, 2456329.467, 2456604.505, 2456605.596, 2456606.688, 2456607.779, 2456629.607, 2456630.699, 2456654.71, 2456659.076, 2456662.35, 2456663.441, 2456664.533, 2456674.356, 2456677.63, 2456688.544, 2456694.002, 2456703.824, 2456711.464, 2456719.104, 2456721.287, 2456722.378, 2456986.502, 2457010.513, 2457012.696, 2457045.438, 2457046.53, 2457059.627, 2457060.718, 2457067.267, 2457068.358, 2457103.284, 2457345.579, 2457390.327, 2457391.418, 2457426.343, 2457427.435, 2457451.446, 2457671.913, 2457691.559, 2457703.564, 2457706.838, 2457726.484, 2457727.575, 2457765.775, 2457766.866, 2457772.324, 2457773.415, 2457776.689, 2457781.054, 2457781.056, 2457786.512, 2457788.695, 2457800.7, 2457808.34, 2457809.432, 2457810.523, 2458026.624, 2458050.635, 2458060.459, 2458073.555, 2458074.647, 2458077.921, 2458123.76, 2458124.852, 2458132.491, 2458134.675, 2458136.858, 2458155.41, 2458155.412, 2458156.503, 2458159.778, 2458161.96, 2458161.96, 2458163.051, 2458163.051, 2458166.326, 2458178.331, 2458411.895, 2458471.923, 2458494.843, 2458506.848]\n",
    "mid_transit_times_uncertainties_data = [0.00043, 0.00028, 0.00062, 0.00042, 0.00043, 0.00032, 0.00036, 0.00046, 0.00041, 0.00019, 0.00043, 0.00072, 0.00079, 0.00037, 0.00031, 0.0004, 0.0004, 0.00028, 0.00028, 0.00068, 0.00035, 0.00029, 0.00024, 0.00029, 0.00039, 0.00027, 0.00021, 0.00027, 0.00024, 0.00032, 0.00031, 0.00022, 0.00018, 0.00017, 0.00033, 0.00011, 0.0001, 0.00017, 0.00032, 0.00039, 0.00035, 0.00034, 0.00035, 0.00032, 0.00042, 0.00037, 0.00037, 0.00031, 0.00033, 0.00039, 0.0003, 0.0003, 0.0003, 0.0003, 0.00046, 0.00024, 0.00038, 0.00027, 0.00029, 0.00021, 0.0003, 0.00033, 0.00071, 0.00019, 0.00043, 0.00034, 0.00034, 0.00019, 0.00019, 0.00031, 0.00028, 0.00032, 0.0004, 0.00029, 0.00029, 0.00025, 0.00034, 0.00034, 0.00046, 0.00043, 0.00039, 0.00049, 0.00046, 0.00049, 0.00035, 0.00036, 0.00022, 0.0002, 0.00031, 0.00042, 0.00033, 0.00033, 0.00055, 0.00023, 0.00021, 0.00035, 0.00025, 0.00034, 0.00037, 0.00028, 0.00023, 0.00028, 0.00039, 0.00024, 0.00022, 0.00029, 0.00043, 0.00036, 0.00026, 0.00048, 0.00032, 0.0004, 0.00018, 0.00021, 0.00056, 0.00023, 0.0003, 0.00022, 0.00034, 0.00028, 0.00027, 0.00035, 0.00031, 0.00032, 0.00033, 0.0005, 0.00031, 0.00032, 0.00091, 0.00035, 0.00026, 0.00021, 0.00034, 0.00034, 0.00038, 0.0004, 0.00026, 0.0003, 0.00044]\n",
    "# STEP 2: Break data up into epochs, mid transit times, and error\n",
    "epochs = epoch_data - np.min(epoch_data)\n",
    "mid_transit_times = mid_transit_time_data - np.min(mid_transit_time_data)\n",
    "mid_transit_times_err = mid_transit_times_uncertainties_data\n",
    "# STEP 2.5 (Optional): Make sure the epochs are integers and not floats\n",
    "epochs = epochs.astype('int')"
   ]
  },
  {
   "cell_type": "code",
   "execution_count": 18,
   "metadata": {},
   "outputs": [
    {
     "name": "stdout",
     "output_type": "stream",
     "text": [
      "[0.00043, 0.00028, 0.00062, 0.00042, 0.00043, 0.00032, 0.00036, 0.00046, 0.00041, 0.00019, 0.00043, 0.00072, 0.00079, 0.00037, 0.00031, 0.0004, 0.0004, 0.00028, 0.00028, 0.00068, 0.00035, 0.00029, 0.00024, 0.00029, 0.00039]\n"
     ]
    }
   ],
   "source": [
    "print(mid_transit_times_uncertainties_data[:25])"
   ]
  },
  {
   "cell_type": "markdown",
   "metadata": {},
   "source": [
    "❗️ **IMPORTANT**: Our timing data is going to be in JD TDB timing system and scale (AKA Barycentric Julian Date). \n",
    "\n",
    "We **can** input data with a different timing scale and system, and the TransitTimes object will automatically correct it to JD TDB. HOWEVER, we will have to put in the coordinates of the object (RA and Dec in degrees) and the observatory the observations were taken from (in lon and lat in degrees). You have the option to omit observatory coordinates if you do not know them, and function will use the gravitational center of the Earth (x, y, x=0, 0, 0)."
   ]
  },
  {
   "cell_type": "markdown",
   "metadata": {},
   "source": [
    "Example with JD TDB timing system and scale."
   ]
  },
  {
   "cell_type": "code",
   "execution_count": 11,
   "metadata": {},
   "outputs": [],
   "source": [
    "# STEP 3: Create new transit times object with above data\n",
    "transit_times_obj1 = TransitTimes('jd', epochs, mid_transit_times, mid_transit_times_err, time_scale='tdb')\n",
    "# STEP 4 (Optional): To check that the resulting data is correct, you can print each variable and the corresponding data using this command:\n",
    "# print(vars(transit_times_obj1))"
   ]
  },
  {
   "cell_type": "markdown",
   "metadata": {},
   "source": [
    "Example with JD UTC timing system and scale.\n",
    "\n",
    "<small>Using RA and Dec of WASP 12-b and lon, lat of Boise State for observatory.</small>"
   ]
  },
  {
   "cell_type": "code",
   "execution_count": 12,
   "metadata": {},
   "outputs": [
    {
     "name": "stderr",
     "output_type": "stream",
     "text": [
      "WARNING:root:Recieved time format jd and time scale None. Correcting all times to BJD timing system with TDB time scale. If this is incorrect, please set the time format and time scale for TransitTime object.\n",
      "WARNING:root:Using ICRS coordinates in degrees of RA and Dec (97.64, 29.67) for time correction. Using geodetic Earth coordinates in degrees of longitude and latitude (-116.21, 43.6) for time correction.\n",
      "WARNING:root:Using ICRS coordinates in degrees of RA and Dec (97.64, 29.67) for time correction. Using geodetic Earth coordinates in degrees of longitude and latitude (-116.21, 43.6) for time correction.\n"
     ]
    },
    {
     "name": "stdout",
     "output_type": "stream",
     "text": [
      "[0.00354751 0.00339753 0.0037375  0.00353751 0.00354751 0.00343752\n",
      " 0.00347752 0.00357751 0.00352752 0.00330753 0.00354751 0.00383749\n",
      " 0.00390748 0.00348752 0.00342752 0.00351752 0.00351752 0.00339753\n",
      " 0.00339753 0.00379749 0.00346752 0.00340753 0.00335753 0.00340753\n",
      " 0.00350752 0.00338753 0.00332753 0.00338753 0.00335753 0.00343752\n",
      " 0.00342752 0.00333753 0.00329754 0.00328754 0.00344752 0.00322754\n",
      " 0.00321754 0.00328754 0.00343752 0.00350752 0.00346752 0.00345752\n",
      " 0.00346752 0.00343752 0.00353751 0.00348752 0.00348752 0.00342752\n",
      " 0.00344752 0.00350752 0.00341752 0.00341752 0.00341752 0.00341752\n",
      " 0.00357751 0.00335753 0.00349752 0.00338753 0.00340753 0.00332753\n",
      " 0.00341752 0.00344752 0.00382749 0.00330753 0.00354751 0.00345752\n",
      " 0.00345752 0.00330753 0.00330753 0.00342752 0.00339753 0.00343752\n",
      " 0.00351752 0.00340753 0.00340753 0.00336753 0.00345752 0.00345752\n",
      " 0.00357751 0.00354751 0.00350752 0.00360751 0.00357751 0.00360751\n",
      " 0.00346752 0.00347752 0.00333753 0.00331753 0.00342752 0.00353751\n",
      " 0.00344752 0.00344752 0.0036675  0.00334753 0.00332753 0.00346752\n",
      " 0.00336753 0.00345752 0.00348752 0.00339753 0.00334753 0.00339753\n",
      " 0.00350752 0.00335753 0.00333753 0.00340753 0.00354751 0.00347752\n",
      " 0.00337753 0.00359751 0.00343752 0.00351752 0.00329754 0.00332753\n",
      " 0.0036775  0.00334753 0.00341752 0.00333753 0.00345752 0.00339753\n",
      " 0.00338753 0.00346752 0.00342752 0.00343752 0.00344752 0.00361751\n",
      " 0.00342752 0.00343752 0.00402747 0.00346752 0.00337753 0.00332753\n",
      " 0.00345752 0.00345752 0.00349752 0.00351752 0.00337753 0.00341752\n",
      " 0.00355751]\n",
      "[3.11755062e-03 3.20883763e+02 3.25249629e+02 6.25389261e+02\n",
      " 6.31938704e+02 6.48311543e+02 6.57041817e+02 6.94149505e+02\n",
      " 6.95242460e+02 7.14886355e+02 7.38896387e+02 9.79008364e+02\n",
      " 9.83374723e+02 9.94289529e+02 9.95381601e+02 1.00302106e+03\n",
      " 1.02703293e+03 1.02703393e+03 1.05104480e+03 1.07505571e+03\n",
      " 1.08269519e+03 1.08487703e+03 1.08596894e+03 1.08815177e+03\n",
      " 1.10779506e+03 1.36100764e+03 1.37192227e+03 1.37301332e+03\n",
      " 1.37519642e+03 1.38829487e+03 1.40466500e+03 1.40793997e+03\n",
      " 1.43085826e+03 1.43195020e+03 1.43304115e+03 1.43631496e+03\n",
      " 1.43740690e+03 1.44395448e+03 1.44504641e+03 1.45486768e+03\n",
      " 1.45595959e+03 1.46687265e+03 1.46796455e+03 1.46905545e+03\n",
      " 1.47014735e+03 1.48106031e+03 1.48979046e+03 1.49088135e+03\n",
      " 1.72990688e+03 1.73427413e+03 1.75828597e+03 1.76701703e+03\n",
      " 1.76920002e+03 1.78229681e+03 1.78666267e+03 1.78993555e+03\n",
      " 1.80412383e+03 1.81285524e+03 1.81394616e+03 2.08898450e+03\n",
      " 2.09007557e+03 2.09116764e+03 2.09225871e+03 2.11408776e+03\n",
      " 2.11517979e+03 2.13919099e+03 2.14355691e+03 2.14683083e+03\n",
      " 2.14792180e+03 2.14901377e+03 2.15883640e+03 2.16211024e+03\n",
      " 2.17302360e+03 2.17848122e+03 2.18830246e+03 2.19594180e+03\n",
      " 2.20358110e+03 2.20576389e+03 2.20685479e+03 2.47098245e+03\n",
      " 2.49499403e+03 2.49717703e+03 2.52991811e+03 2.53101005e+03\n",
      " 2.54410620e+03 2.54519712e+03 2.55174561e+03 2.55283652e+03\n",
      " 2.58775926e+03 2.83005914e+03 2.87480789e+03 2.87589886e+03\n",
      " 2.91082208e+03 2.91191400e+03 2.93592292e+03 3.15639012e+03\n",
      " 3.17603784e+03 3.18804370e+03 3.19131790e+03 3.21096478e+03\n",
      " 3.21205581e+03 3.25025557e+03 3.25134652e+03 3.25680428e+03\n",
      " 3.25789522e+03 3.26116905e+03 3.26553379e+03 3.26553579e+03\n",
      " 3.27099143e+03 3.27317428e+03 3.28517834e+03 3.29281768e+03\n",
      " 3.29390958e+03 3.29500048e+03 3.51110008e+03 3.53511332e+03\n",
      " 3.54493810e+03 3.55803497e+03 3.55912703e+03 3.56240121e+03\n",
      " 3.60824079e+03 3.60933276e+03 3.61697149e+03 3.61915540e+03\n",
      " 3.62133830e+03 3.63988916e+03 3.63989116e+03 3.64098208e+03\n",
      " 3.64425683e+03 3.64643866e+03 3.64643866e+03 3.64752957e+03\n",
      " 3.64752957e+03 3.65080430e+03 3.66280823e+03 3.89637296e+03\n",
      " 3.95640399e+03 3.97932360e+03 3.99132805e+03]\n"
     ]
    },
    {
     "ename": "TypeError",
     "evalue": "The variable 'mid_transit_times' expected a NumPy array (np.ndarray) but received a different data type",
     "output_type": "error",
     "traceback": [
      "\u001b[0;31m---------------------------------------------------------------------------\u001b[0m",
      "\u001b[0;31mTypeError\u001b[0m                                 Traceback (most recent call last)",
      "Cell \u001b[0;32mIn[12], line 2\u001b[0m\n\u001b[1;32m      1\u001b[0m \u001b[39m# STEP 3: Create new transit times object with above data\u001b[39;00m\n\u001b[0;32m----> 2\u001b[0m transit_times_obj1 \u001b[39m=\u001b[39m TransitTimes(\u001b[39m'\u001b[39;49m\u001b[39mjd\u001b[39;49m\u001b[39m'\u001b[39;49m, epochs, mid_transit_times, mid_transit_times_err, object_ra\u001b[39m=\u001b[39;49m\u001b[39m97.64\u001b[39;49m, object_dec\u001b[39m=\u001b[39;49m\u001b[39m29.67\u001b[39;49m, observatory_lat\u001b[39m=\u001b[39;49m\u001b[39m43.60\u001b[39;49m, observatory_lon\u001b[39m=\u001b[39;49m\u001b[39m-\u001b[39;49m\u001b[39m116.21\u001b[39;49m)\n",
      "File \u001b[0;32m~/Desktop/main/susie/venv/lib/python3.9/site-packages/susie/transit_times.py:44\u001b[0m, in \u001b[0;36mTransitTimes.__init__\u001b[0;34m(self, time_format, epochs, mid_transit_times, mid_transit_times_uncertainties, time_scale, object_ra, object_dec, observatory_lon, observatory_lat)\u001b[0m\n\u001b[1;32m     42\u001b[0m     \u001b[39mself\u001b[39m\u001b[39m.\u001b[39m_validate_times(time_format, time_scale)\n\u001b[1;32m     43\u001b[0m \u001b[39m# Call validation function\u001b[39;00m\n\u001b[0;32m---> 44\u001b[0m \u001b[39mself\u001b[39;49m\u001b[39m.\u001b[39;49m_validate()\n",
      "File \u001b[0;32m~/Desktop/main/susie/venv/lib/python3.9/site-packages/susie/transit_times.py:92\u001b[0m, in \u001b[0;36mTransitTimes._validate\u001b[0;34m(self)\u001b[0m\n\u001b[1;32m     90\u001b[0m     \u001b[39mraise\u001b[39;00m \u001b[39mTypeError\u001b[39;00m(\u001b[39m\"\u001b[39m\u001b[39mThe variable \u001b[39m\u001b[39m'\u001b[39m\u001b[39mepochs\u001b[39m\u001b[39m'\u001b[39m\u001b[39m expected a NumPy array (np.ndarray) but received a different data type\u001b[39m\u001b[39m\"\u001b[39m)\n\u001b[1;32m     91\u001b[0m \u001b[39mif\u001b[39;00m \u001b[39mnot\u001b[39;00m \u001b[39misinstance\u001b[39m(\u001b[39mself\u001b[39m\u001b[39m.\u001b[39mmid_transit_times, np\u001b[39m.\u001b[39mndarray):\n\u001b[0;32m---> 92\u001b[0m     \u001b[39mraise\u001b[39;00m \u001b[39mTypeError\u001b[39;00m(\u001b[39m\"\u001b[39m\u001b[39mThe variable \u001b[39m\u001b[39m'\u001b[39m\u001b[39mmid_transit_times\u001b[39m\u001b[39m'\u001b[39m\u001b[39m expected a NumPy array (np.ndarray) but received a different data type\u001b[39m\u001b[39m\"\u001b[39m)\n\u001b[1;32m     93\u001b[0m \u001b[39mif\u001b[39;00m \u001b[39mnot\u001b[39;00m \u001b[39misinstance\u001b[39m(\u001b[39mself\u001b[39m\u001b[39m.\u001b[39mmid_transit_times_uncertainties, np\u001b[39m.\u001b[39mndarray):\n\u001b[1;32m     94\u001b[0m     \u001b[39mraise\u001b[39;00m \u001b[39mTypeError\u001b[39;00m(\u001b[39m\"\u001b[39m\u001b[39mThe variable \u001b[39m\u001b[39m'\u001b[39m\u001b[39mmid_transit_times_uncertainties\u001b[39m\u001b[39m'\u001b[39m\u001b[39m expected a NumPy array (np.ndarray) but received a different data type\u001b[39m\u001b[39m\"\u001b[39m)\n",
      "\u001b[0;31mTypeError\u001b[0m: The variable 'mid_transit_times' expected a NumPy array (np.ndarray) but received a different data type"
     ]
    }
   ],
   "source": [
    "# STEP 3: Create new transit times object with above data\n",
    "transit_times_obj1 = TransitTimes('jd', epochs, mid_transit_times, mid_transit_times_err, object_ra=97.64, object_dec=29.67, observatory_lat=43.60, observatory_lon=-116.21)"
   ]
  },
  {
   "cell_type": "code",
   "execution_count": null,
   "metadata": {},
   "outputs": [],
   "source": [
    "help(transit_times_obj1)"
   ]
  },
  {
   "cell_type": "markdown",
   "metadata": {},
   "source": [
    "### 🔷 Create the Ephemeris object and add your TransitTimes object."
   ]
  },
  {
   "cell_type": "code",
   "execution_count": null,
   "metadata": {},
   "outputs": [],
   "source": [
    "ephemeris_obj1 = Ephemeris(transit_times_obj1)"
   ]
  },
  {
   "cell_type": "markdown",
   "metadata": {},
   "source": [
    "### 🔷 Fit your transit time data to an ephemeris model. You can specify what type of model with the options 'linear' or 'quadratic'."
   ]
  },
  {
   "cell_type": "code",
   "execution_count": null,
   "metadata": {},
   "outputs": [],
   "source": [
    "# Getting a linear model will solve for period and conjuction time (and their respective errors)\n",
    "linear_model_data = ephemeris_obj1.get_model_ephemeris('linear')"
   ]
  },
  {
   "cell_type": "code",
   "execution_count": null,
   "metadata": {},
   "outputs": [],
   "source": [
    "# Show model fit\n",
    "plt.scatter(x=transit_times_obj1.epochs, y=linear_model_data, marker='v')\n",
    "plt.scatter(x=transit_times_obj1.epochs, y=transit_times_obj1.mid_transit_times, marker='o')\n",
    "plt.show()"
   ]
  },
  {
   "cell_type": "code",
   "execution_count": null,
   "metadata": {},
   "outputs": [],
   "source": [
    "# Getting a quadratic model will solve for period, conjunction time, and period change by epoch (and their respective errors)\n",
    "quad_model_data = ephemeris_obj1.get_model_ephemeris('quadratic')"
   ]
  },
  {
   "cell_type": "code",
   "execution_count": null,
   "metadata": {},
   "outputs": [],
   "source": [
    "# Show model fit\n",
    "plt.scatter(x=transit_times_obj1.epochs, y=quad_model_data, marker='v')\n",
    "plt.scatter(x=transit_times_obj1.epochs, y=transit_times_obj1.mid_transit_times, marker='o')\n",
    "plt.show()"
   ]
  }
 ],
 "metadata": {
  "kernelspec": {
   "display_name": "venv",
   "language": "python",
   "name": "python3"
  },
  "language_info": {
   "codemirror_mode": {
    "name": "ipython",
    "version": 3
   },
   "file_extension": ".py",
   "mimetype": "text/x-python",
   "name": "python",
   "nbconvert_exporter": "python",
   "pygments_lexer": "ipython3",
   "version": "3.9.7"
  },
  "orig_nbformat": 4
 },
 "nbformat": 4,
 "nbformat_minor": 2
}
