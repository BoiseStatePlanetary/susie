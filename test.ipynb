{
 "cells": [
  {
   "cell_type": "markdown",
   "metadata": {},
   "source": [
    "Import the necessary python libraries and Susie objects."
   ]
  },
  {
   "cell_type": "code",
   "execution_count": 1,
   "metadata": {},
   "outputs": [
    {
     "name": "stdout",
     "output_type": "stream",
     "text": [
      "Looking in indexes: https://test.pypi.org/simple/\n",
      "Requirement already satisfied: susie==1.0.3 in ./venv/lib/python3.9/site-packages (1.0.3)\n",
      "Requirement already satisfied: scipy in ./venv/lib/python3.9/site-packages (from susie==1.0.3) (1.11.2)\n",
      "Requirement already satisfied: numpy in ./venv/lib/python3.9/site-packages (from susie==1.0.3) (1.25.2)\n",
      "\u001b[33mWARNING: You are using pip version 21.2.4; however, version 23.3.1 is available.\n",
      "You should consider upgrading via the '/Users/maliabarker/Desktop/main/susie/venv/bin/python -m pip install --upgrade pip' command.\u001b[0m\n",
      "Note: you may need to restart the kernel to use updated packages.\n"
     ]
    }
   ],
   "source": [
    "%pip install -i https://test.pypi.org/simple/ susie==1.0.3"
   ]
  },
  {
   "cell_type": "code",
   "execution_count": 8,
   "metadata": {},
   "outputs": [],
   "source": [
    "import numpy as np\n",
    "from susie.transit_times import TransitTimes\n",
    "from susie.ephemeris import Ephemeris\n",
    "import matplotlib.pyplot as plt\n",
    "from astropy import coordinates as coords\n",
    "from astropy import units as u\n",
    "from astropy import time"
   ]
  },
  {
   "cell_type": "code",
   "execution_count": 6,
   "metadata": {},
   "outputs": [
    {
     "data": {
      "text/latex": [
       "$97^\\circ38{}^\\prime11.85{}^{\\prime\\prime}$"
      ],
      "text/plain": [
       "<Longitude 97.636625 deg>"
      ]
     },
     "execution_count": 6,
     "metadata": {},
     "output_type": "execute_result"
    }
   ],
   "source": [
    "coors = ('06h30m32.79s +29d40m20.16s')\n",
    "c = coords.SkyCoord(coors, unit=(u.hourangle, u.deg), obstime=\"J1992.21\")\n",
    "c.ra"
   ]
  },
  {
   "cell_type": "markdown",
   "metadata": {},
   "source": [
    "Add your transit data to the TransitTimes object."
   ]
  },
  {
   "cell_type": "code",
   "execution_count": null,
   "metadata": {},
   "outputs": [],
   "source": [
    "# If you have CSV File, use this\n",
    "# STEP 1: Upload data from file\n",
    "filepath = \"./malia_examples/WASP12b_transit_ephemeris.csv\"\n",
    "data = np.genfromtxt(filepath, delimiter=',', names=True)\n",
    "# STEP 2: Break data up into epochs, mid transit times, and error\n",
    "epochs = data[\"epoch\"] - np.min(data[\"epoch\"])\n",
    "mid_transit_times = data[\"transit_time\"] - np.min(data[\"transit_time\"])\n",
    "mid_transit_times_err = data[\"sigma_transit_time\"]"
   ]
  },
  {
   "cell_type": "code",
   "execution_count": null,
   "metadata": {},
   "outputs": [],
   "source": [
    "# If not use this\n",
    "# Hard Coded Data\n",
    "epoch_data = [-1640.0, -1346.0, -1342.0, -1067.0, -1061.0, -1046.0, -1038.0, -1004.0, -1003.0, -985.0, -963.0, -743.0, -739.0, -729.0, -728.0, -721.0, -699.0, -699.0, -677.0, -655.0, -648.0, -646.0, -645.0, -643.0, -625.0, -393.0, -383.0, -382.0, -380.0, -368.0, -353.0, -350.0, -329.0, -328.0, -327.0, -324.0, -323.0, -317.0, -316.0, -307.0, -306.0, -296.0, -295.0, -294.0, -293.0, -283.0, -275.0, -274.0, -55.0, -51.0, -29.0, -21.0, -19.0, -7.0, -3.0, 0.0, 13.0, 21.0, 22.0, 274.0, 275.0, 276.0, 277.0, 297.0, 298.0, 320.0, 324.0, 327.0, 328.0, 329.0, 338.0, 341.0, 351.0, 356.0, 365.0, 372.0, 379.0, 381.0, 382.0, 624.0, 646.0, 648.0, 678.0, 679.0, 691.0, 692.0, 698.0, 699.0, 731.0, 953.0, 994.0, 995.0, 1027.0, 1028.0, 1050.0, 1252.0, 1270.0, 1281.0, 1284.0, 1302.0, 1303.0, 1338.0, 1339.0, 1344.0, 1345.0, 1348.0, 1352.0, 1352.0, 1357.0, 1359.0, 1370.0, 1377.0, 1378.0, 1379.0, 1577.0, 1599.0, 1608.0, 1620.0, 1621.0, 1624.0, 1666.0, 1667.0, 1674.0, 1676.0, 1678.0, 1695.0, 1695.0, 1696.0, 1699.0, 1701.0, 1701.0, 1702.0, 1702.0, 1705.0, 1716.0, 1930.0, 1985.0, 2006.0, 2017.0]\n",
    "mid_transit_time_data = [2454515.525, 2454836.403, 2454840.769, 2455140.91, 2455147.459, 2455163.831, 2455172.561, 2455209.669, 2455210.762, 2455230.407, 2455254.419, 2455494.53, 2455498.896, 2455509.81, 2455510.902, 2455518.541, 2455542.552, 2455542.553, 2455566.564, 2455590.576, 2455598.216, 2455600.398, 2455601.49, 2455603.673, 2455623.318, 2455876.528, 2455887.442, 2455888.533, 2455890.716, 2455903.814, 2455920.184, 2455923.459, 2455946.378, 2455947.47, 2455948.561, 2455951.835, 2455952.927, 2455959.475, 2455960.567, 2455970.389, 2455971.481, 2455982.395, 2455983.487, 2455984.578, 2455985.67, 2455996.584, 2456005.315, 2456006.406, 2456245.427, 2456249.794, 2456273.805, 2456282.536, 2456284.719, 2456297.816, 2456302.182, 2456305.455, 2456319.644, 2456328.376, 2456329.467, 2456604.505, 2456605.596, 2456606.688, 2456607.779, 2456629.607, 2456630.699, 2456654.71, 2456659.076, 2456662.35, 2456663.441, 2456664.533, 2456674.356, 2456677.63, 2456688.544, 2456694.002, 2456703.824, 2456711.464, 2456719.104, 2456721.287, 2456722.378, 2456986.502, 2457010.513, 2457012.696, 2457045.438, 2457046.53, 2457059.627, 2457060.718, 2457067.267, 2457068.358, 2457103.284, 2457345.579, 2457390.327, 2457391.418, 2457426.343, 2457427.435, 2457451.446, 2457671.913, 2457691.559, 2457703.564, 2457706.838, 2457726.484, 2457727.575, 2457765.775, 2457766.866, 2457772.324, 2457773.415, 2457776.689, 2457781.054, 2457781.056, 2457786.512, 2457788.695, 2457800.7, 2457808.34, 2457809.432, 2457810.523, 2458026.624, 2458050.635, 2458060.459, 2458073.555, 2458074.647, 2458077.921, 2458123.76, 2458124.852, 2458132.491, 2458134.675, 2458136.858, 2458155.41, 2458155.412, 2458156.503, 2458159.778, 2458161.96, 2458161.96, 2458163.051, 2458163.051, 2458166.326, 2458178.331, 2458411.895, 2458471.923, 2458494.843, 2458506.848]\n",
    "mid_transit_times_uncertainties_data = [0.00043, 0.00028, 0.00062, 0.00042, 0.00043, 0.00032, 0.00036, 0.00046, 0.00041, 0.00019, 0.00043, 0.00072, 0.00079, 0.00037, 0.00031, 0.0004, 0.0004, 0.00028, 0.00028, 0.00068, 0.00035, 0.00029, 0.00024, 0.00029, 0.00039, 0.00027, 0.00021, 0.00027, 0.00024, 0.00032, 0.00031, 0.00022, 0.00018, 0.00017, 0.00033, 0.00011, 0.0001, 0.00017, 0.00032, 0.00039, 0.00035, 0.00034, 0.00035, 0.00032, 0.00042, 0.00037, 0.00037, 0.00031, 0.00033, 0.00039, 0.0003, 0.0003, 0.0003, 0.0003, 0.00046, 0.00024, 0.00038, 0.00027, 0.00029, 0.00021, 0.0003, 0.00033, 0.00071, 0.00019, 0.00043, 0.00034, 0.00034, 0.00019, 0.00019, 0.00031, 0.00028, 0.00032, 0.0004, 0.00029, 0.00029, 0.00025, 0.00034, 0.00034, 0.00046, 0.00043, 0.00039, 0.00049, 0.00046, 0.00049, 0.00035, 0.00036, 0.00022, 0.0002, 0.00031, 0.00042, 0.00033, 0.00033, 0.00055, 0.00023, 0.00021, 0.00035, 0.00025, 0.00034, 0.00037, 0.00028, 0.00023, 0.00028, 0.00039, 0.00024, 0.00022, 0.00029, 0.00043, 0.00036, 0.00026, 0.00048, 0.00032, 0.0004, 0.00018, 0.00021, 0.00056, 0.00023, 0.0003, 0.00022, 0.00034, 0.00028, 0.00027, 0.00035, 0.00031, 0.00032, 0.00033, 0.0005, 0.00031, 0.00032, 0.00091, 0.00035, 0.00026, 0.00021, 0.00034, 0.00034, 0.00038, 0.0004, 0.00026, 0.0003, 0.00044]\n",
    "\n",
    "epochs = epoch_data - np.min(epoch_data)\n",
    "mid_transit_times = mid_transit_time_data - np.min(mid_transit_time_data)\n",
    "mid_transit_times_err = mid_transit_times_uncertainties_data"
   ]
  },
  {
   "cell_type": "code",
   "execution_count": 10,
   "metadata": {},
   "outputs": [],
   "source": [
    "# NOTE: You can use any method and/or file type to upload your data. Just make sure the resulting variables (epoch, mid transit times, and mid transit time errors) are numpy arrays\n",
    "# STEP 2.5 (Optional): Make sure the epochs are integers and not floats\n",
    "epochs = epochs.astype('int')\n",
    "# STEP 3: Create new transit times object with above data\n",
    "transit_times_obj1 = TransitTimes(epochs, mid_transit_times, mid_transit_times_err)\n",
    "# STEP 4 (Optional): To check that the resulting data is correct, you can print each variable and the corresponding data using this command: print(vars(transit_times_obj1))"
   ]
  },
  {
   "cell_type": "code",
   "execution_count": 11,
   "metadata": {},
   "outputs": [],
   "source": [
    "mid_tt = time.Time(mid_transit_times, format='jd', scale=None)"
   ]
  },
  {
   "cell_type": "code",
   "execution_count": 18,
   "metadata": {},
   "outputs": [],
   "source": [
    "test_arr = np.ones_like(mid_tt, dtype=float)"
   ]
  },
  {
   "cell_type": "code",
   "execution_count": 19,
   "metadata": {},
   "outputs": [],
   "source": [
    "test_tt = time.Time(test_arr, format='jd', scale=None)"
   ]
  },
  {
   "cell_type": "code",
   "execution_count": 20,
   "metadata": {},
   "outputs": [
    {
     "data": {
      "text/plain": [
       "True"
      ]
     },
     "execution_count": 20,
     "metadata": {},
     "output_type": "execute_result"
    }
   ],
   "source": [
    "np.all(test_tt.value == 1)"
   ]
  },
  {
   "cell_type": "code",
   "execution_count": 22,
   "metadata": {},
   "outputs": [],
   "source": [
    "earth_center = coords.EarthLocation.from_geocentric(0., 0., 0., unit=u.m)"
   ]
  },
  {
   "cell_type": "code",
   "execution_count": 25,
   "metadata": {},
   "outputs": [
    {
     "data": {
      "text/plain": [
       "(0., 0., 0.)"
      ]
     },
     "execution_count": 25,
     "metadata": {},
     "output_type": "execute_result"
    }
   ],
   "source": [
    "earth_center.value"
   ]
  },
  {
   "cell_type": "code",
   "execution_count": 32,
   "metadata": {},
   "outputs": [],
   "source": [
    "obs_location = coords.EarthLocation.from_geodetic(-116, 42)"
   ]
  },
  {
   "cell_type": "code",
   "execution_count": 38,
   "metadata": {},
   "outputs": [],
   "source": [
    "obj_coord = coords.SkyCoord(ra=97.64, dec=29.67, unit='deg', frame='icrs')"
   ]
  },
  {
   "cell_type": "code",
   "execution_count": 48,
   "metadata": {},
   "outputs": [
    {
     "name": "stdout",
     "output_type": "stream",
     "text": [
      "97.64\n"
     ]
    }
   ],
   "source": [
    "print(obj_coord.ra.value)"
   ]
  },
  {
   "cell_type": "markdown",
   "metadata": {},
   "source": [
    "Create the Ephemeris object and add your TransitTimes object."
   ]
  },
  {
   "cell_type": "code",
   "execution_count": null,
   "metadata": {},
   "outputs": [],
   "source": [
    "ephemeris_obj1 = Ephemeris(transit_times_obj1)"
   ]
  },
  {
   "cell_type": "markdown",
   "metadata": {},
   "source": [
    "Fit your transit time data to an ephemeris model. You can specify what type of model with the options 'linear' or 'quadratic'."
   ]
  },
  {
   "cell_type": "code",
   "execution_count": null,
   "metadata": {},
   "outputs": [],
   "source": [
    "# Getting a linear model will solve for period and conjuction time (and their respective errors)\n",
    "linear_model_data = ephemeris_obj1.get_model_ephemeris('linear')"
   ]
  },
  {
   "cell_type": "code",
   "execution_count": null,
   "metadata": {},
   "outputs": [],
   "source": [
    "# Show model fit\n",
    "plt.scatter(x=transit_times_obj1.epochs, y=linear_model_data, marker='v')\n",
    "plt.scatter(x=transit_times_obj1.epochs, y=transit_times_obj1.mid_transit_times, marker='o')\n",
    "plt.show()"
   ]
  },
  {
   "cell_type": "code",
   "execution_count": null,
   "metadata": {},
   "outputs": [],
   "source": [
    "# Getting a quadratic model will solve for period, conjunction time, and period change by epoch (and their respective errors)\n",
    "quad_model_data = ephemeris_obj1.get_model_ephemeris('quadratic')"
   ]
  },
  {
   "cell_type": "code",
   "execution_count": null,
   "metadata": {},
   "outputs": [],
   "source": [
    "# Show model fit\n",
    "plt.scatter(x=transit_times_obj1.epochs, y=quad_model_data, marker='v')\n",
    "plt.scatter(x=transit_times_obj1.epochs, y=transit_times_obj1.mid_transit_times, marker='o')\n",
    "plt.show()"
   ]
  }
 ],
 "metadata": {
  "kernelspec": {
   "display_name": "venv",
   "language": "python",
   "name": "python3"
  },
  "language_info": {
   "codemirror_mode": {
    "name": "ipython",
    "version": 3
   },
   "file_extension": ".py",
   "mimetype": "text/x-python",
   "name": "python",
   "nbconvert_exporter": "python",
   "pygments_lexer": "ipython3",
   "version": "3.9.7"
  },
  "orig_nbformat": 4
 },
 "nbformat": 4,
 "nbformat_minor": 2
}
