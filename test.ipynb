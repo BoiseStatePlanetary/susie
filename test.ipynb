{
 "cells": [
  {
   "cell_type": "markdown",
   "metadata": {},
   "source": [
    "Import the necessary python libraries and Susie objects."
   ]
  },
  {
   "cell_type": "code",
   "execution_count": 1,
   "metadata": {},
   "outputs": [
    {
     "ename": "ModuleNotFoundError",
     "evalue": "No module named 'susie'",
     "output_type": "error",
     "traceback": [
      "\u001b[1;31m---------------------------------------------------------------------------\u001b[0m",
      "\u001b[1;31mModuleNotFoundError\u001b[0m                       Traceback (most recent call last)",
      "\u001b[1;32mc:\\Users\\holly\\OneDrive\\Desktop\\susie\\test.ipynb Cell 2\u001b[0m line \u001b[0;36m2\n\u001b[0;32m      <a href='vscode-notebook-cell:/c%3A/Users/holly/OneDrive/Desktop/susie/test.ipynb#W1sZmlsZQ%3D%3D?line=0'>1</a>\u001b[0m \u001b[39mimport\u001b[39;00m \u001b[39mnumpy\u001b[39;00m \u001b[39mas\u001b[39;00m \u001b[39mnp\u001b[39;00m\n\u001b[1;32m----> <a href='vscode-notebook-cell:/c%3A/Users/holly/OneDrive/Desktop/susie/test.ipynb#W1sZmlsZQ%3D%3D?line=1'>2</a>\u001b[0m \u001b[39mfrom\u001b[39;00m \u001b[39msusie\u001b[39;00m\u001b[39m.\u001b[39;00m\u001b[39mtransit_times\u001b[39;00m \u001b[39mimport\u001b[39;00m TransitTimes\n\u001b[0;32m      <a href='vscode-notebook-cell:/c%3A/Users/holly/OneDrive/Desktop/susie/test.ipynb#W1sZmlsZQ%3D%3D?line=2'>3</a>\u001b[0m \u001b[39mfrom\u001b[39;00m \u001b[39msusie\u001b[39;00m\u001b[39m.\u001b[39;00m\u001b[39mephemeris\u001b[39;00m \u001b[39mimport\u001b[39;00m Ephemeris\n",
      "\u001b[1;31mModuleNotFoundError\u001b[0m: No module named 'susie'"
     ]
    }
   ],
   "source": [
    "import numpy as np\n",
    "from susie.transit_times import TransitTimes\n",
    "from susie.ephemeris import Ephemeris"
   ]
  },
  {
   "cell_type": "markdown",
   "metadata": {},
   "source": [
    "Add your transit data to the TransitTimes object."
   ]
  },
  {
   "cell_type": "code",
   "execution_count": 2,
   "metadata": {},
   "outputs": [],
   "source": [
    "# STEP 1: Upload data from file\n",
    "filepath = \"./malia_examples/WASP12b_transit_ephemeris.csv\"\n",
    "data = np.genfromtxt(filepath, delimiter=',', names=True)\n",
    "# STEP 2: Break data up into epochs, mid transit times, and error\n",
    "epochs = data[\"epoch\"] - np.min(data[\"epoch\"])\n",
    "mid_transit_times = data[\"transit_time\"] - np.min(data[\"transit_time\"])\n",
    "mid_transit_times_err = data[\"sigma_transit_time\"]\n",
    "# NOTE: You can use any method and/or file type to upload your data. Just make sure the resulting variables (epoch, mid transit times, and mid transit time errors) are numpy arrays\n",
    "# STEP 2.5 (Optional): Make sure the epochs are integers and not floats\n",
    "epochs = epochs.astype('int')\n",
    "# STEP 3: Create new transit times object with above data\n",
    "transit_times_obj1 = TransitTimes(epochs, mid_transit_times, mid_transit_times_err)\n",
    "# STEP 4 (Optional): To check that the resulting data is correct, you can print each variable and the corresponding data using this command: print(vars(transit_times_obj1))"
   ]
  },
  {
   "cell_type": "markdown",
   "metadata": {},
   "source": [
    "Create the Ephemeris object and add your TransitTimes object."
   ]
  },
  {
   "cell_type": "code",
   "execution_count": 6,
   "metadata": {},
   "outputs": [],
   "source": [
    "ephemeris_obj1 = Ephemeris(transit_times_obj1)"
   ]
  },
  {
   "cell_type": "markdown",
   "metadata": {},
   "source": [
    "Fit your transit time data to an ephemeris model. You can specify what type of model with the options 'linear' or 'quadratic'."
   ]
  },
  {
   "cell_type": "code",
   "execution_count": 11,
   "metadata": {},
   "outputs": [
    {
     "data": {
      "text/plain": [
       "{'period': 1.0914196767026716,\n",
       " 'period_err': 2.7506381370722992e-08,\n",
       " 'conjunction_time': 0.0021952429919580574,\n",
       " 'conjunction_time_err': 6.035140494562578e-05}"
      ]
     },
     "execution_count": 11,
     "metadata": {},
     "output_type": "execute_result"
    }
   ],
   "source": [
    "# Getting a linear model will solve for period and conjuction time (and their respective errors)\n",
    "ephemeris_obj1.get_model_parameters('linear')"
   ]
  },
  {
   "cell_type": "code",
   "execution_count": 12,
   "metadata": {},
   "outputs": [
    {
     "data": {
      "text/plain": [
       "{'period': -7.879987683688418e-10,\n",
       " 'period_err': 7.115319883108101e-11,\n",
       " 'conjunction_time': 1.0914213370778643,\n",
       " 'conjunction_time_err': 1.5369992341545237e-07,\n",
       " 'period_change_by_epoch': 0.0007515441898329402,\n",
       " 'period_change_by_epoch_err': 0.00014544011577662282}"
      ]
     },
     "execution_count": 12,
     "metadata": {},
     "output_type": "execute_result"
    }
   ],
   "source": [
    "# Getting a quadratic model will solve for period, conjunction time, and period change by epoch (and their respective errors)\n",
    "ephemeris_obj1.get_model_parameters('quadratic')"
   ]
  },
  {
   "cell_type": "code",
   "execution_count": 16,
   "metadata": {},
   "outputs": [
    {
     "name": "stdout",
     "output_type": "stream",
     "text": [
      "<class 'int'>\n"
     ]
    }
   ],
   "source": [
    "print(type(1))"
   ]
  },
  {
   "cell_type": "code",
   "execution_count": 15,
   "metadata": {},
   "outputs": [
    {
     "name": "stdout",
     "output_type": "stream",
     "text": [
      "<class 'type'>\n"
     ]
    }
   ],
   "source": [
    "print(type(TransitTimes))"
   ]
  },
  {
   "cell_type": "code",
   "execution_count": null,
   "metadata": {},
   "outputs": [],
   "source": []
  }
 ],
 "metadata": {
  "kernelspec": {
   "display_name": "venv",
   "language": "python",
   "name": "python3"
  },
  "language_info": {
   "codemirror_mode": {
    "name": "ipython",
    "version": 3
   },
   "file_extension": ".py",
   "mimetype": "text/x-python",
   "name": "python",
   "nbconvert_exporter": "python",
   "pygments_lexer": "ipython3",
   "version": "3.11.6"
  },
  "orig_nbformat": 4
 },
 "nbformat": 4,
 "nbformat_minor": 2
}
