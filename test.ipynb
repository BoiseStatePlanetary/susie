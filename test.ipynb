{
 "cells": [
  {
   "cell_type": "markdown",
   "metadata": {},
   "source": [
    "Import the necessary python libraries and Susie objects."
   ]
  },
  {
   "cell_type": "code",
   "execution_count": 1,
   "metadata": {},
   "outputs": [
    {
     "name": "stdout",
     "output_type": "stream",
     "text": [
      "Looking in indexes: https://test.pypi.org/simple/Note: you may need to restart the kernel to use updated packages.\n",
      "\n",
      "Collecting susie==1.0.3\n",
      "  Using cached https://test-files.pythonhosted.org/packages/37/6f/4c98963121e9dbc2410a5d8e6171c067987d5bc03c0daa73c02561486c0c/susie-1.0.3-py3-none-any.whl.metadata (3.0 kB)\n",
      "Collecting numpy (from susie==1.0.3)\n",
      "  Using cached https://test-files.pythonhosted.org/packages/d5/80/b947c574d9732e39db59203f9aa35cb4d9a5dd8a0ea2328acb89cf10d6e3/numpy-1.9.3.zip (4.5 MB)\n",
      "  Installing build dependencies: started\n",
      "  Installing build dependencies: finished with status 'error'\n"
     ]
    },
    {
     "name": "stderr",
     "output_type": "stream",
     "text": [
      "WARNING: Skipping c:\\Users\\holly\\OneDrive\\Desktop\\susie\\env\\Lib\\site-packages\\docutils-0.18.1.dist-info due to invalid metadata entry 'name'\n",
      "WARNING: Skipping c:\\Users\\holly\\OneDrive\\Desktop\\susie\\env\\Lib\\site-packages\\numpy-1.26.0.dist-info due to invalid metadata entry 'name'\n",
      "WARNING: Skipping c:\\Users\\holly\\OneDrive\\Desktop\\susie\\env\\Lib\\site-packages\\docutils-0.18.1.dist-info due to invalid metadata entry 'name'\n",
      "WARNING: Skipping c:\\Users\\holly\\OneDrive\\Desktop\\susie\\env\\Lib\\site-packages\\numpy-1.26.0.dist-info due to invalid metadata entry 'name'\n",
      "WARNING: Ignoring invalid distribution ~umpy (c:\\Users\\holly\\OneDrive\\Desktop\\susie\\env\\Lib\\site-packages)\n",
      "  error: subprocess-exited-with-error\n",
      "  \n",
      "  × pip subprocess to install build dependencies did not run successfully.\n",
      "  │ exit code: 1\n",
      "  ╰─> [11 lines of output]\n",
      "      WARNING: Skipping c:\\Users\\holly\\OneDrive\\Desktop\\susie\\env\\Lib\\site-packages\\docutils-0.18.1.dist-info due to invalid metadata entry 'name'\n",
      "      WARNING: Skipping c:\\Users\\holly\\OneDrive\\Desktop\\susie\\env\\Lib\\site-packages\\numpy-1.26.0.dist-info due to invalid metadata entry 'name'\n",
      "      Looking in indexes: https://test.pypi.org/simple/\n",
      "      ERROR: Could not find a version that satisfies the requirement setuptools>=40.8.0 (from versions: none)\n",
      "      ERROR: No matching distribution found for setuptools>=40.8.0\n",
      "      WARNING: Skipping c:\\Users\\holly\\OneDrive\\Desktop\\susie\\env\\Lib\\site-packages\\docutils-0.18.1.dist-info due to invalid metadata entry 'name'\n",
      "      WARNING: Skipping c:\\Users\\holly\\OneDrive\\Desktop\\susie\\env\\Lib\\site-packages\\numpy-1.26.0.dist-info due to invalid metadata entry 'name'\n",
      "      WARNING: Skipping c:\\Users\\holly\\OneDrive\\Desktop\\susie\\env\\Lib\\site-packages\\docutils-0.18.1.dist-info due to invalid metadata entry 'name'\n",
      "      WARNING: Skipping c:\\Users\\holly\\OneDrive\\Desktop\\susie\\env\\Lib\\site-packages\\numpy-1.26.0.dist-info due to invalid metadata entry 'name'\n",
      "      WARNING: Skipping c:\\Users\\holly\\OneDrive\\Desktop\\susie\\env\\Lib\\site-packages\\docutils-0.18.1.dist-info due to invalid metadata entry 'name'\n",
      "      WARNING: Skipping c:\\Users\\holly\\OneDrive\\Desktop\\susie\\env\\Lib\\site-packages\\numpy-1.26.0.dist-info due to invalid metadata entry 'name'\n",
      "      [end of output]\n",
      "  \n",
      "  note: This error originates from a subprocess, and is likely not a problem with pip.\n",
      "error: subprocess-exited-with-error\n",
      "\n",
      "× pip subprocess to install build dependencies did not run successfully.\n",
      "│ exit code: 1\n",
      "╰─> See above for output.\n",
      "\n",
      "note: This error originates from a subprocess, and is likely not a problem with pip.\n",
      "WARNING: Skipping c:\\Users\\holly\\OneDrive\\Desktop\\susie\\env\\Lib\\site-packages\\docutils-0.18.1.dist-info due to invalid metadata entry 'name'\n",
      "WARNING: Skipping c:\\Users\\holly\\OneDrive\\Desktop\\susie\\env\\Lib\\site-packages\\numpy-1.26.0.dist-info due to invalid metadata entry 'name'\n",
      "WARNING: Skipping c:\\Users\\holly\\OneDrive\\Desktop\\susie\\env\\Lib\\site-packages\\docutils-0.18.1.dist-info due to invalid metadata entry 'name'\n",
      "WARNING: Skipping c:\\Users\\holly\\OneDrive\\Desktop\\susie\\env\\Lib\\site-packages\\numpy-1.26.0.dist-info due to invalid metadata entry 'name'\n",
      "WARNING: Skipping c:\\Users\\holly\\OneDrive\\Desktop\\susie\\env\\Lib\\site-packages\\docutils-0.18.1.dist-info due to invalid metadata entry 'name'\n",
      "WARNING: Skipping c:\\Users\\holly\\OneDrive\\Desktop\\susie\\env\\Lib\\site-packages\\numpy-1.26.0.dist-info due to invalid metadata entry 'name'\n"
     ]
    }
   ],
   "source": [
    "%pip install -i https://test.pypi.org/simple/ susie==1.0.3"
   ]
  },
  {
   "cell_type": "code",
   "execution_count": null,
   "metadata": {},
   "outputs": [],
   "source": [
    "import numpy as np\n",
    "from susie.transit_times import TransitTimes\n",
    "from susie.ephemeris import Ephemeris\n",
    "import matplotlib.pyplot as plt"
   ]
  },
  {
   "cell_type": "markdown",
   "metadata": {},
   "source": [
    "Add your transit data to the TransitTimes object."
   ]
  },
  {
   "cell_type": "code",
   "execution_count": null,
   "metadata": {},
   "outputs": [],
   "source": [
    "# STEP 1: Upload data from file\n",
    "filepath = \"./malia_examples/WASP12b_transit_ephemeris.csv\"\n",
    "data = np.genfromtxt(filepath, delimiter=',', names=True)\n",
    "# STEP 2: Break data up into epochs, mid transit times, and error\n",
    "epochs = data[\"epoch\"] - np.min(data[\"epoch\"])\n",
    "mid_transit_times = data[\"transit_time\"] - np.min(data[\"transit_time\"])\n",
    "mid_transit_times_err = data[\"sigma_transit_time\"]\n",
    "# NOTE: You can use any method and/or file type to upload your data. Just make sure the resulting variables (epoch, mid transit times, and mid transit time errors) are numpy arrays\n",
    "# STEP 2.5 (Optional): Make sure the epochs are integers and not floats\n",
    "epochs = epochs.astype('int')\n",
    "# STEP 3: Create new transit times object with above data\n",
    "transit_times_obj1 = TransitTimes(epochs, mid_transit_times, mid_transit_times_err)\n",
    "# STEP 4 (Optional): To check that the resulting data is correct, you can print each variable and the corresponding data using this command: print(vars(transit_times_obj1))"
   ]
  },
  {
   "cell_type": "markdown",
   "metadata": {},
   "source": [
    "Create the Ephemeris object and add your TransitTimes object."
   ]
  },
  {
   "cell_type": "code",
   "execution_count": null,
   "metadata": {},
   "outputs": [],
   "source": [
    "ephemeris_obj1 = Ephemeris(transit_times_obj1)"
   ]
  },
  {
   "cell_type": "markdown",
   "metadata": {},
   "source": [
    "Fit your transit time data to an ephemeris model. You can specify what type of model with the options 'linear' or 'quadratic'."
   ]
  },
  {
   "cell_type": "code",
   "execution_count": null,
   "metadata": {},
   "outputs": [],
   "source": [
    "# Getting a linear model will solve for period and conjuction time (and their respective errors)\n",
    "linear_model_data = ephemeris_obj1.get_model_ephemeris('linear')"
   ]
  },
  {
   "cell_type": "code",
   "execution_count": null,
   "metadata": {},
   "outputs": [],
   "source": [
    "# Show model fit\n",
    "plt.scatter(x=transit_times_obj1.epochs, y=linear_model_data, marker='v')\n",
    "plt.scatter(x=transit_times_obj1.epochs, y=transit_times_obj1.mid_transit_times, marker='o')\n",
    "plt.show()"
   ]
  },
  {
   "cell_type": "code",
   "execution_count": null,
   "metadata": {},
   "outputs": [],
   "source": [
    "# Getting a quadratic model will solve for period, conjunction time, and period change by epoch (and their respective errors)\n",
    "quad_model_data = ephemeris_obj1.get_model_ephemeris('quadratic')"
   ]
  },
  {
   "cell_type": "code",
   "execution_count": null,
   "metadata": {},
   "outputs": [],
   "source": [
    "# Show model fit\n",
    "plt.scatter(x=transit_times_obj1.epochs, y=quad_model_data, marker='v')\n",
    "plt.scatter(x=transit_times_obj1.epochs, y=transit_times_obj1.mid_transit_times, marker='o')\n",
    "plt.show()"
   ]
  }
 ],
 "metadata": {
  "kernelspec": {
   "display_name": "venv",
   "language": "python",
   "name": "python3"
  },
  "language_info": {
   "codemirror_mode": {
    "name": "ipython",
    "version": 3
   },
   "file_extension": ".py",
   "mimetype": "text/x-python",
   "name": "python",
   "nbconvert_exporter": "python",
   "pygments_lexer": "ipython3",
   "version": "3.11.6"
  },
  "orig_nbformat": 4
 },
 "nbformat": 4,
 "nbformat_minor": 2
}
