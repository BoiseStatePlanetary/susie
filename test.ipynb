{
 "cells": [
  {
   "cell_type": "markdown",
   "metadata": {},
   "source": [
    "Import the necessary python libraries and Susie objects."
   ]
  },
  {
   "cell_type": "code",
   "execution_count": 1,
   "metadata": {},
   "outputs": [
    {
     "name": "stdout",
     "output_type": "stream",
     "text": [
      "Looking in indexes: https://test.pypi.org/simple/\n",
      "Requirement already satisfied: susie==1.0.3 in ./venv/lib/python3.9/site-packages (1.0.3)\n",
      "Requirement already satisfied: scipy in ./venv/lib/python3.9/site-packages (from susie==1.0.3) (1.11.2)\n",
      "Requirement already satisfied: numpy in ./venv/lib/python3.9/site-packages (from susie==1.0.3) (1.25.2)\n",
      "\u001b[33mWARNING: You are using pip version 21.2.4; however, version 23.3.1 is available.\n",
      "You should consider upgrading via the '/Users/maliabarker/Desktop/main/susie/venv/bin/python -m pip install --upgrade pip' command.\u001b[0m\n",
      "Note: you may need to restart the kernel to use updated packages.\n"
     ]
    }
   ],
   "source": [
    "%pip install -i https://test.pypi.org/simple/ susie==1.0.3"
   ]
  },
  {
   "cell_type": "code",
   "execution_count": 1,
   "metadata": {},
   "outputs": [],
   "source": [
    "import numpy as np\n",
    "from susie.transit_times import TransitTimes\n",
    "from susie.ephemeris import Ephemeris\n",
    "import matplotlib.pyplot as plt\n",
    "from astropy import coordinates as coords\n",
    "from astropy import units as u\n",
    "from astropy import time"
   ]
  },
  {
   "cell_type": "code",
<<<<<<< Updated upstream
   "execution_count": 6,
   "metadata": {},
   "outputs": [
    {
     "data": {
      "text/latex": [
       "$97^\\circ38{}^\\prime11.85{}^{\\prime\\prime}$"
      ],
      "text/plain": [
       "<Longitude 97.636625 deg>"
      ]
     },
     "execution_count": 6,
     "metadata": {},
     "output_type": "execute_result"
=======
   "execution_count": 2,
   "metadata": {},
   "outputs": [
    {
     "ename": "FileNotFoundError",
     "evalue": "./malia_examples/WASP12b_transit_ephemeris.csv not found.",
     "output_type": "error",
     "traceback": [
      "\u001b[0;31m---------------------------------------------------------------------------\u001b[0m",
      "\u001b[0;31mFileNotFoundError\u001b[0m                         Traceback (most recent call last)",
      "Cell \u001b[0;32mIn[2], line 3\u001b[0m\n\u001b[1;32m      1\u001b[0m \u001b[38;5;66;03m# STEP 1: Upload data from file\u001b[39;00m\n\u001b[1;32m      2\u001b[0m filepath \u001b[38;5;241m=\u001b[39m \u001b[38;5;124m\"\u001b[39m\u001b[38;5;124m./malia_examples/WASP12b_transit_ephemeris.csv\u001b[39m\u001b[38;5;124m\"\u001b[39m \u001b[38;5;66;03m# IMPORTANT: Change to your own filepath\u001b[39;00m\n\u001b[0;32m----> 3\u001b[0m data \u001b[38;5;241m=\u001b[39m np\u001b[38;5;241m.\u001b[39mgenfromtxt(filepath, delimiter\u001b[38;5;241m=\u001b[39m\u001b[38;5;124m'\u001b[39m\u001b[38;5;124m,\u001b[39m\u001b[38;5;124m'\u001b[39m, names\u001b[38;5;241m=\u001b[39m\u001b[38;5;28;01mTrue\u001b[39;00m)\n\u001b[1;32m      4\u001b[0m \u001b[38;5;66;03m# STEP 2: Break data up into epochs, mid transit times, and error\u001b[39;00m\n\u001b[1;32m      5\u001b[0m epochs \u001b[38;5;241m=\u001b[39m data[\u001b[38;5;124m\"\u001b[39m\u001b[38;5;124mepoch\u001b[39m\u001b[38;5;124m\"\u001b[39m] \u001b[38;5;241m-\u001b[39m np\u001b[38;5;241m.\u001b[39mmin(data[\u001b[38;5;124m\"\u001b[39m\u001b[38;5;124mepoch\u001b[39m\u001b[38;5;124m\"\u001b[39m])\n",
      "File \u001b[0;32m~/opt/anaconda3/envs/susie_examples/lib/python3.11/site-packages/numpy/lib/npyio.py:1980\u001b[0m, in \u001b[0;36mgenfromtxt\u001b[0;34m(fname, dtype, comments, delimiter, skip_header, skip_footer, converters, missing_values, filling_values, usecols, names, excludelist, deletechars, replace_space, autostrip, case_sensitive, defaultfmt, unpack, usemask, loose, invalid_raise, max_rows, encoding, ndmin, like)\u001b[0m\n\u001b[1;32m   1978\u001b[0m     fname \u001b[38;5;241m=\u001b[39m os_fspath(fname)\n\u001b[1;32m   1979\u001b[0m \u001b[38;5;28;01mif\u001b[39;00m \u001b[38;5;28misinstance\u001b[39m(fname, \u001b[38;5;28mstr\u001b[39m):\n\u001b[0;32m-> 1980\u001b[0m     fid \u001b[38;5;241m=\u001b[39m np\u001b[38;5;241m.\u001b[39mlib\u001b[38;5;241m.\u001b[39m_datasource\u001b[38;5;241m.\u001b[39mopen(fname, \u001b[38;5;124m'\u001b[39m\u001b[38;5;124mrt\u001b[39m\u001b[38;5;124m'\u001b[39m, encoding\u001b[38;5;241m=\u001b[39mencoding)\n\u001b[1;32m   1981\u001b[0m     fid_ctx \u001b[38;5;241m=\u001b[39m contextlib\u001b[38;5;241m.\u001b[39mclosing(fid)\n\u001b[1;32m   1982\u001b[0m \u001b[38;5;28;01melse\u001b[39;00m:\n",
      "File \u001b[0;32m~/opt/anaconda3/envs/susie_examples/lib/python3.11/site-packages/numpy/lib/_datasource.py:193\u001b[0m, in \u001b[0;36mopen\u001b[0;34m(path, mode, destpath, encoding, newline)\u001b[0m\n\u001b[1;32m    156\u001b[0m \u001b[38;5;250m\u001b[39m\u001b[38;5;124;03m\"\"\"\u001b[39;00m\n\u001b[1;32m    157\u001b[0m \u001b[38;5;124;03mOpen `path` with `mode` and return the file object.\u001b[39;00m\n\u001b[1;32m    158\u001b[0m \n\u001b[0;32m   (...)\u001b[0m\n\u001b[1;32m    189\u001b[0m \n\u001b[1;32m    190\u001b[0m \u001b[38;5;124;03m\"\"\"\u001b[39;00m\n\u001b[1;32m    192\u001b[0m ds \u001b[38;5;241m=\u001b[39m DataSource(destpath)\n\u001b[0;32m--> 193\u001b[0m \u001b[38;5;28;01mreturn\u001b[39;00m ds\u001b[38;5;241m.\u001b[39mopen(path, mode, encoding\u001b[38;5;241m=\u001b[39mencoding, newline\u001b[38;5;241m=\u001b[39mnewline)\n",
      "File \u001b[0;32m~/opt/anaconda3/envs/susie_examples/lib/python3.11/site-packages/numpy/lib/_datasource.py:533\u001b[0m, in \u001b[0;36mDataSource.open\u001b[0;34m(self, path, mode, encoding, newline)\u001b[0m\n\u001b[1;32m    530\u001b[0m     \u001b[38;5;28;01mreturn\u001b[39;00m _file_openers[ext](found, mode\u001b[38;5;241m=\u001b[39mmode,\n\u001b[1;32m    531\u001b[0m                               encoding\u001b[38;5;241m=\u001b[39mencoding, newline\u001b[38;5;241m=\u001b[39mnewline)\n\u001b[1;32m    532\u001b[0m \u001b[38;5;28;01melse\u001b[39;00m:\n\u001b[0;32m--> 533\u001b[0m     \u001b[38;5;28;01mraise\u001b[39;00m \u001b[38;5;167;01mFileNotFoundError\u001b[39;00m(\u001b[38;5;124mf\u001b[39m\u001b[38;5;124m\"\u001b[39m\u001b[38;5;132;01m{\u001b[39;00mpath\u001b[38;5;132;01m}\u001b[39;00m\u001b[38;5;124m not found.\u001b[39m\u001b[38;5;124m\"\u001b[39m)\n",
      "\u001b[0;31mFileNotFoundError\u001b[0m: ./malia_examples/WASP12b_transit_ephemeris.csv not found."
     ]
>>>>>>> Stashed changes
    }
   ],
   "source": [
    "coors = ('06h30m32.79s +29d40m20.16s')\n",
    "c = coords.SkyCoord(coors, unit=(u.hourangle, u.deg), obstime=\"J1992.21\")\n",
    "c.ra"
   ]
  },
  {
   "cell_type": "markdown",
   "metadata": {},
   "source": [
<<<<<<< Updated upstream
    "Add your transit data to the TransitTimes object."
=======
    "Can use this code block if you do not have CSV file"
   ]
  },
  {
   "cell_type": "code",
   "execution_count": 7,
   "metadata": {},
   "outputs": [],
   "source": [
    "# Hard Coded Data\n",
    "epoch_data = np.array([-1640.0, -1346.0, -1342.0, -1067.0, -1061.0, -1046.0, -1038.0, -1004.0, -1003.0, -985.0, -963.0, -743.0, -739.0, -729.0, -728.0, -721.0, -699.0, -699.0, -677.0, -655.0, -648.0, -646.0, -645.0, -643.0, -625.0, -393.0, -383.0, -382.0, -380.0, -368.0, -353.0, -350.0, -329.0, -328.0, -327.0, -324.0, -323.0, -317.0, -316.0, -307.0, -306.0, -296.0, -295.0, -294.0, -293.0, -283.0, -275.0, -274.0, -55.0, -51.0, -29.0, -21.0, -19.0, -7.0, -3.0, 0.0, 13.0, 21.0, 22.0, 274.0, 275.0, 276.0, 277.0, 297.0, 298.0, 320.0, 324.0, 327.0, 328.0, 329.0, 338.0, 341.0, 351.0, 356.0, 365.0, 372.0, 379.0, 381.0, 382.0, 624.0, 646.0, 648.0, 678.0, 679.0, 691.0, 692.0, 698.0, 699.0, 731.0, 953.0, 994.0, 995.0, 1027.0, 1028.0, 1050.0, 1252.0, 1270.0, 1281.0, 1284.0, 1302.0, 1303.0, 1338.0, 1339.0, 1344.0, 1345.0, 1348.0, 1352.0, 1352.0, 1357.0, 1359.0, 1370.0, 1377.0, 1378.0, 1379.0, 1577.0, 1599.0, 1608.0, 1620.0, 1621.0, 1624.0, 1666.0, 1667.0, 1674.0, 1676.0, 1678.0, 1695.0, 1695.0, 1696.0, 1699.0, 1701.0, 1701.0, 1702.0, 1702.0, 1705.0, 1716.0, 1930.0, 1985.0, 2006.0, 2017.0])\n",
    "mid_transit_time_data = np.array([2454515.525, 2454836.403, 2454840.769, 2455140.91, 2455147.459, 2455163.831, 2455172.561, 2455209.669, 2455210.762, 2455230.407, 2455254.419, 2455494.53, 2455498.896, 2455509.81, 2455510.902, 2455518.541, 2455542.552, 2455542.553, 2455566.564, 2455590.576, 2455598.216, 2455600.398, 2455601.49, 2455603.673, 2455623.318, 2455876.528, 2455887.442, 2455888.533, 2455890.716, 2455903.814, 2455920.184, 2455923.459, 2455946.378, 2455947.47, 2455948.561, 2455951.835, 2455952.927, 2455959.475, 2455960.567, 2455970.389, 2455971.481, 2455982.395, 2455983.487, 2455984.578, 2455985.67, 2455996.584, 2456005.315, 2456006.406, 2456245.427, 2456249.794, 2456273.805, 2456282.536, 2456284.719, 2456297.816, 2456302.182, 2456305.455, 2456319.644, 2456328.376, 2456329.467, 2456604.505, 2456605.596, 2456606.688, 2456607.779, 2456629.607, 2456630.699, 2456654.71, 2456659.076, 2456662.35, 2456663.441, 2456664.533, 2456674.356, 2456677.63, 2456688.544, 2456694.002, 2456703.824, 2456711.464, 2456719.104, 2456721.287, 2456722.378, 2456986.502, 2457010.513, 2457012.696, 2457045.438, 2457046.53, 2457059.627, 2457060.718, 2457067.267, 2457068.358, 2457103.284, 2457345.579, 2457390.327, 2457391.418, 2457426.343, 2457427.435, 2457451.446, 2457671.913, 2457691.559, 2457703.564, 2457706.838, 2457726.484, 2457727.575, 2457765.775, 2457766.866, 2457772.324, 2457773.415, 2457776.689, 2457781.054, 2457781.056, 2457786.512, 2457788.695, 2457800.7, 2457808.34, 2457809.432, 2457810.523, 2458026.624, 2458050.635, 2458060.459, 2458073.555, 2458074.647, 2458077.921, 2458123.76, 2458124.852, 2458132.491, 2458134.675, 2458136.858, 2458155.41, 2458155.412, 2458156.503, 2458159.778, 2458161.96, 2458161.96, 2458163.051, 2458163.051, 2458166.326, 2458178.331, 2458411.895, 2458471.923, 2458494.843, 2458506.848])\n",
    "mid_transit_times_uncertainties_data = np.array([0.00043, 0.00028, 0.00062, 0.00042, 0.00043, 0.00032, 0.00036, 0.00046, 0.00041, 0.00019, 0.00043, 0.00072, 0.00079, 0.00037, 0.00031, 0.0004, 0.0004, 0.00028, 0.00028, 0.00068, 0.00035, 0.00029, 0.00024, 0.00029, 0.00039, 0.00027, 0.00021, 0.00027, 0.00024, 0.00032, 0.00031, 0.00022, 0.00018, 0.00017, 0.00033, 0.00011, 0.0001, 0.00017, 0.00032, 0.00039, 0.00035, 0.00034, 0.00035, 0.00032, 0.00042, 0.00037, 0.00037, 0.00031, 0.00033, 0.00039, 0.0003, 0.0003, 0.0003, 0.0003, 0.00046, 0.00024, 0.00038, 0.00027, 0.00029, 0.00021, 0.0003, 0.00033, 0.00071, 0.00019, 0.00043, 0.00034, 0.00034, 0.00019, 0.00019, 0.00031, 0.00028, 0.00032, 0.0004, 0.00029, 0.00029, 0.00025, 0.00034, 0.00034, 0.00046, 0.00043, 0.00039, 0.00049, 0.00046, 0.00049, 0.00035, 0.00036, 0.00022, 0.0002, 0.00031, 0.00042, 0.00033, 0.00033, 0.00055, 0.00023, 0.00021, 0.00035, 0.00025, 0.00034, 0.00037, 0.00028, 0.00023, 0.00028, 0.00039, 0.00024, 0.00022, 0.00029, 0.00043, 0.00036, 0.00026, 0.00048, 0.00032, 0.0004, 0.00018, 0.00021, 0.00056, 0.00023, 0.0003, 0.00022, 0.00034, 0.00028, 0.00027, 0.00035, 0.00031, 0.00032, 0.00033, 0.0005, 0.00031, 0.00032, 0.00091, 0.00035, 0.00026, 0.00021, 0.00034, 0.00034, 0.00038, 0.0004, 0.00026, 0.0003, 0.00044])\n",
    "\n",
    "epochs = epoch_data - np.min(epoch_data)\n",
    "mid_transit_times = mid_transit_time_data - np.min(mid_transit_time_data)\n",
    "mid_transit_times_err = mid_transit_times_uncertainties_data"
   ]
  },
  {
   "cell_type": "markdown",
   "metadata": {},
   "source": [
    "NOTE: You can use any method and/or file type to upload your data. Just make sure the resulting variables (epoch, mid transit times, and mid transit time errors) are numpy arrays"
>>>>>>> Stashed changes
   ]
  },
  {
   "cell_type": "code",
   "execution_count": 8,
   "metadata": {},
   "outputs": [],
   "source": [
    "# STEP 1: Upload data from file\n",
    "filepath = \"./malia_examples/WASP12b_transit_ephemeris.csv\"\n",
    "data = np.genfromtxt(filepath, delimiter=',', names=True)\n",
    "# STEP 2: Break data up into epochs, mid transit times, and error\n",
    "epochs = data[\"epoch\"] - np.min(data[\"epoch\"])\n",
    "mid_transit_times = data[\"transit_time\"] - np.min(data[\"transit_time\"])\n",
    "mid_transit_times_err = data[\"sigma_transit_time\"]\n",
    "# NOTE: You can use any method and/or file type to upload your data. Just make sure the resulting variables (epoch, mid transit times, and mid transit time errors) are numpy arrays\n",
    "# STEP 2.5 (Optional): Make sure the epochs are integers and not floats\n",
    "epochs = epochs.astype('int')\n",
    "# STEP 3: Create new transit times object with above data\n",
    "transit_times_obj1 = TransitTimes(epochs, mid_transit_times, mid_transit_times_err)\n",
    "# STEP 4 (Optional): To check that the resulting data is correct, you can print each variable and the corresponding data using this command: print(vars(transit_times_obj1))"
   ]
  },
  {
   "cell_type": "code",
   "execution_count": 11,
   "metadata": {},
   "outputs": [],
   "source": [
    "mid_tt = time.Time(mid_transit_times, format='jd', scale=None)"
   ]
  },
  {
   "cell_type": "code",
   "execution_count": 18,
   "metadata": {},
   "outputs": [],
   "source": [
    "test_arr = np.ones_like(mid_tt, dtype=float)"
   ]
  },
  {
   "cell_type": "code",
   "execution_count": 19,
   "metadata": {},
   "outputs": [],
   "source": [
    "test_tt = time.Time(test_arr, format='jd', scale=None)"
   ]
  },
  {
   "cell_type": "code",
   "execution_count": 20,
   "metadata": {},
   "outputs": [
    {
     "data": {
      "text/plain": [
       "True"
      ]
     },
     "execution_count": 20,
     "metadata": {},
     "output_type": "execute_result"
    }
   ],
   "source": [
    "np.all(test_tt.value == 1)"
   ]
  },
  {
   "cell_type": "code",
   "execution_count": 22,
   "metadata": {},
   "outputs": [],
   "source": [
    "earth_center = coords.EarthLocation.from_geocentric(0., 0., 0., unit=u.m)"
   ]
  },
  {
   "cell_type": "code",
   "execution_count": 25,
   "metadata": {},
   "outputs": [
    {
     "data": {
      "text/plain": [
       "(0., 0., 0.)"
      ]
     },
     "execution_count": 25,
     "metadata": {},
     "output_type": "execute_result"
    }
   ],
   "source": [
    "earth_center.value"
   ]
  },
  {
   "cell_type": "code",
   "execution_count": 32,
   "metadata": {},
   "outputs": [],
   "source": [
    "obs_location = coords.EarthLocation.from_geodetic(-116, 42)"
   ]
  },
  {
   "cell_type": "code",
   "execution_count": 38,
   "metadata": {},
   "outputs": [],
   "source": [
    "obj_coord = coords.SkyCoord(ra=97.64, dec=29.67, unit='deg', frame='icrs')"
   ]
  },
  {
   "cell_type": "code",
   "execution_count": 48,
   "metadata": {},
   "outputs": [
    {
     "name": "stdout",
     "output_type": "stream",
     "text": [
      "97.64\n"
     ]
    }
   ],
   "source": [
    "print(obj_coord.ra.value)"
   ]
  },
  {
   "cell_type": "markdown",
   "metadata": {},
   "source": [
    "Create the Ephemeris object and add your TransitTimes object."
   ]
  },
  {
   "cell_type": "code",
   "execution_count": 10,
   "metadata": {},
   "outputs": [
    {
     "name": "stdout",
     "output_type": "stream",
     "text": [
      "Help on Ephemeris in module susie.ephemeris object:\n",
      "\n",
      "class Ephemeris(builtins.object)\n",
      " |  Ephemeris(transit_times)\n",
      " |  \n",
      " |  Docstring about the ephemeris object.\n",
      " |  \n",
      " |  Parameters\n",
      " |  -----------\n",
      " |  transit_times : obj\n",
      " |      user generated object from transit_times.py\n",
      " |  model_type : str \n",
      " |      Specifies linear or quadratic model of transit time\n",
      " |  \n",
      " |      \n",
      " |  Returns\n",
      " |  -------\n",
      " |  model_ephemeris : list - ask\n",
      " |      Model of epemieris as a list of dictionaries\n",
      " |  \n",
      " |  Exceptions\n",
      " |  ----------\n",
      " |   ValueError\n",
      " |      raised if transit_times is not an instance of the TransitTimes object\n",
      " |  ----------\n",
      " |  \n",
      " |  Methods defined here:\n",
      " |  \n",
      " |  __init__(self, transit_times)\n",
      " |      Initialize self.  See help(type(self)) for accurate signature.\n",
      " |  \n",
      " |  calc_bic(self)\n",
      " |  \n",
      " |  calc_chi_squared(self)\n",
      " |  \n",
      " |  calc_delta_bic(self)\n",
      " |  \n",
      " |  get_model_ephemeris(self, model_type)\n",
      " |  \n",
      " |  plot_model_ephemeris(self, save_plot)\n",
      " |  \n",
      " |  ----------------------------------------------------------------------\n",
      " |  Data descriptors defined here:\n",
      " |  \n",
      " |  __dict__\n",
      " |      dictionary for instance variables (if defined)\n",
      " |  \n",
      " |  __weakref__\n",
      " |      list of weak references to the object (if defined)\n",
      "\n"
     ]
    }
   ],
   "source": [
    "ephemeris_obj1 = Ephemeris(transit_times_obj1)\n",
    "help(ephemeris_obj1)"
   ]
  },
  {
   "cell_type": "markdown",
   "metadata": {},
   "source": [
    "Fit your transit time data to an ephemeris model. You can specify what type of model with the options 'linear' or 'quadratic'."
   ]
  },
  {
   "cell_type": "code",
   "execution_count": 11,
   "metadata": {},
   "outputs": [],
   "source": [
    "# Getting a linear model will solve for period and conjuction time (and their respective errors)\n",
    "linear_model_data = ephemeris_obj1.get_model_ephemeris('linear')"
   ]
  },
  {
   "cell_type": "code",
   "execution_count": 15,
   "metadata": {},
   "outputs": [
    {
     "data": {
      "image/png": "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",
      "text/plain": [
       "<Figure size 640x480 with 1 Axes>"
      ]
     },
     "metadata": {},
     "output_type": "display_data"
    }
   ],
   "source": [
    "# Show model fit\n",
    "plt.errorbar(transit_times_obj1.epochs, transit_times_obj1.mid_transit_times - linear_model_data,\n",
    "             yerr=mid_transit_times_uncertainties_data, marker='o', ls='')\n",
    "plt.show()"
   ]
  },
  {
   "cell_type": "code",
   "execution_count": 16,
   "metadata": {},
   "outputs": [],
   "source": [
    "# Getting a quadratic model will solve for period, conjunction time, and period change by epoch (and their respective errors)\n",
    "quad_model_data = ephemeris_obj1.get_model_ephemeris('quadratic')"
   ]
  },
  {
   "cell_type": "code",
   "execution_count": 20,
   "metadata": {},
   "outputs": [
    {
     "name": "stdout",
     "output_type": "stream",
     "text": [
      "[1.09142134 1.14024177 1.14157926 1.27686723 1.28077126 1.29070923\n",
      " 1.29611341 1.31988773 1.32060674 1.33374215 1.35029358 1.54587881\n",
      " 1.54994099 1.56017549 1.56120516 1.56844443 1.5915568  1.5915568\n",
      " 1.6152159  1.63942175 1.64723827 1.64948173 1.65060516 1.65285539\n",
      " 1.67331085 1.96971847 1.98386152 1.98528204 1.98812646 2.0052879\n",
      " 2.02696846 2.03133507 2.06218601 2.06366753 2.06515018 2.0696049\n",
      " 2.07109207 2.08003879 2.08153387 2.09504037 2.09654674 2.11167257\n",
      " 2.11319137 2.1147113  2.11623235 2.13150504 2.14380453 2.14534705\n",
      " 2.51037167 2.5175426  2.55730582 2.57190073 2.57556075 2.59761578\n",
      " 2.60500361 2.61055634 2.63473565 2.64971012 2.65158701 3.16057428\n",
      " 3.16273697 3.16490079 3.16706574 3.21060195 3.21279062 3.26122719\n",
      " 3.27009258 3.27675349 3.27897605 3.28119974 3.30126378 3.30797213\n",
      " 3.33040672 3.34166638 3.36200493 3.37788706 3.39382454 3.39838827\n",
      " 3.40067184 3.98650835 4.04304668 4.04821364 4.12626026 4.12887932\n",
      " 4.16039619 4.16302994 4.17885616 4.18149781 4.26662726 4.88906177\n",
      " 5.01010634 5.01308237 5.10891174 5.11192504 5.17850359 5.81537263\n",
      " 5.87436002 5.91058804 5.92049214 5.9801302  5.98345415 6.10050432\n",
      " 6.10386895 6.12070901 6.12408041 6.1342014  6.14771186 6.14771186\n",
      " 6.16462535 6.17139865 6.20873259 6.23256172 6.2359704  6.23938021\n",
      " 6.93677748 7.01699979 7.04997559 7.09408566 7.09776884 7.10882516\n",
      " 7.26468119 7.26841634 7.29459398 7.30208348 7.30957749 7.37345903\n",
      " 7.37345903 7.37722694 7.38853743 7.3960834  7.3960834  7.39985809\n",
      " 7.39985809 7.41118891 7.45282225 8.28997598 8.51348881 8.59973152\n",
      " 8.64510509]\n"
     ]
    },
    {
     "data": {
      "image/png": "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",
      "text/plain": [
       "<Figure size 640x480 with 1 Axes>"
      ]
     },
     "metadata": {},
     "output_type": "display_data"
    }
   ],
   "source": [
    "# Show model fit\n",
    "plt.errorbar(transit_times_obj1.epochs, transit_times_obj1.mid_transit_times - quad_model_data,\n",
    "             yerr=mid_transit_times_uncertainties_data, marker='o', ls='')\n",
    "\n",
    "print(quad_model_data)\n",
    "plt.show()"
   ]
  }
 ],
 "metadata": {
  "kernelspec": {
   "display_name": "Python 3 (ipykernel)",
   "language": "python",
   "name": "python3"
  },
  "language_info": {
   "codemirror_mode": {
    "name": "ipython",
    "version": 3
   },
   "file_extension": ".py",
   "mimetype": "text/x-python",
   "name": "python",
   "nbconvert_exporter": "python",
   "pygments_lexer": "ipython3",
   "version": "3.11.5"
  }
 },
 "nbformat": 4,
 "nbformat_minor": 2
}
