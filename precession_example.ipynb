{
 "cells": [
  {
   "cell_type": "markdown",
   "metadata": {},
   "source": [
    "Import Libraries and Packages"
   ]
  },
  {
   "cell_type": "code",
   "execution_count": 3,
   "metadata": {},
   "outputs": [],
   "source": [
    "import numpy as np\n",
    "import pandas as pd\n",
    "# Importing from src imports directly from source code\n",
    "from src.susie.timing_data import TimingData\n",
    "from src.susie.ephemeris import Ephemeris\n",
    "\n",
    "import matplotlib.pyplot as plt"
   ]
  },
  {
   "cell_type": "markdown",
   "metadata": {},
   "source": [
    "Importing the Data"
   ]
  },
  {
   "cell_type": "code",
   "execution_count": 4,
   "metadata": {},
   "outputs": [],
   "source": [
    "url = 'https://raw.githubusercontent.com/BoiseStatePlanetary/susie/main/example_data/wasp12b_tra_occ.csv'\n",
    "\n",
    "# Read the CSV file directly from the URL\n",
    "data = pd.read_csv(url)\n",
    "tra_or_occs = np.array(data[\"tra_or_occ\"])\n",
    "epochs = np.array(data[\"epoch\"].astype('int'))\n",
    "mid_times = np.array(data[\"transit_time\"])\n",
    "mid_time_errs = np.array(data[\"sigma_transit_time\"])"
   ]
  },
  {
   "cell_type": "markdown",
   "metadata": {},
   "source": [
    "Creating the TimingData and Ephemeris objects"
   ]
  },
  {
   "cell_type": "code",
   "execution_count": 5,
   "metadata": {},
   "outputs": [],
   "source": [
    "# Create new transit times object with above data\n",
    "timing_obj1 = TimingData('jd', epochs, mid_times, mid_time_uncertainties=mid_time_errs, tra_or_occ=tra_or_occs, time_scale='tdb')\n",
    "ephemeris_obj1 = Ephemeris(timing_obj1)"
   ]
  },
  {
   "cell_type": "markdown",
   "metadata": {},
   "source": [
    "Linear Model"
   ]
  },
  {
   "cell_type": "code",
   "execution_count": 6,
   "metadata": {},
   "outputs": [
    {
     "name": "stdout",
     "output_type": "stream",
     "text": [
      "period: 1.091419640045437\n",
      "\n",
      "period_err: 4.210286887084641e-08\n",
      "\n",
      "conjunction_time: 2454515.5273143817\n",
      "\n",
      "conjunction_time_err: 9.256395817869713e-05\n",
      "\n",
      "model_type: linear\n",
      "\n",
      "model_data: [2454515.52731438 2454769.28238069 2454773.64805925 2454836.40468855\n",
      " 2454840.77036712 2455140.91076813 2455147.45928597 2455163.83058057\n",
      " 2455172.56193769 2455194.93604031 2455202.57597779 2455209.67020545\n",
      " 2455210.76162509 2455230.40717861 2455254.41841069 2455494.5307315\n",
      " 2455498.89641006 2455509.81060646 2455510.9020261  2455517.99625376\n",
      " 2455518.54196358 2455542.55319566 2455542.55319566 2455566.56442775\n",
      " 2455576.93291433 2455587.84711073 2455590.57565983 2455598.21559731\n",
      " 2455600.39843659 2455601.48985623 2455603.67269551 2455623.31824903\n",
      " 2455876.52760552 2455887.44180192 2455888.53322156 2455890.71606084\n",
      " 2455903.81309652 2455910.90732418 2455920.18439112 2455923.45865004\n",
      " 2455924.00435986 2455946.37846248 2455946.9241723  2455947.46988212\n",
      " 2455948.56130176 2455951.83556068 2455952.92698032 2455959.47549816\n",
      " 2455960.5669178  2455970.38969456 2455971.4811142  2455982.3953106\n",
      " 2455983.48673024 2455984.57814988 2455985.66956952 2455996.58376592\n",
      " 2456005.31512304 2456006.40654268 2456245.42744385 2456249.79312241\n",
      " 2456273.80435449 2456282.53571162 2456284.7185509  2456297.81558658\n",
      " 2456302.18126514 2456305.45552406 2456319.64397938 2456328.3753365\n",
      " 2456329.46675614 2456604.50450543 2456605.59592507 2456606.68734471\n",
      " 2456607.77876435 2456629.60715715 2456630.69857679 2456638.88422409\n",
      " 2456642.15848301 2456654.70980887 2456659.07548743 2456662.34974635\n",
      " 2456663.44116599 2456664.53258563 2456674.35536239 2456677.62962131\n",
      " 2456688.54381771 2456694.00091591 2456703.82369267 2456711.46363015\n",
      " 2456719.10356763 2456721.28640691 2456722.37782655 2456986.50137944\n",
      " 2457010.51261153 2457012.69545081 2457045.43804001 2457046.52945965\n",
      " 2457059.62649533 2457060.71791497 2457067.26643281 2457068.35785245\n",
      " 2457103.28328093 2457345.57844102 2457390.32664626 2457391.4180659\n",
      " 2457426.34349438 2457427.43491402 2457451.4461461  2457671.91291339\n",
      " 2457691.55846691 2457703.56408295 2457706.83834187 2457726.4838954\n",
      " 2457727.57531504 2457765.77500244 2457766.86642208 2457769.59497118\n",
      " 2457772.32352028 2457773.41493992 2457776.68919884 2457781.0548774\n",
      " 2457781.0548774  2457786.5119756  2457788.69481488 2457800.70043092\n",
      " 2457808.3403684  2457809.43178804 2457810.52320768 2457830.71447102\n",
      " 2458026.62429641 2458050.63552849 2458060.45830525 2458073.55534093\n",
      " 2458074.64676057 2458077.92101949 2458123.76064437 2458124.85206401\n",
      " 2458132.49200149 2458134.67484077 2458136.85768005 2458155.41181393\n",
      " 2458155.41181393 2458156.50323357 2458159.77749249 2458161.96033177\n",
      " 2458161.96033177 2458163.05175141 2458163.05175141 2458166.32601033\n",
      " 2458178.33162637 2458411.89542934 2458471.92350955 2458485.56625505\n",
      " 2458494.84332199 2458499.75471037 2458504.12038893 2458506.84893803\n",
      " 2458508.48606749 2458517.21742461]\n",
      "\n"
     ]
    }
   ],
   "source": [
    "# Getting a linear model will solve for period and conjuction time (and their respective errors)\n",
    "linear_model_data = ephemeris_obj1.get_model_ephemeris('linear')\n",
    "\n",
    "for key, value in linear_model_data.items():\n",
    "    print(f\"{key}: {value}\\n\")"
   ]
  },
  {
   "cell_type": "markdown",
   "metadata": {},
   "source": [
    "Quadratic Model"
   ]
  },
  {
   "cell_type": "code",
   "execution_count": 7,
   "metadata": {},
   "outputs": [
    {
     "name": "stdout",
     "output_type": "stream",
     "text": [
      "period: 1.0914217235792794\n",
      "\n",
      "period_err: 1.5396843425628388e-07\n",
      "\n",
      "conjunction_time: 2454515.525511919\n",
      "\n",
      "conjunction_time_err: 0.00014522035702285087\n",
      "\n",
      "period_change_by_epoch: -9.89824903833347e-10\n",
      "\n",
      "period_change_by_epoch_err: 7.180878117743563e-11\n",
      "\n",
      "model_type: quadratic\n",
      "\n",
      "model_data: [2454515.52551192 2454769.28103601 2454773.64672198 2454836.40345587\n",
      " 2454840.7691416  2455140.90999704 2455147.45852396 2455163.8298411\n",
      " 2455172.56121016 2455194.93534337 2455202.5752911  2455209.66952793\n",
      " 2455210.76094902 2455230.40652853 2455254.41779195 2455494.53039976\n",
      " 2455498.89608309 2455509.81029136 2455510.90171218 2455517.99594795\n",
      " 2455518.5416579  2455542.55291557 2455542.55291557 2455566.56417276\n",
      " 2455576.93267051 2455587.84687808 2455590.57542947 2455598.21537468\n",
      " 2455600.39821617 2455601.4896369  2455603.67247838 2455623.31805148\n",
      " 2455876.52763163 2455887.44183647 2455888.53325695 2455890.71609791\n",
      " 2455903.81314355 2455910.90737718 2455920.18445041 2455923.45871175\n",
      " 2455924.00442261 2455946.37854091 2455946.92425178 2455947.46996134\n",
      " 2455948.56138176 2455951.83564303 2455952.92706345 2455959.47558596\n",
      " 2455960.56700637 2455970.38979005 2455971.48121045 2455982.39541443\n",
      " 2455983.48683482 2455984.57825522 2455985.66967561 2455996.58387946\n",
      " 2456005.31524247 2456006.40666284 2456245.42770046 2456249.79338107\n",
      " 2456273.80462415 2456282.53598515 2456284.71882539 2456297.81586675\n",
      " 2456302.18154717 2456305.45580747 2456319.64426869 2456328.37562936\n",
      " 2456329.46704944 2456604.50487779 2456605.59629762 2456606.68771745\n",
      " 2456607.77913727 2456629.6075336  2456630.6989534  2456638.88460288\n",
      " 2456642.15886227 2456654.71018888 2456659.075868   2456662.35012734\n",
      " 2456663.44154712 2456664.53296689 2456674.35574482 2456677.63000411\n",
      " 2456688.54420169 2456694.00130044 2456703.82407814 2456711.46401628\n",
      " 2456719.10395438 2456721.28679383 2456722.37821355 2456986.50175733\n",
      " 2457010.51298571 2457012.69582463 2457045.43840795 2457046.52982738\n",
      " 2457059.62686045 2457060.71827986 2457067.26679634 2457068.35821574\n",
      " 2457103.28363631 2457345.57871354 2457390.32689815 2457391.41831726\n",
      " 2457426.34372845 2457427.43514753 2457451.44636711 2457671.91299723\n",
      " 2457691.55853657 2457703.56414378 2457706.83840027 2457726.48393904\n",
      " 2457727.57535785 2457765.77501561 2457766.86643439 2457769.5949828\n",
      " 2457772.32352825 2457773.41494702 2457776.68920332 2457781.05487838\n",
      " 2457781.05487838 2457786.51197218 2457788.69480969 2457800.70041594\n",
      " 2457808.34034712 2457809.43176586 2457810.52318459 2457830.71443253\n",
      " 2458026.62407478 2458050.63528241 2458060.45804902 2458073.55507106\n",
      " 2458074.64648955 2458077.92074503 2458123.76032086 2458124.85173931\n",
      " 2458132.49166844 2458134.67450532 2458136.8573422  2458155.41145553\n",
      " 2458155.41145553 2458156.50287395 2458159.77712921 2458161.95996605\n",
      " 2458161.95996605 2458163.05138446 2458163.05138446 2458166.3256397\n",
      " 2458178.33124218 2458411.89475749 2458471.92275643 2458485.56548485\n",
      " 2458494.84253706 2458499.75392037 2458504.11959281 2458506.84813626\n",
      " 2458508.48526523 2458517.21661002]\n",
      "\n"
     ]
    }
   ],
   "source": [
    "# Getting a linear model will solve for period and conjuction time (and their respective errors)\n",
    "quadratic_model_data = ephemeris_obj1.get_model_ephemeris('quadratic')\n",
    "\n",
    "for key, value in quadratic_model_data.items():\n",
    "    print(f\"{key}: {value}\\n\")"
   ]
  },
  {
   "cell_type": "markdown",
   "metadata": {},
   "source": [
    "Precession Model"
   ]
  },
  {
   "cell_type": "code",
   "execution_count": 8,
   "metadata": {},
   "outputs": [
    {
     "name": "stdout",
     "output_type": "stream",
     "text": [
      "period: 1.091419177243411\n",
      "\n",
      "period_err: 5.2742554781294556e-06\n",
      "\n",
      "conjunction_time: 2454515.5341239404\n",
      "\n",
      "conjunction_time_err: 0.01180572813100868\n",
      "\n",
      "eccentricity: 0.9733689469952322\n",
      "\n",
      "eccentricity_err: 2854.540631393408\n",
      "\n",
      "pericenter: -155322665.49323985\n",
      "\n",
      "pericenter_err: 347918.9038971391\n",
      "\n",
      "pericenter_change_by_epoch: -71560.06616158684\n",
      "\n",
      "pericenter_change_by_epoch_err: 151.81905076798304\n",
      "\n",
      "model_type: precession\n",
      "\n",
      "model_data: [0 0 0 0 0 0 0 0 0 0 0 0 0 0 0 0 0 0 0 0 0 0 0 0 0 0 0 0 0 0 0 0 0 0 0 0 0\n",
      " 0 0 0 0 0 0 0 0 0 0 0 0 0 0 0 0 0 0 0 0 0 0 0 0 0 0 0 0 0 0 0 0 0 0 0 0 0\n",
      " 0 0 0 0 0 0 0 0 0 0 0 0 0 0 0 0 0 0 0 0 0 0 0 0 0 0 0 0 0 0 0 0 0 0 0 0 0\n",
      " 0 0 0 0 0 0 0 0 0 0 0 0 0 0 0 0 0 0 0 0 0 0 0 0 0 0 0 0 0 0 0 0 0 0 0 0 0\n",
      " 0 0 0 0 0 0 0 0 0 0]\n",
      "\n"
     ]
    }
   ],
   "source": [
    "# Getting a linear model will solve for period and conjuction time (and their respective errors)\n",
    "precession_model_data = ephemeris_obj1.get_model_ephemeris('precession')\n",
    "\n",
    "for key, value in precession_model_data.items():\n",
    "    print(f\"{key}: {value}\\n\")"
   ]
  },
  {
   "cell_type": "code",
   "execution_count": 9,
   "metadata": {},
   "outputs": [],
   "source": [
    "url = \"example_data/WASP12b_transit_ephemeris.csv\"\n",
    "\n",
    "# Read the CSV file directly from the URL\n",
    "data = pd.read_csv(url)\n",
    "epochs = np.array(data[\"epoch\"].astype('int'))\n",
    "mid_times = np.array(data[\"#transit_time\"])\n",
    "mid_time_errs = np.array(data[\"sigma_transit_time\"])"
   ]
  },
  {
   "cell_type": "code",
   "execution_count": 10,
   "metadata": {},
   "outputs": [],
   "source": [
    "def anomalistic_period(P, dwdE):\n",
    "    \"\"\"Calculates the anomalistic period given a period and a change in pericenter with respect to epoch.\n",
    "\n",
    "    Uses the equation:\n",
    "    P / (1 - (1/(2*pi)) * dwdE)\n",
    "\n",
    "    Parameters\n",
    "    ----------\n",
    "    P: float\n",
    "        The exoplanet sideral orbital period.\n",
    "    dwdE: float\n",
    "        Change in pericenter with respect to epoch.\n",
    "\n",
    "    Returns\n",
    "    -------\n",
    "        A float of the calculated starting anomalistic period.\n",
    "    \"\"\"\n",
    "    result = P/(1 - (1/(2*np.pi))*dwdE)\n",
    "    return result\n",
    "    \n",
    "def pericenter(w0, dwdE, E):\n",
    "    \"\"\"Calculates the pericenter given a list of epochs, an intial pericenter value, and a change in pericenter with respect to epoch.\n",
    "\n",
    "    Uses the equation:\n",
    "    w0 + dwdE * E\n",
    "\n",
    "    Parameters\n",
    "    ----------\n",
    "    E: numpy.ndarray[int]\n",
    "        The epochs.\n",
    "    dwdE: float\n",
    "        Change in pericenter with respect to epoch.\n",
    "    w0: int\n",
    "        The intial pericenter.\n",
    "\n",
    "    Returns\n",
    "    -------\n",
    "        A numpy.ndarray[float] of the calculated pericenter as a function of epochs.\n",
    "    \"\"\"\n",
    "    result = w0 + dwdE*E\n",
    "    return result\n",
    "\n",
    "def precession_fit(E, T0, P, dwdE, w0, e, tra_or_occ):\n",
    "    \"\"\"Calculates a precession function with given data.\n",
    "\n",
    "    Uses the equation \n",
    "        -  conjunction time + (epochs * period) - ((eccentricity * anomalistic period) / pi) * cos(pericenter) for transit observations\n",
    "        -  conjunction time + (anomalistic period / 2) + epochs * period + ((eccentricity * anomalistic period) / pi) * cos(pericenter) for occultation observations as a precession function for the LMfit Model.\n",
    "    \n",
    "    Parameters\n",
    "    ----------\n",
    "        e: float\n",
    "            The eccentricity.\n",
    "        E: numpy.ndarray[int]\n",
    "            The epochs.\n",
    "        dwdE: float\n",
    "            Change in pericenter with respect to epoch.\n",
    "        P: float\n",
    "            The exoplanet sideral orbital period.\n",
    "        T0: float\n",
    "            The initial mid-time, also known as conjunction time.\n",
    "        tra_or_occ: numpy.ndarray[str]\n",
    "            Indicates if the data is from a transit or occultation.\n",
    "        w0: int\n",
    "            The intial pericenter.\n",
    "    \n",
    "    Returns\n",
    "    -------\n",
    "        result: numpy.ndarray[float]\n",
    "            A precession function to be used with the LMfit Model, returned as:\n",
    "            :math:`T0 + E*P - \\\\frac{e * \\\\text{self.anomalistic_period}(P,dwdE)}{\\\\pi} * \\\\cos(\\\\text{self.pericenter}(w0, dwdE, E))`\n",
    "            :math:`T0 + \\\\frac{\\\\text{self.anomalistic_period}(P,dwdE)}{2} + E*P + \\\\frac{e * \\\\text{self.anomalistic_period}(P,dwdE)}{\\\\pi} * \\\\cos(\\\\text{self.pericenter}(w0, dwdE, E))`\n",
    "    \"\"\"\n",
    "    # anomalistic_period = anomalistic_period(P, dwdE)\n",
    "    # pericenter = pericenter(w0, dwdE, E)\n",
    "    result = np.zeros(len(E))\n",
    "    for i, t_type in enumerate(tra_or_occ):\n",
    "        if t_type == 0:\n",
    "            # transit data\n",
    "            result[i] = T0 + E[i]*P - ((e*anomalistic_period(P, dwdE))/np.pi)*np.cos(pericenter(w0, dwdE, E[i]))\n",
    "        elif t_type == 1:\n",
    "            # occultation data\n",
    "            result[i] = T0 + anomalistic_period(P, dwdE)/2 + E[i]*P + ((e*anomalistic_period(P, dwdE))/np.pi)*np.cos(pericenter(w0, dwdE, E[i]))\n",
    "    return result"
   ]
  },
  {
   "cell_type": "code",
   "execution_count": 11,
   "metadata": {},
   "outputs": [],
   "source": [
    "tra_or_occ_enum = np.zeros(len(epochs))\n",
    "prec_transit_times = precession_fit(epochs, 0.0, 1.091423, 0.000984, 2.62, 0.00310, tra_or_occ=tra_or_occ_enum)"
   ]
  },
  {
   "cell_type": "code",
   "execution_count": 12,
   "metadata": {},
   "outputs": [
    {
     "data": {
      "text/plain": [
       "<matplotlib.collections.PathCollection at 0x15675af40>"
      ]
     },
     "execution_count": 12,
     "metadata": {},
     "output_type": "execute_result"
    },
    {
     "data": {
      "image/png": "[encoded data removed]",
      "text/plain": [
       "<Figure size 640x480 with 1 Axes>"
      ]
     },
     "metadata": {},
     "output_type": "display_data"
    }
   ],
   "source": [
    "plt.scatter(epochs, (prec_transit_times - 0 - 1.091423 * epochs))"
   ]
  },
  {
   "cell_type": "code",
   "execution_count": null,
   "metadata": {},
   "outputs": [],
   "source": []
  }
 ],
 "metadata": {
  "kernelspec": {
   "display_name": "notebook_env",
   "language": "python",
   "name": "python3"
  },
  "language_info": {
   "codemirror_mode": {
    "name": "ipython",
    "version": 3
   },
   "file_extension": ".py",
   "mimetype": "text/x-python",
   "name": "python",
   "nbconvert_exporter": "python",
   "pygments_lexer": "ipython3",
   "version": "3.9.6"
  }
 },
 "nbformat": 4,
 "nbformat_minor": 2
}
