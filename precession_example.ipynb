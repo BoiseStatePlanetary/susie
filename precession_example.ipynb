{
 "cells": [
  {
   "cell_type": "markdown",
   "metadata": {},
   "source": [
    "# Precession Testing & Examples"
   ]
  },
  {
   "cell_type": "markdown",
   "metadata": {},
   "source": [
    "### Import Libraries and Packages"
   ]
  },
  {
   "cell_type": "code",
   "execution_count": 2,
   "metadata": {},
   "outputs": [
    {
     "name": "stderr",
     "output_type": "stream",
     "text": [
      "/Users/adriennekirk/Desktop/susie/.venv/lib/python3.9/site-packages/urllib3/__init__.py:35: NotOpenSSLWarning: urllib3 v2 only supports OpenSSL 1.1.1+, currently the 'ssl' module is compiled with 'LibreSSL 2.8.3'. See: https://github.com/urllib3/urllib3/issues/3020\n",
      "  warnings.warn(\n"
     ]
    }
   ],
   "source": [
    "import numpy as np\n",
    "import pandas as pd\n",
    "# Importing from src imports directly from source code\n",
    "from src.susie.timing_data import TimingData\n",
    "from src.susie.ephemeris import Ephemeris\n",
    "\n",
    "import matplotlib.pyplot as plt"
   ]
  },
  {
   "cell_type": "markdown",
   "metadata": {},
   "source": [
    "### Helper Functions"
   ]
  },
  {
   "cell_type": "code",
<<<<<<< HEAD
   "execution_count": 3,
=======
   "execution_count": null,
   "metadata": {},
   "outputs": [],
   "source": [
    "def anomalistic_period(P, dwdE):\n",
    "    result = P/(1 - (1/(2*np.pi))*dwdE)\n",
    "    return result\n",
    "    \n",
    "def pericenter(w0, dwdE, E):\n",
    "    result = w0 + dwdE*E\n",
    "    return result\n",
    "\n",
    "def precession_fit(E, T0, P, dwdE, w0, e, tra_or_occ):\n",
    "    # anomalistic_period = anomalistic_period(P, dwdE)\n",
    "    # pericenter = pericenter(w0, dwdE, E)\n",
    "    result = np.zeros(len(E))\n",
    "    for i, t_type in enumerate(tra_or_occ):\n",
    "        if t_type == 0:\n",
    "            # transit data\n",
    "            result[i] = T0 + E[i]*P - ((e*anomalistic_period(P, dwdE))/np.pi)*np.cos(pericenter(w0, dwdE, E[i]))\n",
    "        elif t_type == 1:\n",
    "            # occultation data\n",
    "            result[i] = T0 + anomalistic_period(P, dwdE)/2 + E[i]*P + ((e*anomalistic_period(P, dwdE))/np.pi)*np.cos(pericenter(w0, dwdE, E[i]))\n",
    "    return result"
   ]
  },
  {
   "cell_type": "markdown",
   "metadata": {},
   "source": [
    "### Importing the Data"
   ]
  },
  {
   "cell_type": "code",
   "execution_count": 82,
>>>>>>> 090a8ab7ba8185c0f39e3524b4f2cb5a2c12f442
   "metadata": {},
   "outputs": [],
   "source": [
    "url = 'https://raw.githubusercontent.com/BoiseStatePlanetary/susie/main/example_data/wasp12b_tra_occ.csv'\n",
    "\n",
    "# Read the CSV file directly from the URL\n",
    "data = pd.read_csv(url)\n",
    "tra_or_occs = np.array(data[\"tra_or_occ\"])\n",
    "epochs = np.array(data[\"epoch\"].astype('int'))\n",
    "mid_times = np.array(data[\"transit_time\"])\n",
    "mid_time_errs = np.array(data[\"sigma_transit_time\"])"
   ]
  },
  {
   "cell_type": "code",
   "execution_count": null,
   "metadata": {},
   "outputs": [],
   "source": [
    "def _anomalistic_period(P, dwdE):\n",
    "    \"\"\"Calculates the anomalistic period given a period and a change in pericenter with respect to epoch.\n",
    "\n",
    "    Uses the equation:\n",
    "    P / (1 - (1/(2*pi)) * dwdE)\n",
    "\n",
    "    Parameters\n",
    "    ----------\n",
    "    P: float\n",
    "        The exoplanet sideral orbital period.\n",
    "    dwdE: float\n",
    "        Change in pericenter with respect to epoch.\n",
    "\n",
    "    Returns\n",
    "    -------\n",
    "        A float of the calculated starting anomalistic period.\n",
    "    \"\"\"\n",
    "    result = P/(1 - (1/(2*np.pi))*dwdE)\n",
    "    return result\n",
    "\n",
    "def _pericenter(w0, dwdE, E):\n",
    "    \"\"\"Calculates the pericenter given a list of epochs, an intial pericenter value, and a change in pericenter with respect to epoch.\n",
    "\n",
    "    Uses the equation:\n",
    "    w0 + dwdE * E\n",
    "\n",
    "    Parameters\n",
    "    ----------\n",
    "    E: numpy.ndarray[int]\n",
    "        The epochs.\n",
    "    dwdE: float\n",
    "        Change in pericenter with respect to epoch.\n",
    "    w0: int\n",
    "        The intial pericenter.\n",
    "\n",
    "    Returns\n",
    "    -------\n",
    "        A numpy.ndarray[float] of the calculated pericenter as a function of epochs.\n",
    "    \"\"\"\n",
    "    result = w0 + dwdE*E\n",
    "    return result\n",
    "\n",
    "def precession_fit(E, T0, P, dwdE, w0, e, tra_or_occ):\n",
    "    \"\"\"Calculates a precession function with given data.\n",
    "\n",
    "    Uses the equation \n",
    "        -  conjunction time + (epochs * period) - ((eccentricity * anomalistic period) / pi) * cos(pericenter) for transit observations\n",
    "        -  conjunction time + (anomalistic period / 2) + epochs * period + ((eccentricity * anomalistic period) / pi) * cos(pericenter) for occultation observations as a precession function for the LMfit Model.\n",
    "    \n",
    "    Parameters\n",
    "    ----------\n",
    "        e: float\n",
    "            The eccentricity.\n",
    "        E: numpy.ndarray[int]\n",
    "            The epochs.\n",
    "        dwdE: float\n",
    "            Change in pericenter with respect to epoch.\n",
    "        P: float\n",
    "            The exoplanet sideral orbital period.\n",
    "        T0: float\n",
    "            The initial mid-time, also known as conjunction time.\n",
    "        tra_or_occ: numpy.ndarray[str]\n",
    "            Indicates if the data is from a transit or occultation.\n",
    "        w0: int\n",
    "            The intial pericenter.\n",
    "    \n",
    "    Returns\n",
    "    -------\n",
    "        result: numpy.ndarray[float]\n",
    "            A precession function to be used with the LMfit Model, returned as:\n",
    "            :math:`T0 + E*P - \\\\frac{e * \\\\text{self.anomalistic_period}(P,dwdE)}{\\\\pi} * \\\\cos(\\\\text{self.pericenter}(w0, dwdE, E))`\n",
    "            :math:`T0 + \\\\frac{\\\\text{self.anomalistic_period}(P,dwdE)}{2} + E*P + \\\\frac{e * \\\\text{self.anomalistic_period}(P,dwdE)}{\\\\pi} * \\\\cos(\\\\text{self.pericenter}(w0, dwdE, E))`\n",
    "    \"\"\"\n",
    "    # anomalistic_period = self._anomalistic_period(P, dwdE)\n",
    "    # pericenter = self._pericenter(w0, dwdE, E)\n",
    "    result = np.zeros(len(E))\n",
    "    for i, t_type in enumerate(tra_or_occ):\n",
    "        if t_type == 0:\n",
    "            # transit data\n",
    "            result[i] = T0 + E[i]*P - ((e*self._anomalistic_period(P, dwdE))/np.pi)*np.cos(self._pericenter(w0, dwdE, E[i]))\n",
    "        elif t_type == 1:\n",
    "            # occultation data\n",
    "            result[i] = T0 + self._anomalistic_period(P, dwdE)/2 + E[i]*P + ((e*self._anomalistic_period(P, dwdE))/np.pi)*np.cos(self._pericenter(w0, dwdE, E[i]))\n",
    "    return result\n",
    "\n",
    "def fit_model(self, x, y, yerr, tra_or_occ):\n",
    "    \"\"\"Fits a precession model to ephemeris data.\n",
    "\n",
    "    Compares the model ephemeris data to the precession fit calculated with precession_fit method. Then minimizes \n",
    "    the difference between the two sets of data. The LMfit Model then returns the parameters of the precession\n",
    "    function corresponding to period, conjunction time, pericenter change by epoch, eccentricity, pericenter, and their respective errors. \n",
    "    These parameters are returned in a dictionary to the user.\n",
    "\n",
    "    Parameters\n",
    "    ----------\n",
    "        x: numpy.ndarray[int]\n",
    "            The epoch data as recieved from the TimingData object.\n",
    "        y: numpy.ndarray[float]\n",
    "            The mid-time data as recieved from the TimingData object.\n",
    "        yerr: numpy.ndarray[float]\n",
    "            The mid-time error data as recieved from the TimingData object.\n",
    "        tra_or_occ: numpy.ndarray[str]\n",
    "            Indicates if each point of data is taken from a transit or an occultation.\n",
    "\n",
    "    Returns\n",
    "    ------- \n",
    "    return_data: dict\n",
    "        A dictionary of parameters from the fit model ephemeris. \n",
    "        Example:\n",
    "            {\n",
    "                'period': Estimated orbital period of the exoplanet (in units of days),\n",
    "                'period_err': Uncertainty associated with orbital period (in units of days),\n",
    "                'conjunction_time': Time of conjunction of exoplanet transit or occultation,\n",
    "                'conjunction_time_err': Uncertainty associated with conjunction_time,\n",
    "                'pericenter_change_by_epoch': The exoplanet pericenter change with respect to epoch,\n",
    "                'pericenter_change_by_epoch_err': The uncertainties associated with pericenter_change_by_epoch,\n",
    "                'eccentricity': The exoplanet pericenter,\n",
    "                'eccentricity_err': The uncertainties associated with eccentricity,\n",
    "                'pericenter': The exoplanet inital pericenter value,\n",
    "                'pericenter_err': The uncertainties associated with pericenter.\n",
    "            }\n",
    "    \"\"\"\n",
    "    # w0 can be bound between 0 and 2pi\n",
    "    # STARTING VAL OF dwdE CANNOT BE 0, WILL RESULT IN NAN VALUES FOR THE MODEL\n",
    "    tra_or_occ_enum = [0 if i == 'tra' else 1 for i in tra_or_occ]\n",
    "    model = Model(self.precession_fit, independent_vars=['E', 'tra_or_occ'])\n",
    "    params = model.make_params(T0=0.0, P=1.091423, dwdE=dict(value=0.000984, max=0.001, min=-0.001), e=dict(value=0.00310, min=0, max=1), w0=dict(value=2.62), tra_or_occ=tra_or_occ_enum)\n",
    "    result = model.fit(y, params, weights=1.0/yerr, E=x, tra_or_occ=tra_or_occ_enum)\n",
    "    return_data = {\n",
    "        'period': result.params['P'].value,\n",
    "        'period_err': result.params['P'].stderr,\n",
    "        'conjunction_time': result.params['T0'].value,\n",
    "        'conjunction_time_err': result.params['T0'].stderr,\n",
    "        'eccentricity': result.params['e'].value,\n",
    "        'eccentricity_err': result.params['e'].stderr,\n",
    "        'pericenter': result.params['w0'].value,\n",
    "        'pericenter_err': result.params['w0'].stderr,\n",
    "        'pericenter_change_by_epoch': result.params['dwdE'].value,\n",
    "        'pericenter_change_by_epoch_err': result.params['dwdE'].stderr\n",
    "    }\n",
    "    return(return_data)"
   ]
  },
  {
   "cell_type": "markdown",
   "metadata": {},
   "source": [
    "### Creating the TimingData and Ephemeris objects"
   ]
  },
  {
   "cell_type": "code",
   "execution_count": 4,
   "metadata": {},
   "outputs": [],
   "source": [
    "# Create new transit times object with above data\n",
    "timing_obj1 = TimingData('jd', epochs, mid_times, mid_time_uncertainties=mid_time_errs, tra_or_occ=tra_or_occs, time_scale='tdb')\n",
    "ephemeris_obj1 = Ephemeris(timing_obj1)"
   ]
  },
  {
   "cell_type": "markdown",
   "metadata": {},
   "source": [
    "Linear Model"
   ]
  },
  {
   "cell_type": "code",
   "execution_count": 5,
   "metadata": {},
   "outputs": [
    {
     "name": "stdout",
     "output_type": "stream",
     "text": [
      "period: 1.091419640045437\n",
      "\n",
      "period_err: 4.210286887084641e-08\n",
      "\n",
      "conjunction_time: 2454515.5273143817\n",
      "\n",
      "conjunction_time_err: 9.256395817869713e-05\n",
      "\n",
      "model_type: linear\n",
      "\n",
      "model_data: [2454515.52731438 2454769.28238069 2454773.64805925 2454836.40468855\n",
      " 2454840.77036712 2455140.91076813 2455147.45928597 2455163.83058057\n",
      " 2455172.56193769 2455194.93604031 2455202.57597779 2455209.67020545\n",
      " 2455210.76162509 2455230.40717861 2455254.41841069 2455494.5307315\n",
      " 2455498.89641006 2455509.81060646 2455510.9020261  2455517.99625376\n",
      " 2455518.54196358 2455542.55319566 2455542.55319566 2455566.56442775\n",
      " 2455576.93291433 2455587.84711073 2455590.57565983 2455598.21559731\n",
      " 2455600.39843659 2455601.48985623 2455603.67269551 2455623.31824903\n",
      " 2455876.52760552 2455887.44180192 2455888.53322156 2455890.71606084\n",
      " 2455903.81309652 2455910.90732418 2455920.18439112 2455923.45865004\n",
      " 2455924.00435986 2455946.37846248 2455946.9241723  2455947.46988212\n",
      " 2455948.56130176 2455951.83556068 2455952.92698032 2455959.47549816\n",
      " 2455960.5669178  2455970.38969456 2455971.4811142  2455982.3953106\n",
      " 2455983.48673024 2455984.57814988 2455985.66956952 2455996.58376592\n",
      " 2456005.31512304 2456006.40654268 2456245.42744385 2456249.79312241\n",
      " 2456273.80435449 2456282.53571162 2456284.7185509  2456297.81558658\n",
      " 2456302.18126514 2456305.45552406 2456319.64397938 2456328.3753365\n",
      " 2456329.46675614 2456604.50450543 2456605.59592507 2456606.68734471\n",
      " 2456607.77876435 2456629.60715715 2456630.69857679 2456638.88422409\n",
      " 2456642.15848301 2456654.70980887 2456659.07548743 2456662.34974635\n",
      " 2456663.44116599 2456664.53258563 2456674.35536239 2456677.62962131\n",
      " 2456688.54381771 2456694.00091591 2456703.82369267 2456711.46363015\n",
      " 2456719.10356763 2456721.28640691 2456722.37782655 2456986.50137944\n",
      " 2457010.51261153 2457012.69545081 2457045.43804001 2457046.52945965\n",
      " 2457059.62649533 2457060.71791497 2457067.26643281 2457068.35785245\n",
      " 2457103.28328093 2457345.57844102 2457390.32664626 2457391.4180659\n",
      " 2457426.34349438 2457427.43491402 2457451.4461461  2457671.91291339\n",
      " 2457691.55846691 2457703.56408295 2457706.83834187 2457726.4838954\n",
      " 2457727.57531504 2457765.77500244 2457766.86642208 2457769.59497118\n",
      " 2457772.32352028 2457773.41493992 2457776.68919884 2457781.0548774\n",
      " 2457781.0548774  2457786.5119756  2457788.69481488 2457800.70043092\n",
      " 2457808.3403684  2457809.43178804 2457810.52320768 2457830.71447102\n",
      " 2458026.62429641 2458050.63552849 2458060.45830525 2458073.55534093\n",
      " 2458074.64676057 2458077.92101949 2458123.76064437 2458124.85206401\n",
      " 2458132.49200149 2458134.67484077 2458136.85768005 2458155.41181393\n",
      " 2458155.41181393 2458156.50323357 2458159.77749249 2458161.96033177\n",
      " 2458161.96033177 2458163.05175141 2458163.05175141 2458166.32601033\n",
      " 2458178.33162637 2458411.89542934 2458471.92350955 2458485.56625505\n",
      " 2458494.84332199 2458499.75471037 2458504.12038893 2458506.84893803\n",
      " 2458508.48606749 2458517.21742461]\n",
      "\n"
     ]
    }
   ],
   "source": [
    "# Getting a linear model will solve for period and conjuction time (and their respective errors)\n",
    "linear_model_data = ephemeris_obj1.get_model_ephemeris('linear')\n",
    "\n",
    "for key, value in linear_model_data.items():\n",
    "    print(f\"{key}: {value}\\n\")"
   ]
  },
  {
   "cell_type": "markdown",
   "metadata": {},
   "source": [
    "Quadratic Model"
   ]
  },
  {
   "cell_type": "code",
   "execution_count": 6,
   "metadata": {},
   "outputs": [
    {
     "name": "stdout",
     "output_type": "stream",
     "text": [
      "period: 1.0914217235792794\n",
      "\n",
      "period_err: 1.5396843425628388e-07\n",
      "\n",
      "conjunction_time: 2454515.525511919\n",
      "\n",
      "conjunction_time_err: 0.00014522035702285087\n",
      "\n",
      "period_change_by_epoch: -9.89824903833347e-10\n",
      "\n",
      "period_change_by_epoch_err: 7.180878117743563e-11\n",
      "\n",
      "model_type: quadratic\n",
      "\n",
      "model_data: [2454515.52551192 2454769.28103601 2454773.64672198 2454836.40345587\n",
      " 2454840.7691416  2455140.90999704 2455147.45852396 2455163.8298411\n",
      " 2455172.56121016 2455194.93534337 2455202.5752911  2455209.66952793\n",
      " 2455210.76094902 2455230.40652853 2455254.41779195 2455494.53039976\n",
      " 2455498.89608309 2455509.81029136 2455510.90171218 2455517.99594795\n",
      " 2455518.5416579  2455542.55291557 2455542.55291557 2455566.56417276\n",
      " 2455576.93267051 2455587.84687808 2455590.57542947 2455598.21537468\n",
      " 2455600.39821617 2455601.4896369  2455603.67247838 2455623.31805148\n",
      " 2455876.52763163 2455887.44183647 2455888.53325695 2455890.71609791\n",
      " 2455903.81314355 2455910.90737718 2455920.18445041 2455923.45871175\n",
      " 2455924.00442261 2455946.37854091 2455946.92425178 2455947.46996134\n",
      " 2455948.56138176 2455951.83564303 2455952.92706345 2455959.47558596\n",
      " 2455960.56700637 2455970.38979005 2455971.48121045 2455982.39541443\n",
      " 2455983.48683482 2455984.57825522 2455985.66967561 2455996.58387946\n",
      " 2456005.31524247 2456006.40666284 2456245.42770046 2456249.79338107\n",
      " 2456273.80462415 2456282.53598515 2456284.71882539 2456297.81586675\n",
      " 2456302.18154717 2456305.45580747 2456319.64426869 2456328.37562936\n",
      " 2456329.46704944 2456604.50487779 2456605.59629762 2456606.68771745\n",
      " 2456607.77913727 2456629.6075336  2456630.6989534  2456638.88460288\n",
      " 2456642.15886227 2456654.71018888 2456659.075868   2456662.35012734\n",
      " 2456663.44154712 2456664.53296689 2456674.35574482 2456677.63000411\n",
      " 2456688.54420169 2456694.00130044 2456703.82407814 2456711.46401628\n",
      " 2456719.10395438 2456721.28679383 2456722.37821355 2456986.50175733\n",
      " 2457010.51298571 2457012.69582463 2457045.43840795 2457046.52982738\n",
      " 2457059.62686045 2457060.71827986 2457067.26679634 2457068.35821574\n",
      " 2457103.28363631 2457345.57871354 2457390.32689815 2457391.41831726\n",
      " 2457426.34372845 2457427.43514753 2457451.44636711 2457671.91299723\n",
      " 2457691.55853657 2457703.56414378 2457706.83840027 2457726.48393904\n",
      " 2457727.57535785 2457765.77501561 2457766.86643439 2457769.5949828\n",
      " 2457772.32352825 2457773.41494702 2457776.68920332 2457781.05487838\n",
      " 2457781.05487838 2457786.51197218 2457788.69480969 2457800.70041594\n",
      " 2457808.34034712 2457809.43176586 2457810.52318459 2457830.71443253\n",
      " 2458026.62407478 2458050.63528241 2458060.45804902 2458073.55507106\n",
      " 2458074.64648955 2458077.92074503 2458123.76032086 2458124.85173931\n",
      " 2458132.49166844 2458134.67450532 2458136.8573422  2458155.41145553\n",
      " 2458155.41145553 2458156.50287395 2458159.77712921 2458161.95996605\n",
      " 2458161.95996605 2458163.05138446 2458163.05138446 2458166.3256397\n",
      " 2458178.33124218 2458411.89475749 2458471.92275643 2458485.56548485\n",
      " 2458494.84253706 2458499.75392037 2458504.11959281 2458506.84813626\n",
      " 2458508.48526523 2458517.21661002]\n",
      "\n"
     ]
    }
   ],
   "source": [
    "# Getting a linear model will solve for period and conjuction time (and their respective errors)\n",
    "quadratic_model_data = ephemeris_obj1.get_model_ephemeris('quadratic')\n",
    "\n",
    "for key, value in quadratic_model_data.items():\n",
    "    print(f\"{key}: {value}\\n\")"
   ]
  },
  {
   "cell_type": "markdown",
   "metadata": {},
   "source": [
    "Precession Model"
   ]
  },
  {
   "cell_type": "code",
<<<<<<< HEAD
   "execution_count": 7,
=======
   "execution_count": 81,
>>>>>>> 090a8ab7ba8185c0f39e3524b4f2cb5a2c12f442
   "metadata": {},
   "outputs": [
    {
     "name": "stdout",
     "output_type": "stream",
     "text": [
      "period: 1.091419177243411\n",
      "\n",
      "period_err: 5.2742554781294556e-06\n",
      "\n",
      "conjunction_time: 2454515.5341239404\n",
      "\n",
      "conjunction_time_err: 0.01180572813100868\n",
      "\n",
      "eccentricity: 0.9733689469952322\n",
      "\n",
      "eccentricity_err: 2854.540631393408\n",
      "\n",
      "pericenter: -155322665.49323985\n",
      "\n",
      "pericenter_err: 347918.9038971391\n",
      "\n",
      "pericenter_change_by_epoch: -71560.06616158684\n",
      "\n",
      "pericenter_change_by_epoch_err: 151.81905076798304\n",
      "\n",
      "model_type: precession\n",
      "\n",
      "model_data: [2454515.53409434 2454768.74344835 2454773.10907557 2454836.41138166\n",
      " 2454840.77702752 2455140.91730495 2455147.46579874 2455163.83709264\n",
      " 2455172.56846281 2455194.39692963 2455202.03686266 2455209.67669471\n",
      " 2455210.76811208 2455230.41371348 2455254.42493221 2455494.53709625\n",
      " 2455498.90283041 2455509.8169668  2455510.90838743 2455517.45700142\n",
      " 2455518.54831938 2455542.55954445 2455542.55954445 2455566.57077124\n",
      " 2455576.39359129 2455587.3078051  2455590.58199942 2455598.2219287\n",
      " 2455600.40481172 2455601.49623331 2455603.6790293  2455623.3246013\n",
      " 2455876.53386139 2455887.44802468 2455888.53942331 2455890.72227669\n",
      " 2455903.81929977 2455910.36786784 2455920.1905786  2455923.46487845\n",
      " 2455923.46489462 2455946.38466403 2455946.38471449 2455947.47610631\n",
      " 2455948.56753312 2455951.84173399 2455952.93315373 2455959.48167117\n",
      " 2455960.57308588 2455970.39589365 2455971.48733267 2455982.40148798\n",
      " 2455983.49288947 2455984.58431069 2455985.67575021 2455996.58997114\n",
      " 2456005.32130843 2456006.41270301 2456245.43349898 2456249.79920943\n",
      " 2456273.81042396 2456282.54175817 2456284.72458657 2456297.82163812\n",
      " 2456302.1873289  2456305.46157836 2456319.65005318 2456328.38139721\n",
      " 2456329.4727925  2456604.51045176 2456605.60184822 2456606.69324478\n",
      " 2456607.78465746 2456629.61306244 2456630.70446252 2456638.34449544\n",
      " 2456641.61871763 2456654.7156821  2456659.08141736 2456662.35561796\n",
      " 2456663.4470386  2456664.53847776 2456674.36128533 2456677.63549297\n",
      " 2456688.54970739 2456694.0067735  2456703.82956407 2456711.46949292\n",
      " 2456719.10942241 2456721.29230582 2456722.38372887 2456986.50711153\n",
      " 2457010.51833457 2457012.70121426 2457045.4438059  2457046.53521922\n",
      " 2457059.63222906 2457060.72366974 2457067.2721573  2457068.3636001\n",
      " 2457103.28898468 2457345.58408016 2457390.33222057 2457391.42366448\n",
      " 2457426.34907512 2457427.44047008 2457451.45168666 2457671.91837048\n",
      " 2457691.56394186 2457703.56952509 2457706.8437987  2457726.48934501\n",
      " 2457727.58074098 2457765.78043959 2457766.87183448 2457769.05475907\n",
      " 2457772.32897718 2457773.42037956 2457776.69460165 2457781.06031906\n",
      " 2457781.06031906 2457786.5174149  2457788.70025788 2457800.70582893\n",
      " 2457808.34575888 2457809.43720065 2457810.52864257 2457830.17423424\n",
      " 2458026.62961487 2458050.64082918 2458060.46358329 2458073.56064964\n",
      " 2458074.65204417 2458077.92632038 2458123.76589682 2458124.85733486\n",
      " 2458132.49726354 2458134.6801439  2458136.86295846 2458155.41705373\n",
      " 2458155.41705373 2458156.50849271 2458159.78277714 2458161.96557044\n",
      " 2458161.96557044 2458163.05698574 2458163.05698574 2458166.33130053\n",
      " 2458178.33685332 2458411.90061379 2458471.92862735 2458485.02573384\n",
      " 2458494.84841769 2458499.21414815 2458503.57985802 2458506.85407962\n",
      " 2458507.94551918 2458516.6768915 ]\n",
      "\n"
     ]
    }
   ],
   "source": [
    "# Getting a linear model will solve for period and conjuction time (and their respective errors)\n",
    "precession_model_data = ephemeris_obj1.get_model_ephemeris('precession')\n",
    "\n",
    "for key, value in precession_model_data.items():\n",
    "    print(f\"{key}: {value}\\n\")"
   ]
  },
  {
   "cell_type": "code",
   "execution_count": 8,
   "metadata": {},
   "outputs": [],
   "source": [
    "url = \"example_data/WASP12b_transit_ephemeris.csv\"\n",
    "\n",
    "# Read the CSV file directly from the URL\n",
    "data = pd.read_csv(url)\n",
    "epochs = np.array(data[\"epoch\"].astype('int'))\n",
    "mid_times = np.array(data[\"#transit_time\"])\n",
    "mid_time_errs = np.array(data[\"sigma_transit_time\"])"
   ]
  },
  {
   "cell_type": "code",
<<<<<<< HEAD
   "execution_count": 9,
   "metadata": {},
   "outputs": [],
   "source": [
    "def anomalistic_period(P, dwdE):\n",
    "    \"\"\"Calculates the anomalistic period given a period and a change in pericenter with respect to epoch.\n",
    "\n",
    "    Uses the equation:\n",
    "    P / (1 - (1/(2*pi)) * dwdE)\n",
    "\n",
    "    Parameters\n",
    "    ----------\n",
    "    P: float\n",
    "        The exoplanet sideral orbital period.\n",
    "    dwdE: float\n",
    "        Change in pericenter with respect to epoch.\n",
    "\n",
    "    Returns\n",
    "    -------\n",
    "        A float of the calculated starting anomalistic period.\n",
    "    \"\"\"\n",
    "    result = P/(1 - (1/(2*np.pi))*dwdE)\n",
    "    return result\n",
    "    \n",
    "def pericenter(w0, dwdE, E):\n",
    "    \"\"\"Calculates the pericenter given a list of epochs, an intial pericenter value, and a change in pericenter with respect to epoch.\n",
    "\n",
    "    Uses the equation:\n",
    "    w0 + dwdE * E\n",
    "\n",
    "    Parameters\n",
    "    ----------\n",
    "    E: numpy.ndarray[int]\n",
    "        The epochs.\n",
    "    dwdE: float\n",
    "        Change in pericenter with respect to epoch.\n",
    "    w0: int\n",
    "        The intial pericenter.\n",
    "\n",
    "    Returns\n",
    "    -------\n",
    "        A numpy.ndarray[float] of the calculated pericenter as a function of epochs.\n",
    "    \"\"\"\n",
    "    result = w0 + dwdE*E\n",
    "    return result\n",
    "\n",
    "def precession_fit(E, T0, P, dwdE, w0, e, tra_or_occ):\n",
    "    \"\"\"Calculates a precession function with given data.\n",
    "\n",
    "    Uses the equation \n",
    "        -  conjunction time + (epochs * period) - ((eccentricity * anomalistic period) / pi) * cos(pericenter) for transit observations\n",
    "        -  conjunction time + (anomalistic period / 2) + epochs * period + ((eccentricity * anomalistic period) / pi) * cos(pericenter) for occultation observations as a precession function for the LMfit Model.\n",
    "    \n",
    "    Parameters\n",
    "    ----------\n",
    "        e: float\n",
    "            The eccentricity.\n",
    "        E: numpy.ndarray[int]\n",
    "            The epochs.\n",
    "        dwdE: float\n",
    "            Change in pericenter with respect to epoch.\n",
    "        P: float\n",
    "            The exoplanet sideral orbital period.\n",
    "        T0: float\n",
    "            The initial mid-time, also known as conjunction time.\n",
    "        tra_or_occ: numpy.ndarray[str]\n",
    "            Indicates if the data is from a transit or occultation.\n",
    "        w0: int\n",
    "            The intial pericenter.\n",
    "    \n",
    "    Returns\n",
    "    -------\n",
    "        result: numpy.ndarray[float]\n",
    "            A precession function to be used with the LMfit Model, returned as:\n",
    "            :math:`T0 + E*P - \\\\frac{e * \\\\text{self.anomalistic_period}(P,dwdE)}{\\\\pi} * \\\\cos(\\\\text{self.pericenter}(w0, dwdE, E))`\n",
    "            :math:`T0 + \\\\frac{\\\\text{self.anomalistic_period}(P,dwdE)}{2} + E*P + \\\\frac{e * \\\\text{self.anomalistic_period}(P,dwdE)}{\\\\pi} * \\\\cos(\\\\text{self.pericenter}(w0, dwdE, E))`\n",
    "    \"\"\"\n",
    "    # anomalistic_period = anomalistic_period(P, dwdE)\n",
    "    # pericenter = pericenter(w0, dwdE, E)\n",
    "    result = np.zeros(len(E))\n",
    "    for i, t_type in enumerate(tra_or_occ):\n",
    "        if t_type == 0:\n",
    "            # transit data\n",
    "            result[i] = T0 + E[i]*P - ((e*anomalistic_period(P, dwdE))/np.pi)*np.cos(pericenter(w0, dwdE, E[i]))\n",
    "        elif t_type == 1:\n",
    "            # occultation data\n",
    "            result[i] = T0 + anomalistic_period(P, dwdE)/2 + E[i]*P + ((e*anomalistic_period(P, dwdE))/np.pi)*np.cos(pericenter(w0, dwdE, E[i]))\n",
    "    return result"
   ]
  },
  {
   "cell_type": "code",
   "execution_count": 10,
=======
   "execution_count": 16,
>>>>>>> 090a8ab7ba8185c0f39e3524b4f2cb5a2c12f442
   "metadata": {},
   "outputs": [],
   "source": [
    "tra_or_occ_enum = np.zeros(len(epochs))\n",
    "prec_transit_times = precession_fit(epochs, 0.0, 1.091423, 0.000984, 2.62, 0.00310, tra_or_occ=tra_or_occ_enum)"
   ]
  },
  {
   "cell_type": "code",
   "execution_count": 11,
   "metadata": {},
   "outputs": [
    {
     "data": {
      "text/plain": [
       "<matplotlib.collections.PathCollection at 0x163a67760>"
      ]
     },
     "execution_count": 11,
     "metadata": {},
     "output_type": "execute_result"
    },
    {
     "data": {
      "image/png": "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",
      "text/plain": [
       "<Figure size 640x480 with 1 Axes>"
      ]
     },
     "metadata": {},
     "output_type": "display_data"
    }
   ],
   "source": [
    "plt.scatter(epochs, (prec_transit_times - 0 - 1.091423 * epochs))"
   ]
  },
  {
   "cell_type": "code",
<<<<<<< HEAD
=======
   "execution_count": 75,
   "metadata": {},
   "outputs": [],
   "source": [
    "def generate_synthetic_precession_data(E, T0, P, e, dwdE, w0, tra_or_occ):\n",
    "    result = []\n",
    "    for i, t_type in enumerate(tra_or_occ):\n",
    "        if t_type == \"tra\":\n",
    "            # transit data\n",
    "            result.append(T0 + E[i]*P - ((e*anomalistic_period(P, dwdE))/np.pi)*np.cos(pericenter(w0, dwdE, E[i])))\n",
    "        elif t_type == \"occ\":\n",
    "            # occultation data\n",
    "            result.append(T0 + anomalistic_period(P, dwdE)/2 + E[i]*P + ((e*anomalistic_period(P, dwdE))/np.pi)*np.cos(pericenter(w0, dwdE, E[i])))\n",
    "    return np.array(result)"
   ]
  },
  {
   "cell_type": "code",
   "execution_count": 76,
   "metadata": {},
   "outputs": [],
   "source": [
    "synthetic_base_url = 'https://raw.githubusercontent.com/BoiseStatePlanetary/susie/main/example_data/wasp12b_tra_occ.csv'\n",
    "synthetic_base_data = pd.read_csv(url)\n",
    "synthetic_base_tra_or_occs = np.array(data[\"tra_or_occ\"])\n",
    "synthetic_base_epochs = np.array(data[\"epoch\"].astype('int'))\n",
    "synthetic_data_1 = generate_synthetic_precession_data(synthetic_base_epochs, 0.0, 1.1, 0.04, 0.000984, 2.62, synthetic_base_tra_or_occs)\n",
    "synthetic_base_avg_err = np.average(data[\"sigma_transit_time\"])\n",
    "synethic_base_std_err = np.std(data[\"sigma_transit_time\"])\n",
    "synthetic_noise_1 = abs(np.random.normal(synthetic_base_avg_err, synethic_base_std_err, len(data[\"epoch\"])))"
   ]
  },
  {
   "cell_type": "code",
   "execution_count": 77,
   "metadata": {},
   "outputs": [],
   "source": [
    "timing_obj2 = TimingData(\"jd\", synthetic_base_epochs, synthetic_data_1, synthetic_noise_1, synthetic_base_tra_or_occs, \"tdb\")\n",
    "ephemeris_obj2 = Ephemeris(timing_obj2)"
   ]
  },
  {
   "cell_type": "code",
   "execution_count": 78,
   "metadata": {},
   "outputs": [],
   "source": [
    "precession_model_2 = ephemeris_obj2.get_model_ephemeris(\"precession\")"
   ]
  },
  {
   "cell_type": "code",
   "execution_count": 79,
   "metadata": {},
   "outputs": [],
   "source": [
    "subtracted_model_times = ephemeris_obj2._subtract_plotting_parameters(precession_model_2[\"model_data\"], precession_model_2[\"conjunction_time\"], precession_model_2[\"period\"], ephemeris_obj2.timing_data.epochs)"
   ]
  },
  {
   "cell_type": "code",
   "execution_count": 80,
   "metadata": {},
   "outputs": [
    {
     "data": {
      "text/plain": [
       "<matplotlib.collections.PathCollection at 0x303fe3d70>"
      ]
     },
     "execution_count": 80,
     "metadata": {},
     "output_type": "execute_result"
    },
    {
     "data": {
      "image/png": "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",
      "text/plain": [
       "<Figure size 640x480 with 1 Axes>"
      ]
     },
     "metadata": {},
     "output_type": "display_data"
    }
   ],
   "source": [
    "plt.scatter(ephemeris_obj2.timing_data.epochs, subtracted_model_times)"
   ]
  },
  {
   "cell_type": "code",
>>>>>>> 090a8ab7ba8185c0f39e3524b4f2cb5a2c12f442
   "execution_count": null,
   "metadata": {},
   "outputs": [],
   "source": []
  }
 ],
 "metadata": {
  "kernelspec": {
   "display_name": "notebook_env",
   "language": "python",
   "name": "python3"
  },
  "language_info": {
   "codemirror_mode": {
    "name": "ipython",
    "version": 3
   },
   "file_extension": ".py",
   "mimetype": "text/x-python",
   "name": "python",
   "nbconvert_exporter": "python",
   "pygments_lexer": "ipython3",
   "version": "3.9.6"
  }
 },
 "nbformat": 4,
 "nbformat_minor": 2
}
