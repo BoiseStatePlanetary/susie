{
 "cells": [
  {
   "cell_type": "markdown",
   "metadata": {},
   "source": [
    "Import Libraries and Packages"
   ]
  },
  {
   "cell_type": "code",
   "execution_count": 1,
   "metadata": {},
   "outputs": [
    {
     "ename": "ModuleNotFoundError",
     "evalue": "No module named 'astroquery'",
     "output_type": "error",
     "traceback": [
      "\u001b[0;31m---------------------------------------------------------------------------\u001b[0m",
      "\u001b[0;31mModuleNotFoundError\u001b[0m                       Traceback (most recent call last)",
      "Cell \u001b[0;32mIn[1], line 5\u001b[0m\n\u001b[1;32m      3\u001b[0m \u001b[38;5;66;03m# Importing from src imports directly from source code\u001b[39;00m\n\u001b[1;32m      4\u001b[0m \u001b[38;5;28;01mfrom\u001b[39;00m \u001b[38;5;21;01msrc\u001b[39;00m\u001b[38;5;21;01m.\u001b[39;00m\u001b[38;5;21;01msusie\u001b[39;00m\u001b[38;5;21;01m.\u001b[39;00m\u001b[38;5;21;01mtiming_data\u001b[39;00m \u001b[38;5;28;01mimport\u001b[39;00m TimingData\n\u001b[0;32m----> 5\u001b[0m \u001b[38;5;28;01mfrom\u001b[39;00m \u001b[38;5;21;01msrc\u001b[39;00m\u001b[38;5;21;01m.\u001b[39;00m\u001b[38;5;21;01msusie\u001b[39;00m\u001b[38;5;21;01m.\u001b[39;00m\u001b[38;5;21;01mephemeris\u001b[39;00m \u001b[38;5;28;01mimport\u001b[39;00m Ephemeris\n\u001b[1;32m      7\u001b[0m \u001b[38;5;28;01mimport\u001b[39;00m \u001b[38;5;21;01mmatplotlib\u001b[39;00m\u001b[38;5;21;01m.\u001b[39;00m\u001b[38;5;21;01mpyplot\u001b[39;00m \u001b[38;5;28;01mas\u001b[39;00m \u001b[38;5;21;01mplt\u001b[39;00m\n",
      "File \u001b[0;32m~/Desktop/susie/src/susie/ephemeris.py:12\u001b[0m\n\u001b[1;32m     10\u001b[0m \u001b[38;5;28;01mfrom\u001b[39;00m \u001b[38;5;21;01mastropy\u001b[39;00m\u001b[38;5;21;01m.\u001b[39;00m\u001b[38;5;21;01mconstants\u001b[39;00m \u001b[38;5;28;01mimport\u001b[39;00m R_earth, R_sun, au\n\u001b[1;32m     11\u001b[0m \u001b[38;5;28;01mfrom\u001b[39;00m \u001b[38;5;21;01mastroplan\u001b[39;00m \u001b[38;5;28;01mimport\u001b[39;00m FixedTarget, Observer, EclipsingSystem\n\u001b[0;32m---> 12\u001b[0m \u001b[38;5;28;01mfrom\u001b[39;00m \u001b[38;5;21;01mastroquery\u001b[39;00m\u001b[38;5;21;01m.\u001b[39;00m\u001b[38;5;21;01mipac\u001b[39;00m\u001b[38;5;21;01m.\u001b[39;00m\u001b[38;5;21;01mnexsci\u001b[39;00m\u001b[38;5;21;01m.\u001b[39;00m\u001b[38;5;21;01mnasa_exoplanet_archive\u001b[39;00m \u001b[38;5;28;01mimport\u001b[39;00m NasaExoplanetArchive\n\u001b[1;32m     13\u001b[0m \u001b[38;5;28;01mfrom\u001b[39;00m \u001b[38;5;21;01msusie\u001b[39;00m\u001b[38;5;21;01m.\u001b[39;00m\u001b[38;5;21;01mtiming_data\u001b[39;00m \u001b[38;5;28;01mimport\u001b[39;00m TimingData \u001b[38;5;66;03m# Use this for package pushes\u001b[39;00m\n\u001b[1;32m     14\u001b[0m \u001b[38;5;66;03m# from .timing_data import TimingData # Use this for running tests\u001b[39;00m\n\u001b[1;32m     15\u001b[0m \u001b[38;5;66;03m# from timing_data import TimingData # Use this for running this file\u001b[39;00m\n",
      "\u001b[0;31mModuleNotFoundError\u001b[0m: No module named 'astroquery'"
     ]
    }
   ],
   "source": [
    "import numpy as np\n",
    "import pandas as pd\n",
    "# Importing from src imports directly from source code\n",
    "from src.susie.timing_data import TimingData\n",
    "from src.susie.ephemeris import Ephemeris\n",
    "\n",
    "import matplotlib.pyplot as plt"
   ]
  },
  {
   "cell_type": "markdown",
   "metadata": {},
   "source": [
    "Importing the Data"
   ]
  },
  {
   "cell_type": "code",
<<<<<<< HEAD
   "execution_count": null,
=======
   "execution_count": 2,
>>>>>>> 00b79e7045d9426a668527bf9bd3879c419a7edd
   "metadata": {},
   "outputs": [],
   "source": [
    "url = 'https://raw.githubusercontent.com/BoiseStatePlanetary/susie/main/example_data/wasp12b_tra_occ.csv'\n",
    "\n",
    "# Read the CSV file directly from the URL\n",
    "data = pd.read_csv(url)\n",
    "tra_or_occs = np.array(data[\"tra_or_occ\"])\n",
    "epochs = np.array(data[\"epoch\"].astype('int'))\n",
    "mid_times = np.array(data[\"transit_time\"])\n",
    "mid_time_errs = np.array(data[\"sigma_transit_time\"])"
   ]
  },
  {
   "cell_type": "markdown",
   "metadata": {},
   "source": [
    "Creating the TimingData and Ephemeris objects"
   ]
  },
  {
   "cell_type": "code",
<<<<<<< HEAD
   "execution_count": null,
=======
   "execution_count": 3,
>>>>>>> 00b79e7045d9426a668527bf9bd3879c419a7edd
   "metadata": {},
   "outputs": [],
   "source": [
    "# Create new transit times object with above data\n",
    "timing_obj1 = TimingData('jd', epochs, mid_times, mid_time_uncertainties=mid_time_errs, tra_or_occ=tra_or_occs, time_scale='tdb')\n",
    "ephemeris_obj1 = Ephemeris(timing_obj1)"
   ]
  },
  {
   "cell_type": "markdown",
   "metadata": {},
   "source": [
    "#### Linear Model"
   ]
  },
  {
   "cell_type": "code",
<<<<<<< HEAD
   "execution_count": null,
=======
   "execution_count": 11,
>>>>>>> 00b79e7045d9426a668527bf9bd3879c419a7edd
   "metadata": {},
   "outputs": [],
   "source": [
    "# Getting a linear model will solve for period and conjuction time (and their respective errors)\n",
    "linear_model_data = ephemeris_obj1.get_model_ephemeris('linear')\n",
    "\n",
    "# for key, value in linear_model_data.items():\n",
    "#     print(f\"{key}: {value}\\n\")"
   ]
  },
  {
   "cell_type": "markdown",
   "metadata": {},
   "source": [
    "#### Quadratic Model"
   ]
  },
  {
   "cell_type": "code",
<<<<<<< HEAD
   "execution_count": null,
=======
   "execution_count": 12,
>>>>>>> 00b79e7045d9426a668527bf9bd3879c419a7edd
   "metadata": {},
   "outputs": [],
   "source": [
    "# Getting a linear model will solve for period and conjuction time (and their respective errors)\n",
    "quadratic_model_data = ephemeris_obj1.get_model_ephemeris('quadratic')\n",
    "\n",
    "# for key, value in quadratic_model_data.items():\n",
    "#     print(f\"{key}: {value}\\n\")"
   ]
  },
  {
   "cell_type": "markdown",
   "metadata": {},
   "source": [
    "#### Precession Model"
   ]
  },
  {
   "cell_type": "code",
<<<<<<< HEAD
   "execution_count": null,
=======
   "execution_count": 13,
>>>>>>> 00b79e7045d9426a668527bf9bd3879c419a7edd
   "metadata": {},
   "outputs": [],
   "source": [
    "# Getting a linear model will solve for period and conjuction time (and their respective errors)\n",
    "precession_model_data = ephemeris_obj1.get_model_ephemeris('precession')\n",
    "\n",
    "# for key, value in precession_model_data.items():\n",
    "#     print(f\"{key}: {value}\\n\")"
   ]
  },
  {
   "cell_type": "code",
<<<<<<< HEAD
   "execution_count": null,
=======
   "execution_count": 14,
>>>>>>> 00b79e7045d9426a668527bf9bd3879c419a7edd
   "metadata": {},
   "outputs": [],
   "source": [
    "url = \"example_data/WASP12b_transit_ephemeris.csv\"\n",
    "\n",
    "# Read the CSV file directly from the URL\n",
    "data = pd.read_csv(url)\n",
    "epochs = np.array(data[\"epoch\"].astype('int'))\n",
    "mid_times = np.array(data[\"#transit_time\"])\n",
    "mid_time_errs = np.array(data[\"sigma_transit_time\"])"
   ]
  },
  {
   "cell_type": "code",
<<<<<<< HEAD
   "execution_count": null,
=======
   "execution_count": 15,
>>>>>>> 00b79e7045d9426a668527bf9bd3879c419a7edd
   "metadata": {},
   "outputs": [],
   "source": [
    "def anomalistic_period(P, dwdE):\n",
    "    \"\"\"Calculates the anomalistic period given a period and a change in pericenter with respect to epoch.\n",
    "\n",
    "    Uses the equation:\n",
    "    P / (1 - (1/(2*pi)) * dwdE)\n",
    "\n",
    "    Parameters\n",
    "    ----------\n",
    "    P: float\n",
    "        The exoplanet sideral orbital period.\n",
    "    dwdE: float\n",
    "        Change in pericenter with respect to epoch.\n",
    "\n",
    "    Returns\n",
    "    -------\n",
    "        A float of the calculated starting anomalistic period.\n",
    "    \"\"\"\n",
    "    result = P/(1 - (1/(2*np.pi))*dwdE)\n",
    "    return result\n",
    "    \n",
    "def pericenter(w0, dwdE, E):\n",
    "    \"\"\"Calculates the pericenter given a list of epochs, an intial pericenter value, and a change in pericenter with respect to epoch.\n",
    "\n",
    "    Uses the equation:\n",
    "    w0 + dwdE * E\n",
    "\n",
    "    Parameters\n",
    "    ----------\n",
    "    E: numpy.ndarray[int]\n",
    "        The epochs.\n",
    "    dwdE: float\n",
    "        Change in pericenter with respect to epoch.\n",
    "    w0: int\n",
    "        The intial pericenter.\n",
    "\n",
    "    Returns\n",
    "    -------\n",
    "        A numpy.ndarray[float] of the calculated pericenter as a function of epochs.\n",
    "    \"\"\"\n",
    "    result = w0 + dwdE*E\n",
    "    return result\n",
    "\n",
    "def precession_fit(E, T0, P, dwdE, w0, e, tra_or_occ):\n",
    "    \"\"\"Calculates a precession function with given data.\n",
    "\n",
    "    Uses the equation \n",
    "        -  conjunction time + (epochs * period) - ((eccentricity * anomalistic period) / pi) * cos(pericenter) for transit observations\n",
    "        -  conjunction time + (anomalistic period / 2) + epochs * period + ((eccentricity * anomalistic period) / pi) * cos(pericenter) for occultation observations as a precession function for the LMfit Model.\n",
    "    \n",
    "    Parameters\n",
    "    ----------\n",
    "        e: float\n",
    "            The eccentricity.\n",
    "        E: numpy.ndarray[int]\n",
    "            The epochs.\n",
    "        dwdE: float\n",
    "            Change in pericenter with respect to epoch.\n",
    "        P: float\n",
    "            The exoplanet sideral orbital period.\n",
    "        T0: float\n",
    "            The initial mid-time, also known as conjunction time.\n",
    "        tra_or_occ: numpy.ndarray[str]\n",
    "            Indicates if the data is from a transit or occultation.\n",
    "        w0: int\n",
    "            The intial pericenter.\n",
    "    \n",
    "    Returns\n",
    "    -------\n",
    "        result: numpy.ndarray[float]\n",
    "            A precession function to be used with the LMfit Model, returned as:\n",
    "            :math:`T0 + E*P - \\\\frac{e * \\\\text{self.anomalistic_period}(P,dwdE)}{\\\\pi} * \\\\cos(\\\\text{self.pericenter}(w0, dwdE, E))`\n",
    "            :math:`T0 + \\\\frac{\\\\text{self.anomalistic_period}(P,dwdE)}{2} + E*P + \\\\frac{e * \\\\text{self.anomalistic_period}(P,dwdE)}{\\\\pi} * \\\\cos(\\\\text{self.pericenter}(w0, dwdE, E))`\n",
    "    \"\"\"\n",
    "    # anomalistic_period = anomalistic_period(P, dwdE)\n",
    "    # pericenter = pericenter(w0, dwdE, E)\n",
    "    result = np.zeros(len(E))\n",
    "    for i, t_type in enumerate(tra_or_occ):\n",
    "        if t_type == 0:\n",
    "            # transit data\n",
    "            result[i] = T0 + E[i]*P - ((e*anomalistic_period(P, dwdE))/np.pi)*np.cos(pericenter(w0, dwdE, E[i]))\n",
    "        elif t_type == 1:\n",
    "            # occultation data\n",
    "            result[i] = T0 + anomalistic_period(P, dwdE)/2 + E[i]*P + ((e*anomalistic_period(P, dwdE))/np.pi)*np.cos(pericenter(w0, dwdE, E[i]))\n",
    "    return result"
   ]
  },
  {
   "cell_type": "code",
<<<<<<< HEAD
   "execution_count": null,
=======
   "execution_count": 16,
>>>>>>> 00b79e7045d9426a668527bf9bd3879c419a7edd
   "metadata": {},
   "outputs": [],
   "source": [
    "tra_or_occ_enum = np.zeros(len(epochs))\n",
    "prec_transit_times = precession_fit(epochs, 0.0, 1.091423, 0.000984, 2.62, 0.00310, tra_or_occ=tra_or_occ_enum)"
   ]
  },
  {
   "cell_type": "code",
<<<<<<< HEAD
   "execution_count": null,
=======
   "execution_count": 19,
>>>>>>> 00b79e7045d9426a668527bf9bd3879c419a7edd
   "metadata": {},
   "outputs": [
    {
     "data": {
      "text/plain": [
       "<matplotlib.collections.PathCollection at 0x301442780>"
      ]
     },
     "execution_count": 19,
     "metadata": {},
     "output_type": "execute_result"
    },
    {
     "data": {
      "image/png": "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",
      "text/plain": [
       "<Figure size 640x480 with 1 Axes>"
      ]
     },
     "metadata": {},
     "output_type": "display_data"
    }
   ],
   "source": [
    "plt.scatter(ephemeris_obj1.timing_data.epochs, (precession_model_data[\"model_data\"] - precession_model_data[\"conjunction_time\"] - precession_model_data[\"period\"] * ephemeris_obj1.timing_data.epochs))"
   ]
  },
  {
   "cell_type": "code",
   "execution_count": 18,
   "metadata": {},
   "outputs": [
    {
     "data": {
      "text/plain": [
       "<matplotlib.collections.PathCollection at 0x3035dbb00>"
      ]
     },
     "execution_count": 18,
     "metadata": {},
     "output_type": "execute_result"
    },
    {
     "data": {
      "image/png": "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",
      "text/plain": [
       "<Figure size 640x480 with 1 Axes>"
      ]
     },
     "metadata": {},
     "output_type": "display_data"
    }
   ],
   "source": [
    "plt.scatter(epochs, (prec_transit_times - 0 - 1.091423 * epochs))"
   ]
  },
  {
   "cell_type": "code",
   "execution_count": 29,
   "metadata": {},
   "outputs": [],
   "source": [
    "def generate_synthetic_precession_data(E, T0, P, e, dwdE, w0, tra_or_occ):\n",
    "    result = np.zeros(len(E))\n",
    "    for i, t_type in enumerate(tra_or_occ):\n",
    "        if t_type == \"tra\":\n",
    "            # transit data\n",
    "            result[i] = T0 + E[i]*P - ((e*anomalistic_period(P, dwdE))/np.pi)*np.cos(pericenter(w0, dwdE, E[i]))\n",
    "        elif t_type == \"occ\":\n",
    "            # occultation data\n",
    "            result[i] = T0 + anomalistic_period(P, dwdE)/2 + E[i]*P + ((e*anomalistic_period(P, dwdE))/np.pi)*np.cos(pericenter(w0, dwdE, E[i]))\n",
    "    return result "
   ]
  },
  {
   "cell_type": "code",
   "execution_count": 52,
   "metadata": {},
   "outputs": [],
   "source": [
    "synthetic_base_url = 'https://raw.githubusercontent.com/BoiseStatePlanetary/susie/main/example_data/wasp12b_tra_occ.csv'\n",
    "synthetic_base_data = pd.read_csv(url)\n",
    "synthetic_base_tra_or_occs = np.array(data[\"tra_or_occ\"])\n",
    "synthetic_base_epochs = np.array(data[\"epoch\"].astype('int'))\n",
    "synthetic_data_1 = generate_synthetic_precession_data(synthetic_base_epochs, 0.0, 1.1, 0.04, 0.000984, 2.62, synthetic_base_tra_or_occs)\n",
    "synthetic_base_avg_err = np.average(data[\"sigma_transit_time\"])\n",
    "synethic_base_std_err = np.std(data[\"sigma_transit_time\"])\n",
    "synthetic_noise_1 = abs(np.random.normal(synthetic_base_avg_err, synethic_base_std_err, len(data[\"epoch\"])))"
   ]
  },
  {
   "cell_type": "code",
   "execution_count": 55,
   "metadata": {},
   "outputs": [],
   "source": [
    "timing_obj2 = TimingData(\"jd\", synthetic_base_epochs, synthetic_data_1, synthetic_noise_1, synthetic_base_tra_or_occs, \"tdb\")\n",
    "ephemeris_obj2 = Ephemeris(timing_obj2)"
   ]
  },
  {
   "cell_type": "code",
   "execution_count": 58,
   "metadata": {},
   "outputs": [],
   "source": [
    "precession_model_2 = ephemeris_obj2.get_model_ephemeris(\"precession\")"
   ]
  },
  {
   "cell_type": "code",
   "execution_count": 62,
   "metadata": {},
   "outputs": [],
   "source": [
    "subtracted_model_times = ephemeris_obj2._subtract_plotting_parameters(precession_model_2[\"model_data\"], precession_model_2[\"conjunction_time\"], precession_model_2[\"period\"], ephemeris_obj2.timing_data.epochs)"
   ]
  },
  {
   "cell_type": "code",
   "execution_count": 63,
   "metadata": {},
   "outputs": [
    {
     "data": {
      "text/plain": [
       "<matplotlib.collections.PathCollection at 0x303fc3d70>"
      ]
     },
     "execution_count": 63,
     "metadata": {},
     "output_type": "execute_result"
    },
    {
     "data": {
      "image/png": "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",
      "text/plain": [
       "<Figure size 640x480 with 1 Axes>"
      ]
     },
     "metadata": {},
     "output_type": "display_data"
    }
   ],
   "source": [
    "plt.scatter(ephemeris_obj2.timing_data.epochs, subtracted_model_times)"
   ]
  },
  {
   "cell_type": "code",
   "execution_count": null,
   "metadata": {},
   "outputs": [],
   "source": []
  }
 ],
 "metadata": {
  "kernelspec": {
   "display_name": "notebook_env",
   "language": "python",
   "name": "python3"
  },
  "language_info": {
   "codemirror_mode": {
    "name": "ipython",
    "version": 3
   },
   "file_extension": ".py",
   "mimetype": "text/x-python",
   "name": "python",
   "nbconvert_exporter": "python",
   "pygments_lexer": "ipython3",
   "version": "3.12.3"
  }
 },
 "nbformat": 4,
 "nbformat_minor": 2
}
