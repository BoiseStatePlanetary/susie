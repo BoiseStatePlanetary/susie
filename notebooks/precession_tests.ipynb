{
 "cells": [
  {
   "cell_type": "markdown",
   "metadata": {},
   "source": [
    "Import Libraries and Packages"
   ]
  },
  {
   "cell_type": "code",
   "execution_count": 1,
   "metadata": {},
   "outputs": [
    {
     "ename": "ModuleNotFoundError",
     "evalue": "No module named 'astroquery'",
     "output_type": "error",
     "traceback": [
      "\u001b[0;31m---------------------------------------------------------------------------\u001b[0m",
      "\u001b[0;31mModuleNotFoundError\u001b[0m                       Traceback (most recent call last)",
      "Cell \u001b[0;32mIn[1], line 8\u001b[0m\n\u001b[1;32m      5\u001b[0m \u001b[38;5;28;01mimport\u001b[39;00m \u001b[38;5;21;01mmatplotlib\u001b[39;00m\u001b[38;5;21;01m.\u001b[39;00m\u001b[38;5;21;01mpyplot\u001b[39;00m \u001b[38;5;28;01mas\u001b[39;00m \u001b[38;5;21;01mplt\u001b[39;00m\n\u001b[1;32m      7\u001b[0m \u001b[38;5;28;01mfrom\u001b[39;00m \u001b[38;5;21;01msrc\u001b[39;00m\u001b[38;5;21;01m.\u001b[39;00m\u001b[38;5;21;01msusie\u001b[39;00m\u001b[38;5;21;01m.\u001b[39;00m\u001b[38;5;21;01mtiming_data\u001b[39;00m \u001b[38;5;28;01mimport\u001b[39;00m TimingData\n\u001b[0;32m----> 8\u001b[0m \u001b[38;5;28;01mfrom\u001b[39;00m \u001b[38;5;21;01msrc\u001b[39;00m\u001b[38;5;21;01m.\u001b[39;00m\u001b[38;5;21;01msusie\u001b[39;00m\u001b[38;5;21;01m.\u001b[39;00m\u001b[38;5;21;01mephemeris\u001b[39;00m \u001b[38;5;28;01mimport\u001b[39;00m Ephemeris\n\u001b[1;32m      9\u001b[0m \u001b[38;5;28;01mfrom\u001b[39;00m \u001b[38;5;21;01mscipy\u001b[39;00m\u001b[38;5;21;01m.\u001b[39;00m\u001b[38;5;21;01moptimize\u001b[39;00m \u001b[38;5;28;01mimport\u001b[39;00m curve_fit\n\u001b[1;32m     10\u001b[0m \u001b[38;5;28;01mfrom\u001b[39;00m \u001b[38;5;21;01mastropy\u001b[39;00m \u001b[38;5;28;01mimport\u001b[39;00m time\n",
      "File \u001b[0;32m~/Desktop/susie/src/susie/ephemeris.py:12\u001b[0m\n\u001b[1;32m     10\u001b[0m \u001b[38;5;28;01mfrom\u001b[39;00m \u001b[38;5;21;01mastropy\u001b[39;00m\u001b[38;5;21;01m.\u001b[39;00m\u001b[38;5;21;01mconstants\u001b[39;00m \u001b[38;5;28;01mimport\u001b[39;00m R_earth, R_sun, au\n\u001b[1;32m     11\u001b[0m \u001b[38;5;28;01mfrom\u001b[39;00m \u001b[38;5;21;01mastroplan\u001b[39;00m \u001b[38;5;28;01mimport\u001b[39;00m FixedTarget, Observer, EclipsingSystem\n\u001b[0;32m---> 12\u001b[0m \u001b[38;5;28;01mfrom\u001b[39;00m \u001b[38;5;21;01mastroquery\u001b[39;00m\u001b[38;5;21;01m.\u001b[39;00m\u001b[38;5;21;01mipac\u001b[39;00m\u001b[38;5;21;01m.\u001b[39;00m\u001b[38;5;21;01mnexsci\u001b[39;00m\u001b[38;5;21;01m.\u001b[39;00m\u001b[38;5;21;01mnasa_exoplanet_archive\u001b[39;00m \u001b[38;5;28;01mimport\u001b[39;00m NasaExoplanetArchive\n\u001b[1;32m     13\u001b[0m \u001b[38;5;28;01mfrom\u001b[39;00m \u001b[38;5;21;01msusie\u001b[39;00m\u001b[38;5;21;01m.\u001b[39;00m\u001b[38;5;21;01mtiming_data\u001b[39;00m \u001b[38;5;28;01mimport\u001b[39;00m TimingData \u001b[38;5;66;03m# Use this for package pushes\u001b[39;00m\n\u001b[1;32m     14\u001b[0m \u001b[38;5;66;03m# from .timing_data import TimingData # Use this for running tests\u001b[39;00m\n\u001b[1;32m     15\u001b[0m \u001b[38;5;66;03m# from timing_data import TimingData # Use this for running this file\u001b[39;00m\n",
      "\u001b[0;31mModuleNotFoundError\u001b[0m: No module named 'astroquery'"
     ]
    }
   ],
   "source": [
    "import sys\n",
    "sys.path.append(\".\")\n",
    "import unittest\n",
    "import numpy as np\n",
    "import matplotlib.pyplot as plt\n",
    "\n",
    "from src.susie.timing_data import TimingData\n",
    "from src.susie.ephemeris import Ephemeris\n",
    "from scipy.optimize import curve_fit\n",
    "from astropy import time\n",
    "from astropy import coordinates as coord\n",
    "from astropy import units as u"
   ]
  },
  {
   "cell_type": "markdown",
   "metadata": {},
   "source": [
    "Importing the Data"
   ]
  },
  {
   "cell_type": "code",
   "execution_count": null,
   "metadata": {},
   "outputs": [],
   "source": [
    "test_epochs_precession = np.array([ -1640, -1346,  -1342, -1067, -1061, -1046,  -1038])\n",
    "test_mtts_precession = np.array([2454515.525,2454836.403,2454840.769,2455140.91, 2455147.459, 2455163.831,2455172.561])\n",
    "test_mtts_err_precession = np.array([0.00043, 0.00028, 0.00062, 0.00042, 0.00043, 0.00032, 0.00036])\n",
    "test_tra_or_occ_precession = np.array(['tra','occ','occ','tra', 'tra', 'tra', 'tra'])"
   ]
  },
  {
   "cell_type": "markdown",
   "metadata": {},
   "source": [
    "Creating the TimingData and Ephemeris objects"
   ]
  },
  {
   "cell_type": "code",
   "execution_count": null,
   "metadata": {},
   "outputs": [],
   "source": [
    "# Create new transit times object with above data\n",
    "timing_obj1 = TimingData('jd', test_epochs_precession, test_mtts_err_precession, mid_time_uncertainties=test_mtts_err_precession, tra_or_occ=test_tra_or_occ_precession, time_scale='tdb')\n",
    "ephemeris_obj1 = Ephemeris(timing_obj1)"
   ]
  },
  {
   "cell_type": "markdown",
   "metadata": {},
   "source": [
    "Linear Model"
   ]
  },
  {
   "cell_type": "code",
   "execution_count": null,
   "metadata": {},
   "outputs": [
    {
     "name": "stdout",
     "output_type": "stream",
     "text": [
      "period: -3.668678964975163e-08\n",
      "\n",
      "period_err: 1.844452095001672e-07\n",
      "\n",
      "conjunction_time: 0.00038323870163063943\n",
      "\n",
      "conjunction_time_err: 8.81049593290902e-05\n",
      "\n",
      "model_type: linear\n",
      "\n",
      "model_data: [0.00038324 0.00037243 0.00037229 0.00036222 0.000362   0.00036145\n",
      " 0.00036115]\n",
      "\n"
     ]
    }
   ],
   "source": [
    "# Getting a linear model will solve for period and conjuction time (and their respective errors)\n",
    "linear_model_data = ephemeris_obj1.get_model_ephemeris('linear')\n",
    "\n",
    "for key, value in linear_model_data.items():\n",
    "    print(f\"{key}: {value}\\n\")"
   ]
  },
  {
   "cell_type": "markdown",
   "metadata": {},
   "source": [
    "Quadratic Model"
   ]
  },
  {
   "cell_type": "code",
   "execution_count": null,
   "metadata": {},
   "outputs": [
    {
     "name": "stdout",
     "output_type": "stream",
     "text": [
      "period: -4.634905019914829e-07\n",
      "\n",
      "period_err: 7.828665116255608e-07\n",
      "\n",
      "conjunction_time: 0.00042539394983421474\n",
      "\n",
      "conjunction_time_err: 0.00012076361402648409\n",
      "\n",
      "period_change_by_epoch: 1.2509678649564702e-09\n",
      "\n",
      "period_change_by_epoch_err: 2.21961880883636e-09\n",
      "\n",
      "model_type: quadratic\n",
      "\n",
      "model_data: [0.00042539 0.00034296 0.00034259 0.00036518 0.00036672 0.00037077\n",
      " 0.00037305]\n",
      "\n"
     ]
    }
   ],
   "source": [
    "# Getting a linear model will solve for period and conjuction time (and their respective errors)\n",
    "quadratic_model_data = ephemeris_obj1.get_model_ephemeris('quadratic')\n",
    "\n",
    "for key, value in quadratic_model_data.items():\n",
    "    print(f\"{key}: {value}\\n\")"
   ]
  },
  {
   "cell_type": "markdown",
   "metadata": {},
   "source": [
    "Precession Model"
   ]
  },
  {
   "cell_type": "code",
   "execution_count": null,
   "metadata": {},
   "outputs": [
    {
     "name": "stdout",
     "output_type": "stream",
     "text": [
      "period: -4.1790876785831535e-08\n",
      "\n",
      "period_err: 5.314079594892487e-07\n",
      "\n",
      "conjunction_time: 0.0003855570895877751\n",
      "\n",
      "conjunction_time_err: 0.00021852965890797033\n",
      "\n",
      "eccentricity: 0.9789375209244587\n",
      "\n",
      "eccentricity_err: 623.0296729710553\n",
      "\n",
      "pericenter: -8018.2712353507195\n",
      "\n",
      "pericenter_err: 2349.3225316490507\n",
      "\n",
      "pericenter_change_by_epoch: 5.687365414147889\n",
      "\n",
      "pericenter_change_by_epoch_err: 5.678868219567694\n",
      "\n",
      "model_type: precession\n",
      "\n",
      "model_data: [0 0 0 0 0 0 0]\n",
      "\n"
     ]
    }
   ],
   "source": [
    "# Getting a linear model will solve for period and conjuction time (and their respective errors)\n",
    "precession_model_data = ephemeris_obj1.get_model_ephemeris('precession')\n",
    "\n",
    "for key, value in precession_model_data.items():\n",
    "    print(f\"{key}: {value}\\n\")"
   ]
  },
  {
   "cell_type": "code",
   "execution_count": null,
   "metadata": {},
   "outputs": [],
   "source": [
    "def anomalistic_period(P, dwdE):\n",
    "    \"\"\"Calculates the anomalistic period given a period and a change in pericenter with respect to epoch.\n",
    "\n",
    "    Uses the equation:\n",
    "    P / (1 - (1/(2*pi)) * dwdE)\n",
    "\n",
    "    Parameters\n",
    "    ----------\n",
    "    P: float\n",
    "        The exoplanet sideral orbital period.\n",
    "    dwdE: float\n",
    "        Change in pericenter with respect to epoch.\n",
    "\n",
    "    Returns\n",
    "    -------\n",
    "        A float of the calculated starting anomalistic period.\n",
    "    \"\"\"\n",
    "    result = P/(1 - (1/(2*np.pi))*dwdE)\n",
    "    return result\n",
    "    \n",
    "def pericenter(w0, dwdE, E):\n",
    "    \"\"\"Calculates the pericenter given a list of epochs, an intial pericenter value, and a change in pericenter with respect to epoch.\n",
    "\n",
    "    Uses the equation:\n",
    "    w0 + dwdE * E\n",
    "\n",
    "    Parameters\n",
    "    ----------\n",
    "    E: numpy.ndarray[int]\n",
    "        The epochs.\n",
    "    dwdE: float\n",
    "        Change in pericenter with respect to epoch.\n",
    "    w0: int\n",
    "        The intial pericenter.\n",
    "\n",
    "    Returns\n",
    "    -------\n",
    "        A numpy.ndarray[float] of the calculated pericenter as a function of epochs.\n",
    "    \"\"\"\n",
    "    result = w0 + dwdE*E\n",
    "    return result\n",
    "\n",
    "def precession_fit(E, T0, P, dwdE, w0, e, tra_or_occ):\n",
    "    \"\"\"Calculates a precession function with given data.\n",
    "\n",
    "    Uses the equation \n",
    "        -  conjunction time + (epochs * period) - ((eccentricity * anomalistic period) / pi) * cos(pericenter) for transit observations\n",
    "        -  conjunction time + (anomalistic period / 2) + epochs * period + ((eccentricity * anomalistic period) / pi) * cos(pericenter) for occultation observations as a precession function for the LMfit Model.\n",
    "    \n",
    "    Parameters\n",
    "    ----------\n",
    "        e: float\n",
    "            The eccentricity.\n",
    "        E: numpy.ndarray[int]\n",
    "            The epochs.\n",
    "        dwdE: float\n",
    "            Change in pericenter with respect to epoch.\n",
    "        P: float\n",
    "            The exoplanet sideral orbital period.\n",
    "        T0: float\n",
    "            The initial mid-time, also known as conjunction time.\n",
    "        tra_or_occ: numpy.ndarray[str]\n",
    "            Indicates if the data is from a transit or occultation.\n",
    "        w0: int\n",
    "            The intial pericenter.\n",
    "    \n",
    "    Returns\n",
    "    -------\n",
    "        result: numpy.ndarray[float]\n",
    "            A precession function to be used with the LMfit Model, returned as:\n",
    "            :math:`T0 + E*P - \\\\frac{e * \\\\text{self.anomalistic_period}(P,dwdE)}{\\\\pi} * \\\\cos(\\\\text{self.pericenter}(w0, dwdE, E))`\n",
    "            :math:`T0 + \\\\frac{\\\\text{self.anomalistic_period}(P,dwdE)}{2} + E*P + \\\\frac{e * \\\\text{self.anomalistic_period}(P,dwdE)}{\\\\pi} * \\\\cos(\\\\text{self.pericenter}(w0, dwdE, E))`\n",
    "    \"\"\"\n",
    "    # anomalistic_period = anomalistic_period(P, dwdE)\n",
    "    # pericenter = pericenter(w0, dwdE, E)\n",
    "    result = np.zeros(len(E))\n",
    "    for i, t_type in enumerate(tra_or_occ):\n",
    "        if t_type == 0:\n",
    "            # transit data\n",
    "            result[i] = T0 + E[i]*P - ((e*anomalistic_period(P, dwdE))/np.pi)*np.cos(pericenter(w0, dwdE, E[i]))\n",
    "        elif t_type == 1:\n",
    "            # occultation data\n",
    "            result[i] = T0 + anomalistic_period(P, dwdE)/2 + E[i]*P + ((e*anomalistic_period(P, dwdE))/np.pi)*np.cos(pericenter(w0, dwdE, E[i]))\n",
    "    return result"
   ]
  },
  {
   "cell_type": "code",
   "execution_count": null,
   "metadata": {},
   "outputs": [],
   "source": [
    "tra_or_occ_enum = np.zeros(len(test_epochs_precession))\n",
    "prec_transit_times = precession_fit(test_epochs_precession, 0.0003855570895877751,  -4.1790876785831535e-08,  5.687365414147889 ,-8018.2712353507195 ,  0.9789375209244587, tra_or_occ=test_tra_or_occ_precession)"
   ]
  },
  {
   "cell_type": "code",
   "execution_count": null,
   "metadata": {},
   "outputs": [
    {
     "data": {
      "text/plain": [
       "<matplotlib.collections.PathCollection at 0x1661bad60>"
      ]
     },
     "execution_count": 9,
     "metadata": {},
     "output_type": "execute_result"
    },
    {
     "data": {
      "image/png": "[encoded data removed]",
      "text/plain": [
       "<Figure size 640x480 with 1 Axes>"
      ]
     },
     "metadata": {},
     "output_type": "display_data"
    }
   ],
   "source": [
    "plt.scatter(test_epochs_precession, (prec_transit_times -  0.0003855570895877751 -  -4.1790876785831535e-08* test_epochs_precession))"
   ]
  },
  {
   "cell_type": "code",
   "execution_count": null,
   "metadata": {},
   "outputs": [],
   "source": []
  }
 ],
 "metadata": {
  "kernelspec": {
   "display_name": "notebook_env",
   "language": "python",
   "name": "python3"
  },
  "language_info": {
   "codemirror_mode": {
    "name": "ipython",
    "version": 3
   },
   "file_extension": ".py",
   "mimetype": "text/x-python",
   "name": "python",
   "nbconvert_exporter": "python",
   "pygments_lexer": "ipython3",
   "version": "3.9.6"
  }
 },
 "nbformat": 4,
 "nbformat_minor": 2
}
