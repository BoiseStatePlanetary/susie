{
 "cells": [
  {
   "cell_type": "code",
   "execution_count": 1,
   "metadata": {},
   "outputs": [],
   "source": [
    "from astropy.time import Time\n",
    "import astropy.units as u\n",
    "from astroplan import EclipsingSystem\n",
    "from astroplan import FixedTarget, Observer, EclipsingSystem\n",
    "from astroplan import (PrimaryEclipseConstraint, is_event_observable,\n",
    "                       AtNightConstraint, AltitudeConstraint, LocalTimeConstraint)\n",
    "import datetime as dt"
   ]
  },
  {
   "cell_type": "code",
   "execution_count": 2,
   "metadata": {},
   "outputs": [],
   "source": [
    "### No need to change for BoiseState\n",
    "boiseState = Observer(longitude=-116.208710*u.deg, latitude=43.602*u.deg,\n",
    "                  elevation=821*u.m, name=\"BoiseState\", timezone=\"US/Mountain\")\n",
    "\n",
    "#### Change value to mid transit time. Doesn't have to been super accurate\n",
    "primary_eclipse_time = Time(2458450.61, format='jd')\n",
    "\n",
    "### Change orbital period in days\n",
    "orbital_period = 1.769 * u.day\n",
    "\n",
    "### Change to duration in days\n",
    "eclipse_duration = 0.073667 * u.day\n",
    "\n",
    "### Change name to target\n",
    "transit = EclipsingSystem(primary_eclipse_time=primary_eclipse_time,\n",
    "                           orbital_period=orbital_period, duration=eclipse_duration,\n",
    "                           name='TOI182')\n",
    "target = FixedTarget.from_name('TOI182')\n",
    "\n",
    "### Change to sunset and sunrise\n",
    "obs_time = Time('2024-07-22 00:00')\n",
    "n_transits = 50\n",
    "min_local_time = dt.time(21, 0) \n",
    "max_local_time = dt.time(5, 0)  \n",
    "midtransit_times = transit.next_primary_eclipse_time(obs_time, n_eclipses=n_transits)\n",
    "constraints = [AltitudeConstraint(min=30*u.deg), LocalTimeConstraint(min=min_local_time, max=max_local_time)]\n",
    "midTimeObs = is_event_observable(constraints, boiseState, target, times=midtransit_times)"
   ]
  },
  {
   "cell_type": "code",
   "execution_count": 3,
   "metadata": {},
   "outputs": [
    {
     "name": "stdout",
     "output_type": "stream",
     "text": [
      "['2024-07-23 12:47:31.200' '2024-07-25 07:14:52.800'\n",
      " '2024-07-27 01:42:14.400' '2024-07-28 20:09:36.000'\n",
      " '2024-07-30 14:36:57.600' '2024-08-01 09:04:19.200'\n",
      " '2024-08-03 03:31:40.800' '2024-08-04 21:59:02.400'\n",
      " '2024-08-06 16:26:24.000' '2024-08-08 10:53:45.600'\n",
      " '2024-08-10 05:21:07.200' '2024-08-11 23:48:28.800'\n",
      " '2024-08-13 18:15:50.400' '2024-08-15 12:43:12.000'\n",
      " '2024-08-17 07:10:33.600' '2024-08-19 01:37:55.200'\n",
      " '2024-08-20 20:05:16.800' '2024-08-22 14:32:38.400'\n",
      " '2024-08-24 09:00:00.000' '2024-08-26 03:27:21.600'\n",
      " '2024-08-27 21:54:43.200' '2024-08-29 16:22:04.800'\n",
      " '2024-08-31 10:49:26.400' '2024-09-02 05:16:48.000'\n",
      " '2024-09-03 23:44:09.600' '2024-09-05 18:11:31.200'\n",
      " '2024-09-07 12:38:52.800' '2024-09-09 07:06:14.400'\n",
      " '2024-09-11 01:33:36.000' '2024-09-12 20:00:57.600'\n",
      " '2024-09-14 14:28:19.200' '2024-09-16 08:55:40.800'\n",
      " '2024-09-18 03:23:02.400' '2024-09-19 21:50:24.000'\n",
      " '2024-09-21 16:17:45.600' '2024-09-23 10:45:07.200'\n",
      " '2024-09-25 05:12:28.800' '2024-09-26 23:39:50.400'\n",
      " '2024-09-28 18:07:12.000' '2024-09-30 12:34:33.600'\n",
      " '2024-10-02 07:01:55.200' '2024-10-04 01:29:16.800'\n",
      " '2024-10-05 19:56:38.400' '2024-10-07 14:24:00.000'\n",
      " '2024-10-09 08:51:21.600' '2024-10-11 03:18:43.200'\n",
      " '2024-10-12 21:46:04.800' '2024-10-14 16:13:26.400'\n",
      " '2024-10-16 10:40:48.000' '2024-10-18 05:08:09.600']\n",
      "[[False False False False False False False False False False False False\n",
      "  False False False False False False False False False False False False\n",
      "  False False False False False False False False False False False False\n",
      "  False False False False False False False False False False False False\n",
      "  False False]]\n"
     ]
    }
   ],
   "source": [
    "ing_egr = transit.next_primary_ingress_egress_time(obs_time, n_eclipses=n_transits)\n",
    "ing_egr_bool = is_event_observable(constraints, boiseState, target, times_ingress_egress=ing_egr)\n",
    "print(midtransit_times)\n",
    "print(ing_egr_bool)"
   ]
  },
  {
   "cell_type": "code",
   "execution_count": 4,
   "metadata": {},
   "outputs": [],
   "source": [
    "filtered_ing_egr = [time for time, is_observable in zip(ing_egr, ing_egr_bool[0]) if is_observable]\n",
    "meep = 0\n",
    "for i in filtered_ing_egr:\n",
    "    ing = i[0].iso\n",
    "    egr = i[1].iso\n",
    "    print(f\"Eclipse {meep+1}: Ingress: {ing}, Egress: {egr}\")\n",
    "    meep += 1"
   ]
  },
  {
   "cell_type": "code",
   "execution_count": 5,
   "metadata": {},
   "outputs": [
    {
     "name": "stdout",
     "output_type": "stream",
     "text": [
      "Eclipse 1: Ingress: 2024-07-23 11:54:28.786, Egress: 2024-07-23 13:40:33.614\n",
      "Eclipse 2: Ingress: 2024-07-25 06:21:50.386, Egress: 2024-07-25 08:07:55.214\n",
      "Eclipse 3: Ingress: 2024-07-27 00:49:11.986, Egress: 2024-07-27 02:35:16.814\n",
      "Eclipse 4: Ingress: 2024-07-28 19:16:33.586, Egress: 2024-07-28 21:02:38.414\n",
      "Eclipse 5: Ingress: 2024-07-30 13:43:55.186, Egress: 2024-07-30 15:30:00.014\n",
      "Eclipse 6: Ingress: 2024-08-01 08:11:16.786, Egress: 2024-08-01 09:57:21.614\n",
      "Eclipse 7: Ingress: 2024-08-03 02:38:38.386, Egress: 2024-08-03 04:24:43.214\n",
      "Eclipse 8: Ingress: 2024-08-04 21:05:59.986, Egress: 2024-08-04 22:52:04.814\n",
      "Eclipse 9: Ingress: 2024-08-06 15:33:21.586, Egress: 2024-08-06 17:19:26.414\n",
      "Eclipse 10: Ingress: 2024-08-08 10:00:43.186, Egress: 2024-08-08 11:46:48.014\n",
      "Eclipse 11: Ingress: 2024-08-10 04:28:04.786, Egress: 2024-08-10 06:14:09.614\n",
      "Eclipse 12: Ingress: 2024-08-11 22:55:26.386, Egress: 2024-08-12 00:41:31.214\n",
      "Eclipse 13: Ingress: 2024-08-13 17:22:47.986, Egress: 2024-08-13 19:08:52.814\n",
      "Eclipse 14: Ingress: 2024-08-15 11:50:09.586, Egress: 2024-08-15 13:36:14.414\n",
      "Eclipse 15: Ingress: 2024-08-17 06:17:31.186, Egress: 2024-08-17 08:03:36.014\n",
      "Eclipse 16: Ingress: 2024-08-19 00:44:52.786, Egress: 2024-08-19 02:30:57.614\n",
      "Eclipse 17: Ingress: 2024-08-20 19:12:14.386, Egress: 2024-08-20 20:58:19.214\n",
      "Eclipse 18: Ingress: 2024-08-22 13:39:35.986, Egress: 2024-08-22 15:25:40.814\n",
      "Eclipse 19: Ingress: 2024-08-24 08:06:57.586, Egress: 2024-08-24 09:53:02.414\n",
      "Eclipse 20: Ingress: 2024-08-26 02:34:19.186, Egress: 2024-08-26 04:20:24.014\n"
     ]
    }
   ],
   "source": [
    "next_eclipses = transit.next_primary_ingress_egress_time(obs_time, n_eclipses=20)\n",
    "# Convert the ingress and egress times to ISO format\n",
    "ingress_times_iso = [Time(t[0], format='jd').iso for t in next_eclipses]\n",
    "egress_times_iso = [Time(t[1], format='jd').iso for t in next_eclipses]\n",
    "\n",
    "# Print the results\n",
    "for i, (ingress, egress) in enumerate(zip(ingress_times_iso, egress_times_iso)):\n",
    "    print(f\"Eclipse {i+1}: Ingress: {ingress}, Egress: {egress}\")"
   ]
  },
  {
   "cell_type": "code",
   "execution_count": null,
   "metadata": {},
   "outputs": [],
   "source": []
  }
 ],
 "metadata": {
  "kernelspec": {
   "display_name": ".venv",
   "language": "python",
   "name": "python3"
  },
  "language_info": {
   "codemirror_mode": {
    "name": "ipython",
    "version": 3
   },
   "file_extension": ".py",
   "mimetype": "text/x-python",
   "name": "python",
   "nbconvert_exporter": "python",
   "pygments_lexer": "ipython3",
   "version": "3.9.6"
  }
 },
 "nbformat": 4,
 "nbformat_minor": 2
}
