{
 "cells": [
  {
   "cell_type": "code",
   "execution_count": 6,
   "metadata": {},
   "outputs": [],
   "source": [
    "from astropy.time import Time\n",
    "import astropy.units as u\n",
    "from astroplan import EclipsingSystem\n",
    "from astroplan import FixedTarget, Observer, EclipsingSystem\n",
    "from astroplan import (PrimaryEclipseConstraint, is_event_observable,\n",
    "                       AtNightConstraint, AltitudeConstraint, LocalTimeConstraint)\n",
    "import datetime as dt"
   ]
  },
  {
   "cell_type": "code",
   "execution_count": 12,
   "metadata": {},
   "outputs": [],
   "source": [
    "### No need to change for BoiseState\n",
    "boiseState = Observer(longitude=-116.208710*u.deg, latitude=43.602*u.deg,\n",
    "                  elevation=821*u.m, name=\"BoiseState\", timezone=\"US/Mountain\")\n",
    "\n",
    "#### Change value to mid transit time. Doesn't have to been super accurate\n",
    "primary_eclipse_time = Time(2460477.80096, format='jd')\n",
    "\n",
    "### Change orbital period in days\n",
    "orbital_period = 1.306* u.day\n",
    "\n",
    "### Change to duration in days\n",
    "eclipse_duration = 0.0549 * u.day\n",
    "\n",
    "### Change name to target\n",
    "transit = EclipsingSystem(primary_eclipse_time=primary_eclipse_time,\n",
    "                           orbital_period=orbital_period, duration=eclipse_duration,\n",
    "                           name='TrES-3')\n",
    "target = FixedTarget.from_name('TrES-3')\n",
    "\n",
    "### Change to sunset and sunrise\n",
    "obs_time = Time('2024-07-22 00:00')\n",
    "n_transits = 50\n",
    "min_local_time = dt.time(21, 0) \n",
    "max_local_time = dt.time(5, 0)  \n",
    "midtransit_times = transit.next_primary_eclipse_time(obs_time, n_eclipses=n_transits)\n",
    "constraints = [AltitudeConstraint(min=30*u.deg), LocalTimeConstraint(min=min_local_time, max=max_local_time)]\n",
    "midTimeObs = is_event_observable(constraints, boiseState, target, times=midtransit_times)"
   ]
  },
  {
   "cell_type": "code",
   "execution_count": 13,
   "metadata": {},
   "outputs": [
    {
     "name": "stdout",
     "output_type": "stream",
     "text": [
      "['2024-07-22 20:51:18.144' '2024-07-24 04:11:56.544'\n",
      " '2024-07-25 11:32:34.944' '2024-07-26 18:53:13.344'\n",
      " '2024-07-28 02:13:51.744' '2024-07-29 09:34:30.144'\n",
      " '2024-07-30 16:55:08.544' '2024-08-01 00:15:46.944'\n",
      " '2024-08-02 07:36:25.344' '2024-08-03 14:57:03.744'\n",
      " '2024-08-04 22:17:42.144' '2024-08-06 05:38:20.544'\n",
      " '2024-08-07 12:58:58.944' '2024-08-08 20:19:37.344'\n",
      " '2024-08-10 03:40:15.744' '2024-08-11 11:00:54.144'\n",
      " '2024-08-12 18:21:32.544' '2024-08-14 01:42:10.944'\n",
      " '2024-08-15 09:02:49.344' '2024-08-16 16:23:27.744'\n",
      " '2024-08-17 23:44:06.144' '2024-08-19 07:04:44.544'\n",
      " '2024-08-20 14:25:22.944' '2024-08-21 21:46:01.344'\n",
      " '2024-08-23 05:06:39.744' '2024-08-24 12:27:18.144'\n",
      " '2024-08-25 19:47:56.544' '2024-08-27 03:08:34.944'\n",
      " '2024-08-28 10:29:13.344' '2024-08-29 17:49:51.744'\n",
      " '2024-08-31 01:10:30.144' '2024-09-01 08:31:08.544'\n",
      " '2024-09-02 15:51:46.944' '2024-09-03 23:12:25.344'\n",
      " '2024-09-05 06:33:03.744' '2024-09-06 13:53:42.144'\n",
      " '2024-09-07 21:14:20.544' '2024-09-09 04:34:58.944'\n",
      " '2024-09-10 11:55:37.344' '2024-09-11 19:16:15.744'\n",
      " '2024-09-13 02:36:54.144' '2024-09-14 09:57:32.544'\n",
      " '2024-09-15 17:18:10.944' '2024-09-17 00:38:49.344'\n",
      " '2024-09-18 07:59:27.744' '2024-09-19 15:20:06.144'\n",
      " '2024-09-20 22:40:44.544' '2024-09-22 06:01:22.944'\n",
      " '2024-09-23 13:22:01.344' '2024-09-24 20:42:39.744']\n",
      "[[False  True False False  True False False  True False False  True False\n",
      "  False False  True False False  True False False  True False False  True\n",
      "  False False False  True False False  True False False  True False False\n",
      "  False False False False  True False False  True False False  True False\n",
      "  False False]]\n"
     ]
    }
   ],
   "source": [
    "ing_egr = transit.next_primary_ingress_egress_time(obs_time, n_eclipses=n_transits)\n",
    "ing_egr_bool = is_event_observable(constraints, boiseState, target, times_ingress_egress=ing_egr)\n",
    "print(midtransit_times)\n",
    "print(ing_egr_bool)"
   ]
  },
  {
   "cell_type": "code",
   "execution_count": 14,
   "metadata": {},
   "outputs": [
    {
     "name": "stdout",
     "output_type": "stream",
     "text": [
      "Eclipse 1: Ingress: 2024-07-24 03:32:24.864, Egress: 2024-07-24 04:51:28.224\n",
      "Eclipse 2: Ingress: 2024-07-28 01:34:20.064, Egress: 2024-07-28 02:53:23.424\n",
      "Eclipse 3: Ingress: 2024-07-31 23:36:15.264, Egress: 2024-08-01 00:55:18.624\n",
      "Eclipse 4: Ingress: 2024-08-04 21:38:10.464, Egress: 2024-08-04 22:57:13.824\n",
      "Eclipse 5: Ingress: 2024-08-10 03:00:44.064, Egress: 2024-08-10 04:19:47.424\n",
      "Eclipse 6: Ingress: 2024-08-14 01:02:39.264, Egress: 2024-08-14 02:21:42.624\n",
      "Eclipse 7: Ingress: 2024-08-17 23:04:34.464, Egress: 2024-08-18 00:23:37.824\n",
      "Eclipse 8: Ingress: 2024-08-21 21:06:29.664, Egress: 2024-08-21 22:25:33.024\n",
      "Eclipse 9: Ingress: 2024-08-27 02:29:03.264, Egress: 2024-08-27 03:48:06.624\n",
      "Eclipse 10: Ingress: 2024-08-31 00:30:58.464, Egress: 2024-08-31 01:50:01.824\n",
      "Eclipse 11: Ingress: 2024-09-03 22:32:53.664, Egress: 2024-09-03 23:51:57.024\n",
      "Eclipse 12: Ingress: 2024-09-13 01:57:22.464, Egress: 2024-09-13 03:16:25.824\n",
      "Eclipse 13: Ingress: 2024-09-16 23:59:17.664, Egress: 2024-09-17 01:18:21.024\n",
      "Eclipse 14: Ingress: 2024-09-20 22:01:12.864, Egress: 2024-09-20 23:20:16.224\n"
     ]
    }
   ],
   "source": [
    "filtered_ing_egr = [time for time, is_observable in zip(ing_egr, ing_egr_bool[0]) if is_observable]\n",
    "meep = 0\n",
    "for i in filtered_ing_egr:\n",
    "    ing = i[0].iso\n",
    "    egr = i[1].iso\n",
    "    print(f\"Eclipse {meep+1}: Ingress: {ing}, Egress: {egr}\")\n",
    "    meep += 1"
   ]
  },
  {
   "cell_type": "code",
   "execution_count": 10,
   "metadata": {},
   "outputs": [
    {
     "name": "stdout",
     "output_type": "stream",
     "text": [
      "Eclipse 1: Ingress: 2024-07-22 20:11:46.464, Egress: 2024-07-22 21:30:49.824\n",
      "Eclipse 2: Ingress: 2024-07-24 03:32:24.864, Egress: 2024-07-24 04:51:28.224\n",
      "Eclipse 3: Ingress: 2024-07-25 10:53:03.264, Egress: 2024-07-25 12:12:06.624\n",
      "Eclipse 4: Ingress: 2024-07-26 18:13:41.664, Egress: 2024-07-26 19:32:45.024\n",
      "Eclipse 5: Ingress: 2024-07-28 01:34:20.064, Egress: 2024-07-28 02:53:23.424\n",
      "Eclipse 6: Ingress: 2024-07-29 08:54:58.464, Egress: 2024-07-29 10:14:01.824\n",
      "Eclipse 7: Ingress: 2024-07-30 16:15:36.864, Egress: 2024-07-30 17:34:40.224\n",
      "Eclipse 8: Ingress: 2024-07-31 23:36:15.264, Egress: 2024-08-01 00:55:18.624\n",
      "Eclipse 9: Ingress: 2024-08-02 06:56:53.664, Egress: 2024-08-02 08:15:57.024\n",
      "Eclipse 10: Ingress: 2024-08-03 14:17:32.064, Egress: 2024-08-03 15:36:35.424\n",
      "Eclipse 11: Ingress: 2024-08-04 21:38:10.464, Egress: 2024-08-04 22:57:13.824\n",
      "Eclipse 12: Ingress: 2024-08-06 04:58:48.864, Egress: 2024-08-06 06:17:52.224\n",
      "Eclipse 13: Ingress: 2024-08-07 12:19:27.264, Egress: 2024-08-07 13:38:30.624\n",
      "Eclipse 14: Ingress: 2024-08-08 19:40:05.664, Egress: 2024-08-08 20:59:09.024\n",
      "Eclipse 15: Ingress: 2024-08-10 03:00:44.064, Egress: 2024-08-10 04:19:47.424\n",
      "Eclipse 16: Ingress: 2024-08-11 10:21:22.464, Egress: 2024-08-11 11:40:25.824\n",
      "Eclipse 17: Ingress: 2024-08-12 17:42:00.864, Egress: 2024-08-12 19:01:04.224\n",
      "Eclipse 18: Ingress: 2024-08-14 01:02:39.264, Egress: 2024-08-14 02:21:42.624\n",
      "Eclipse 19: Ingress: 2024-08-15 08:23:17.664, Egress: 2024-08-15 09:42:21.024\n",
      "Eclipse 20: Ingress: 2024-08-16 15:43:56.064, Egress: 2024-08-16 17:02:59.424\n"
     ]
    }
   ],
   "source": [
    "next_eclipses = transit.next_primary_ingress_egress_time(obs_time, n_eclipses=20)\n",
    "# Convert the ingress and egress times to ISO format\n",
    "ingress_times_iso = [Time(t[0], format='jd').iso for t in next_eclipses]\n",
    "egress_times_iso = [Time(t[1], format='jd').iso for t in next_eclipses]\n",
    "\n",
    "# Print the results\n",
    "for i, (ingress, egress) in enumerate(zip(ingress_times_iso, egress_times_iso)):\n",
    "    print(f\"Eclipse {i+1}: Ingress: {ingress}, Egress: {egress}\")"
   ]
  },
  {
   "cell_type": "code",
   "execution_count": null,
   "metadata": {},
   "outputs": [],
   "source": [
    "#### For TrES 3 the next observable should be 08/02 at 0:16 - 3:37"
   ]
  }
 ],
 "metadata": {
  "kernelspec": {
   "display_name": ".venv",
   "language": "python",
   "name": "python3"
  },
  "language_info": {
   "codemirror_mode": {
    "name": "ipython",
    "version": 3
   },
   "file_extension": ".py",
   "mimetype": "text/x-python",
   "name": "python",
   "nbconvert_exporter": "python",
   "pygments_lexer": "ipython3",
   "version": "3.9.6"
  }
 },
 "nbformat": 4,
 "nbformat_minor": 2
}
