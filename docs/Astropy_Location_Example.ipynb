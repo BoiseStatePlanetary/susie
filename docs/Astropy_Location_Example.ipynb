{
 "cells": [
  {
   "cell_type": "markdown",
   "id": "e7c2f92a",
   "metadata": {},
   "source": [
    "I (<decaelus@gmail.com>) am trying to figure out how to use astropy's EarthLocation class (https://docs.astropy.org/en/stable/api/astropy.coordinates.EarthLocation.html#astropy.coordinates.EarthLocation). This notebook is exploring that. "
   ]
  },
  {
   "cell_type": "code",
   "execution_count": 8,
   "id": "f9e02819",
   "metadata": {},
   "outputs": [
    {
     "name": "stdout",
     "output_type": "stream",
     "text": [
      "(0., 0., 0.) m\n"
     ]
    }
   ],
   "source": [
    "from astropy.coordinates import EarthLocation\n",
    "import astropy.units as u\n",
    "from astropy import time\n",
    "\n",
    "print(EarthLocation.from_geocentric(0., 0., 0., unit=u.m))\n",
    "\n",
    "# From https://docs.astropy.org/en/stable/time/#barycentric-and-heliocentric-light-travel-time-corrections\n",
    "times = time.Time([56325.95833333, 56325.978254], format='mjd', scale='utc', \n",
    "                  location=EarthLocation.from_geocentric(0., 0., 0., unit=u.m))"
   ]
  }
 ],
 "metadata": {
  "kernelspec": {
   "display_name": "Python 3 (ipykernel)",
   "language": "python",
   "name": "python3"
  },
  "language_info": {
   "codemirror_mode": {
    "name": "ipython",
    "version": 3
   },
   "file_extension": ".py",
   "mimetype": "text/x-python",
   "name": "python",
   "nbconvert_exporter": "python",
   "pygments_lexer": "ipython3",
   "version": "3.11.5"
  }
 },
 "nbformat": 4,
 "nbformat_minor": 5
}
