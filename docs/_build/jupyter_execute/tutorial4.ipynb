{
 "cells": [
  {
   "cell_type": "markdown",
   "metadata": {},
   "source": [
    "### 🔷 **STEP 3:** Create more models and visulaizations. "
   ]
  },
  {
   "cell_type": "code",
   "execution_count": 1,
   "metadata": {},
   "outputs": [],
   "source": [
    "import numpy as np\n",
    "from susie.transit_times import TransitTimes\n",
    "from susie.ephemeris import Ephemeris\n",
    "import matplotlib.pyplot as plt\n",
    "from astropy import coordinates as coords\n",
    "from astropy import units as u\n",
    "from astropy import time"
   ]
  },
  {
   "cell_type": "markdown",
   "metadata": {},
   "source": [
    "The last two methods accessible to the user are an OC plotting method and a running delta BIC plotting method."
   ]
  },
  {
   "cell_type": "markdown",
   "metadata": {},
   "source": [
    "**The OC Plot Method:**\n",
    " \n",
    "The OC (Observed - Calculated) Plot method just plots the observed minus calculated values of mid transit times for the linear and quadratic models. This is calculated with {math}`x=E, y=T_0-PE, y_{\\rm err}=\\sigma T_0` and a curve with the quadratic term {math}`(x=E, y=0.5 \\frac{dP}{dE} (E - {\\rm median} (E))^2)`."
   ]
  },
  {
   "cell_type": "code",
   "execution_count": 2,
   "metadata": {},
   "outputs": [
    {
     "ename": "NameError",
     "evalue": "name 'ephemeris_obj1' is not defined",
     "output_type": "error",
     "traceback": [
      "\u001b[1;31m---------------------------------------------------------------------------\u001b[0m",
      "\u001b[1;31mNameError\u001b[0m                                 Traceback (most recent call last)",
      "Cell \u001b[1;32mIn[2], line 1\u001b[0m\n\u001b[1;32m----> 1\u001b[0m \u001b[43mephemeris_obj1\u001b[49m\u001b[38;5;241m.\u001b[39mplot_oc_plot()\n",
      "\u001b[1;31mNameError\u001b[0m: name 'ephemeris_obj1' is not defined"
     ]
    }
   ],
   "source": [
    "ephemeris_obj1.plot_oc_plot()"
   ]
  },
  {
   "cell_type": "markdown",
   "metadata": {},
   "source": [
    "**Plot running Delta BIC Method:**\n",
    "\n",
    "The `plot_running_delta_bic` method plots the {math}`\\Delta BIC` value for each epoch, so you can see the evolution of the {math}`\\Delta BIC` value over time. \n"
   ]
  },
  {
   "cell_type": "code",
   "execution_count": 2,
   "metadata": {},
   "outputs": [
    {
     "ename": "NameError",
     "evalue": "name 'ephemeris_obj1' is not defined",
     "output_type": "error",
     "traceback": [
      "\u001b[1;31m---------------------------------------------------------------------------\u001b[0m",
      "\u001b[1;31mNameError\u001b[0m                                 Traceback (most recent call last)",
      "Cell \u001b[1;32mIn[2], line 1\u001b[0m\n\u001b[1;32m----> 1\u001b[0m \u001b[43mephemeris_obj1\u001b[49m\u001b[38;5;241m.\u001b[39mplot_running_delta_bic()\n",
      "\u001b[1;31mNameError\u001b[0m: name 'ephemeris_obj1' is not defined"
     ]
    }
   ],
   "source": [
    "ephemeris_obj1.plot_running_delta_bic()"
   ]
  },
  {
   "cell_type": "code",
   "execution_count": null,
   "metadata": {},
   "outputs": [],
   "source": []
  }
 ],
 "metadata": {
  "kernelspec": {
   "display_name": "venv",
   "language": "python",
   "name": "python3"
  },
  "language_info": {
   "codemirror_mode": {
    "name": "ipython",
    "version": 3
   },
   "file_extension": ".py",
   "mimetype": "text/x-python",
   "name": "python",
   "nbconvert_exporter": "python",
   "pygments_lexer": "ipython3",
   "version": "3.12.1"
  }
 },
 "nbformat": 4,
 "nbformat_minor": 2
}