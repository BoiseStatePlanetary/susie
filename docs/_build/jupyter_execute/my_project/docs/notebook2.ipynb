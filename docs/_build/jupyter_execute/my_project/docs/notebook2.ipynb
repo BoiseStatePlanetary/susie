{
 "cells": [
  {
   "cell_type": "markdown",
<<<<<<< HEAD
   "id": "01ff2097",
=======
   "id": "a664fbe0",
>>>>>>> b8d942c6a20d9772e9dd39d0a2a25b3513fa5156
   "metadata": {},
   "source": [
    "# Text-based Notebook"
   ]
  },
  {
   "cell_type": "code",
   "execution_count": 1,
<<<<<<< HEAD
   "id": "5fff6093",
=======
   "id": "4613a511",
>>>>>>> b8d942c6a20d9772e9dd39d0a2a25b3513fa5156
   "metadata": {},
   "outputs": [
    {
     "name": "stdout",
     "output_type": "stream",
     "text": [
      "Hello, World!\n"
     ]
    }
   ],
   "source": [
    "print(\"Hello, World!\")"
   ]
  }
 ],
 "metadata": {
  "file_format": "mystnb",
  "kernelspec": {
   "display_name": "python3",
   "name": "python3"
  },
  "language_info": {
   "codemirror_mode": {
    "name": "ipython",
    "version": 3
   },
   "file_extension": ".py",
   "mimetype": "text/x-python",
   "name": "python",
   "nbconvert_exporter": "python",
   "pygments_lexer": "ipython3",
   "version": "3.11.7"
  },
  "source_map": [
   5,
   9
  ]
 },
 "nbformat": 4,
 "nbformat_minor": 5
}