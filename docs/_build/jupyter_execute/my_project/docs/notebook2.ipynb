{
 "cells": [
  {
   "cell_type": "markdown",
   "id": "d5376100",
   "metadata": {},
   "source": [
    "# Text-based Notebook"
   ]
  },
  {
   "cell_type": "code",
   "execution_count": 1,
   "id": "ce20dc89",
   "metadata": {},
   "outputs": [
    {
     "name": "stdout",
     "output_type": "stream",
     "text": [
      "Hello, World!\n"
     ]
    }
   ],
   "source": [
    "print(\"Hello, World!\")"
   ]
  }
 ],
 "metadata": {
  "file_format": "mystnb",
  "kernelspec": {
   "display_name": "python3",
   "name": "python3"
  },
  "language_info": {
   "codemirror_mode": {
    "name": "ipython",
    "version": 3
   },
   "file_extension": ".py",
   "mimetype": "text/x-python",
   "name": "python",
   "nbconvert_exporter": "python",
   "pygments_lexer": "ipython3",
   "version": "3.9.7"
  },
  "source_map": [
   5,
   9
  ]
 },
 "nbformat": 4,
 "nbformat_minor": 5
}